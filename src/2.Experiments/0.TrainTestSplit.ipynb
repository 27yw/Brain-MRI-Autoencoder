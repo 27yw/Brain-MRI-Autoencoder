{
 "cells": [
  {
   "cell_type": "markdown",
   "metadata": {},
   "source": [
    "# Train&Validation - Test Split\n",
    "****************\n",
    "\n",
    "**<div itemscope itemtype=\"https://schema.org/Person\"><a itemprop=\"sameAs\" content=\"https://orcid.org/0000-0001-5567-801X\" href=\"https://orcid.org/0000-0001-5567-801X\" target=\"orcid.widget\" rel=\"me noopener noreferrer\" style=\"vertical-align:top;\"><img src=\"https://orcid.org/sites/default/files/images/orcid_16x16.png\" style=\"width:1em;margin-left:0em;\"  alt=\"ORCID iD icon\">Adrián Arnaiz-Rodríguez</a></div>**"
   ]
  },
  {
   "cell_type": "markdown",
   "metadata": {
    "toc": true
   },
   "source": [
    "<h1>Table of Contents<span class=\"tocSkip\"></span></h1>\n",
    "<div class=\"toc\"><ul class=\"toc-item\"><li><span><a href=\"#Approach\" data-toc-modified-id=\"Approach-1\"><span class=\"toc-item-num\">1&nbsp;&nbsp;</span>Approach</a></span></li><li><span><a href=\"#Get-the-valid-number-of-slices-of-each-volume\" data-toc-modified-id=\"Get-the-valid-number-of-slices-of-each-volume-2\"><span class=\"toc-item-num\">2&nbsp;&nbsp;</span>Get the valid number of slices of each volume</a></span><ul class=\"toc-item\"><li><span><a href=\"#How-many-RELEVANT-Slides-has-each-volume?\" data-toc-modified-id=\"How-many-RELEVANT-Slides-has-each-volume?-2.1\"><span class=\"toc-item-num\">2.1&nbsp;&nbsp;</span>How many RELEVANT Slides has each volume?</a></span></li><li><span><a href=\"#How-many-volumes-should-be-in-each-set?\" data-toc-modified-id=\"How-many-volumes-should-be-in-each-set?-2.2\"><span class=\"toc-item-num\">2.2&nbsp;&nbsp;</span>How many volumes should be in each set?</a></span></li><li><span><a href=\"#How-many-slides-should-be-on-each-set?\" data-toc-modified-id=\"How-many-slides-should-be-on-each-set?-2.3\"><span class=\"toc-item-num\">2.3&nbsp;&nbsp;</span>How many slides should be on each set?</a></span></li></ul></li><li><span><a href=\"#Stratified-vol-splitting\" data-toc-modified-id=\"Stratified-vol-splitting-3\"><span class=\"toc-item-num\">3&nbsp;&nbsp;</span>Stratified vol splitting</a></span><ul class=\"toc-item\"><li><span><a href=\"#Select-metadata-from-our-MRI-volumes\" data-toc-modified-id=\"Select-metadata-from-our-MRI-volumes-3.1\"><span class=\"toc-item-num\">3.1&nbsp;&nbsp;</span>Select metadata from our MRI volumes</a></span></li><li><span><a href=\"#Identify-non-age-volumes-and-remove-duplicated\" data-toc-modified-id=\"Identify-non-age-volumes-and-remove-duplicated-3.2\"><span class=\"toc-item-num\">3.2&nbsp;&nbsp;</span>Identify non-age volumes and remove duplicated</a></span></li><li><span><a href=\"#Identify-attribute-distribution\" data-toc-modified-id=\"Identify-attribute-distribution-3.3\"><span class=\"toc-item-num\">3.3&nbsp;&nbsp;</span>Identify attribute distribution</a></span><ul class=\"toc-item\"><li><span><a href=\"#Age\" data-toc-modified-id=\"Age-3.3.1\"><span class=\"toc-item-num\">3.3.1&nbsp;&nbsp;</span>Age</a></span></li><li><span><a href=\"#Sex\" data-toc-modified-id=\"Sex-3.3.2\"><span class=\"toc-item-num\">3.3.2&nbsp;&nbsp;</span>Sex</a></span></li><li><span><a href=\"#Ethnic\" data-toc-modified-id=\"Ethnic-3.3.3\"><span class=\"toc-item-num\">3.3.3&nbsp;&nbsp;</span>Ethnic</a></span></li></ul></li><li><span><a href=\"#Stratify-by-age-and-ethnic\" data-toc-modified-id=\"Stratify-by-age-and-ethnic-3.4\"><span class=\"toc-item-num\">3.4&nbsp;&nbsp;</span>Stratify by age and ethnic</a></span><ul class=\"toc-item\"><li><span><a href=\"#How-are-going-to-be-stratified?\" data-toc-modified-id=\"How-are-going-to-be-stratified?-3.4.1\"><span class=\"toc-item-num\">3.4.1&nbsp;&nbsp;</span>How are going to be stratified?</a></span><ul class=\"toc-item\"><li><span><a href=\"#Test\" data-toc-modified-id=\"Test-3.4.1.1\"><span class=\"toc-item-num\">3.4.1.1&nbsp;&nbsp;</span>Test</a></span></li><li><span><a href=\"#Train-and-validation\" data-toc-modified-id=\"Train-and-validation-3.4.1.2\"><span class=\"toc-item-num\">3.4.1.2&nbsp;&nbsp;</span>Train and validation</a></span></li></ul></li><li><span><a href=\"#Check-Number-of-slices-in-each-set\" data-toc-modified-id=\"Check-Number-of-slices-in-each-set-3.4.2\"><span class=\"toc-item-num\">3.4.2&nbsp;&nbsp;</span>Check Number of slices in each set</a></span><ul class=\"toc-item\"><li><span><a href=\"#Train&amp;Val\" data-toc-modified-id=\"Train&amp;Val-3.4.2.1\"><span class=\"toc-item-num\">3.4.2.1&nbsp;&nbsp;</span>Train&amp;Val</a></span></li><li><span><a href=\"#Test\" data-toc-modified-id=\"Test-3.4.2.2\"><span class=\"toc-item-num\">3.4.2.2&nbsp;&nbsp;</span>Test</a></span></li></ul></li></ul></li></ul></li><li><span><a href=\"#Conclussion\" data-toc-modified-id=\"Conclussion-4\"><span class=\"toc-item-num\">4&nbsp;&nbsp;</span>Conclussion</a></span><ul class=\"toc-item\"><li><span><a href=\"#Size-of-each-set\" data-toc-modified-id=\"Size-of-each-set-4.1\"><span class=\"toc-item-num\">4.1&nbsp;&nbsp;</span>Size of each set</a></span></li><li><span><a href=\"#Check-attribute-distributions-in-each-set\" data-toc-modified-id=\"Check-attribute-distributions-in-each-set-4.2\"><span class=\"toc-item-num\">4.2&nbsp;&nbsp;</span>Check attribute distributions in each set</a></span></li></ul></li></ul></div>"
   ]
  },
  {
   "cell_type": "code",
   "execution_count": 1,
   "metadata": {
    "ExecuteTime": {
     "end_time": "2020-11-12T10:11:04.069069Z",
     "start_time": "2020-11-12T10:11:02.902312Z"
    }
   },
   "outputs": [],
   "source": [
    "import pickle as pkl\n",
    "import pandas as pd\n",
    "import matplotlib.pyplot as plt\n",
    "import numpy as np\n",
    "import warnings\n",
    "warnings.filterwarnings(\"ignore\")"
   ]
  },
  {
   "cell_type": "markdown",
   "metadata": {},
   "source": [
    "## Approach\n",
    "We will dived in a stratified way the train and test data. Train images will be splitted in train and validation through ImageDataGenerator of keras.\n",
    "\n",
    "The data will be **stratified by sex and age**\n",
    "\n",
    "**Approach**: Get aprox 90% for training and validation and 8% for final testing. Then get 85% of this 92% as training set and the 15% as validation set. Thus, we had 76.5% for training, 13.5% for validation and 10% for testing.\n",
    "\n",
    "* Get metadata from volumes\n",
    "* Stratify volumes from this metadata distributions\n",
    "* Set separate folder for images extracted from train&validation volumes and for test volumes"
   ]
  },
  {
   "cell_type": "markdown",
   "metadata": {},
   "source": [
    "## Get the valid number of slices of each volume\n",
    "\n",
    "**This will be used later. Onces volumes will be stratified, we check if the number of relevant slices are similar to he required one**\n",
    "\n",
    "**WE DO NOT STRATIFY STRIGHT FROM IMAGES DUE TO THE BIG CORRELATION OF THE IMAGES OF A SAME VOLUME. IF WE SPLIT IN A STRATIFY WAY FROM THE IMAGES, TRAIN AND TEST WILL BE ALMOST THE SAME. MAYBE, IT COULD HAPPENS THAT 2 SLICES, WHICH ARE ALMOST IDENTICAL BECAUSE THEY ARE NEAR IN THE SAME VOLUME, BELONG TO DIFFERENT SETS. IT IS BETTER TO STRATIFY  FROM VOLUMES TO AVOID THIS BIG CORRELATION**"
   ]
  },
  {
   "cell_type": "code",
   "execution_count": 2,
   "metadata": {
    "ExecuteTime": {
     "end_time": "2020-11-12T10:11:04.130131Z",
     "start_time": "2020-11-12T10:11:04.072924Z"
    }
   },
   "outputs": [],
   "source": [
    "with open('../1.DataPreprocessing/deepbrain_image_data.pickle', 'rb') as handle:\n",
    "    df_deepbrain_data = pkl.load(handle) "
   ]
  },
  {
   "cell_type": "code",
   "execution_count": 3,
   "metadata": {
    "ExecuteTime": {
     "end_time": "2020-11-12T10:11:04.366511Z",
     "start_time": "2020-11-12T10:11:04.143742Z"
    }
   },
   "outputs": [
    {
     "data": {
      "text/html": [
       "<div>\n",
       "<style scoped>\n",
       "    .dataframe tbody tr th:only-of-type {\n",
       "        vertical-align: middle;\n",
       "    }\n",
       "\n",
       "    .dataframe tbody tr th {\n",
       "        vertical-align: top;\n",
       "    }\n",
       "\n",
       "    .dataframe thead th {\n",
       "        text-align: right;\n",
       "    }\n",
       "</style>\n",
       "<table border=\"1\" class=\"dataframe\">\n",
       "  <thead>\n",
       "    <tr style=\"text-align: right;\">\n",
       "      <th></th>\n",
       "      <th>ID</th>\n",
       "      <th>BRAIN_QUANTITY</th>\n",
       "      <th>VOL_ID</th>\n",
       "    </tr>\n",
       "  </thead>\n",
       "  <tbody>\n",
       "    <tr>\n",
       "      <th>9468</th>\n",
       "      <td>IXI077-Guys-0752-T1_82</td>\n",
       "      <td>15997.0</td>\n",
       "      <td>77</td>\n",
       "    </tr>\n",
       "    <tr>\n",
       "      <th>5777</th>\n",
       "      <td>IXI052-HH-1343-T1_141</td>\n",
       "      <td>0.0</td>\n",
       "      <td>52</td>\n",
       "    </tr>\n",
       "    <tr>\n",
       "      <th>73767</th>\n",
       "      <td>IXI551-Guys-1065-T1_133</td>\n",
       "      <td>0.0</td>\n",
       "      <td>551</td>\n",
       "    </tr>\n",
       "    <tr>\n",
       "      <th>34724</th>\n",
       "      <td>IXI263-HH-1684-T1_12</td>\n",
       "      <td>0.0</td>\n",
       "      <td>263</td>\n",
       "    </tr>\n",
       "    <tr>\n",
       "      <th>28357</th>\n",
       "      <td>IXI216-HH-1635-T1_71</td>\n",
       "      <td>17939.0</td>\n",
       "      <td>216</td>\n",
       "    </tr>\n",
       "    <tr>\n",
       "      <th>8906</th>\n",
       "      <td>IXI073-Guys-0755-T1_120</td>\n",
       "      <td>5592.0</td>\n",
       "      <td>73</td>\n",
       "    </tr>\n",
       "    <tr>\n",
       "      <th>49523</th>\n",
       "      <td>IXI377-Guys-0937-T1_57</td>\n",
       "      <td>14312.0</td>\n",
       "      <td>377</td>\n",
       "    </tr>\n",
       "  </tbody>\n",
       "</table>\n",
       "</div>"
      ],
      "text/plain": [
       "                            ID  BRAIN_QUANTITY  VOL_ID\n",
       "9468    IXI077-Guys-0752-T1_82         15997.0      77\n",
       "5777     IXI052-HH-1343-T1_141             0.0      52\n",
       "73767  IXI551-Guys-1065-T1_133             0.0     551\n",
       "34724     IXI263-HH-1684-T1_12             0.0     263\n",
       "28357     IXI216-HH-1635-T1_71         17939.0     216\n",
       "8906   IXI073-Guys-0755-T1_120          5592.0      73\n",
       "49523   IXI377-Guys-0937-T1_57         14312.0     377"
      ]
     },
     "execution_count": 3,
     "metadata": {},
     "output_type": "execute_result"
    }
   ],
   "source": [
    "df_deepbrain_data['VOL_ID'] = df_deepbrain_data['ID'].apply(lambda x: x.split('-')[0][3:])\n",
    "df_deepbrain_data = df_deepbrain_data.astype({'VOL_ID': 'int64'})\n",
    "df_deepbrain_data.sample(7)"
   ]
  },
  {
   "cell_type": "code",
   "execution_count": 4,
   "metadata": {
    "ExecuteTime": {
     "end_time": "2020-11-12T10:11:04.429267Z",
     "start_time": "2020-11-12T10:11:04.371555Z"
    }
   },
   "outputs": [
    {
     "data": {
      "text/html": [
       "<div>\n",
       "<style scoped>\n",
       "    .dataframe tbody tr th:only-of-type {\n",
       "        vertical-align: middle;\n",
       "    }\n",
       "\n",
       "    .dataframe tbody tr th {\n",
       "        vertical-align: top;\n",
       "    }\n",
       "\n",
       "    .dataframe thead th {\n",
       "        text-align: right;\n",
       "    }\n",
       "</style>\n",
       "<table border=\"1\" class=\"dataframe\">\n",
       "  <thead>\n",
       "    <tr style=\"text-align: right;\">\n",
       "      <th></th>\n",
       "      <th>BRAIN_QUANTITY</th>\n",
       "      <th>VOL_ID</th>\n",
       "    </tr>\n",
       "  </thead>\n",
       "  <tbody>\n",
       "    <tr>\n",
       "      <th>count</th>\n",
       "      <td>86794.000000</td>\n",
       "      <td>86794.00000</td>\n",
       "    </tr>\n",
       "    <tr>\n",
       "      <th>mean</th>\n",
       "      <td>9051.895419</td>\n",
       "      <td>327.90451</td>\n",
       "    </tr>\n",
       "    <tr>\n",
       "      <th>std</th>\n",
       "      <td>6956.157762</td>\n",
       "      <td>185.38492</td>\n",
       "    </tr>\n",
       "    <tr>\n",
       "      <th>min</th>\n",
       "      <td>0.000000</td>\n",
       "      <td>2.00000</td>\n",
       "    </tr>\n",
       "    <tr>\n",
       "      <th>25%</th>\n",
       "      <td>0.000000</td>\n",
       "      <td>167.00000</td>\n",
       "    </tr>\n",
       "    <tr>\n",
       "      <th>50%</th>\n",
       "      <td>10785.500000</td>\n",
       "      <td>328.00000</td>\n",
       "    </tr>\n",
       "    <tr>\n",
       "      <th>75%</th>\n",
       "      <td>15382.000000</td>\n",
       "      <td>485.00000</td>\n",
       "    </tr>\n",
       "    <tr>\n",
       "      <th>max</th>\n",
       "      <td>22830.000000</td>\n",
       "      <td>662.00000</td>\n",
       "    </tr>\n",
       "  </tbody>\n",
       "</table>\n",
       "</div>"
      ],
      "text/plain": [
       "       BRAIN_QUANTITY       VOL_ID\n",
       "count    86794.000000  86794.00000\n",
       "mean      9051.895419    327.90451\n",
       "std       6956.157762    185.38492\n",
       "min          0.000000      2.00000\n",
       "25%          0.000000    167.00000\n",
       "50%      10785.500000    328.00000\n",
       "75%      15382.000000    485.00000\n",
       "max      22830.000000    662.00000"
      ]
     },
     "execution_count": 4,
     "metadata": {},
     "output_type": "execute_result"
    }
   ],
   "source": [
    "df_deepbrain_data.describe()"
   ]
  },
  {
   "cell_type": "code",
   "execution_count": 5,
   "metadata": {
    "ExecuteTime": {
     "end_time": "2020-11-12T10:11:04.506646Z",
     "start_time": "2020-11-12T10:11:04.433776Z"
    }
   },
   "outputs": [
    {
     "data": {
      "text/html": [
       "<div>\n",
       "<style scoped>\n",
       "    .dataframe tbody tr th:only-of-type {\n",
       "        vertical-align: middle;\n",
       "    }\n",
       "\n",
       "    .dataframe tbody tr th {\n",
       "        vertical-align: top;\n",
       "    }\n",
       "\n",
       "    .dataframe thead th {\n",
       "        text-align: right;\n",
       "    }\n",
       "</style>\n",
       "<table border=\"1\" class=\"dataframe\">\n",
       "  <thead>\n",
       "    <tr style=\"text-align: right;\">\n",
       "      <th></th>\n",
       "      <th>BRAIN_QUANTITY</th>\n",
       "      <th>VOL_ID</th>\n",
       "    </tr>\n",
       "  </thead>\n",
       "  <tbody>\n",
       "    <tr>\n",
       "      <th>count</th>\n",
       "      <td>59278.000000</td>\n",
       "      <td>59278.000000</td>\n",
       "    </tr>\n",
       "    <tr>\n",
       "      <th>mean</th>\n",
       "      <td>13122.107257</td>\n",
       "      <td>328.464186</td>\n",
       "    </tr>\n",
       "    <tr>\n",
       "      <th>std</th>\n",
       "      <td>4285.977381</td>\n",
       "      <td>185.880795</td>\n",
       "    </tr>\n",
       "    <tr>\n",
       "      <th>min</th>\n",
       "      <td>3001.000000</td>\n",
       "      <td>2.000000</td>\n",
       "    </tr>\n",
       "    <tr>\n",
       "      <th>25%</th>\n",
       "      <td>10387.250000</td>\n",
       "      <td>166.000000</td>\n",
       "    </tr>\n",
       "    <tr>\n",
       "      <th>50%</th>\n",
       "      <td>14275.000000</td>\n",
       "      <td>328.000000</td>\n",
       "    </tr>\n",
       "    <tr>\n",
       "      <th>75%</th>\n",
       "      <td>16264.750000</td>\n",
       "      <td>486.000000</td>\n",
       "    </tr>\n",
       "    <tr>\n",
       "      <th>max</th>\n",
       "      <td>22830.000000</td>\n",
       "      <td>662.000000</td>\n",
       "    </tr>\n",
       "  </tbody>\n",
       "</table>\n",
       "</div>"
      ],
      "text/plain": [
       "       BRAIN_QUANTITY        VOL_ID\n",
       "count    59278.000000  59278.000000\n",
       "mean     13122.107257    328.464186\n",
       "std       4285.977381    185.880795\n",
       "min       3001.000000      2.000000\n",
       "25%      10387.250000    166.000000\n",
       "50%      14275.000000    328.000000\n",
       "75%      16264.750000    486.000000\n",
       "max      22830.000000    662.000000"
      ]
     },
     "execution_count": 5,
     "metadata": {},
     "output_type": "execute_result"
    }
   ],
   "source": [
    "slices_selected = df_deepbrain_data[df_deepbrain_data['BRAIN_QUANTITY']>3000].copy()\n",
    "slices_selected.describe()"
   ]
  },
  {
   "cell_type": "code",
   "execution_count": 6,
   "metadata": {
    "ExecuteTime": {
     "end_time": "2020-11-12T10:11:04.522650Z",
     "start_time": "2020-11-12T10:11:04.509566Z"
    }
   },
   "outputs": [
    {
     "data": {
      "text/plain": [
       "(581,)"
      ]
     },
     "execution_count": 6,
     "metadata": {},
     "output_type": "execute_result"
    }
   ],
   "source": [
    "slices_selected['VOL_ID'].unique().shape"
   ]
  },
  {
   "cell_type": "markdown",
   "metadata": {},
   "source": [
    "### How many RELEVANT Slides has each volume?"
   ]
  },
  {
   "cell_type": "code",
   "execution_count": 7,
   "metadata": {
    "ExecuteTime": {
     "end_time": "2020-11-12T10:11:04.569405Z",
     "start_time": "2020-11-12T10:11:04.527244Z"
    }
   },
   "outputs": [
    {
     "data": {
      "text/html": [
       "<div>\n",
       "<style scoped>\n",
       "    .dataframe tbody tr th:only-of-type {\n",
       "        vertical-align: middle;\n",
       "    }\n",
       "\n",
       "    .dataframe tbody tr th {\n",
       "        vertical-align: top;\n",
       "    }\n",
       "\n",
       "    .dataframe thead th {\n",
       "        text-align: right;\n",
       "    }\n",
       "</style>\n",
       "<table border=\"1\" class=\"dataframe\">\n",
       "  <thead>\n",
       "    <tr style=\"text-align: right;\">\n",
       "      <th></th>\n",
       "      <th>Count</th>\n",
       "    </tr>\n",
       "  </thead>\n",
       "  <tbody>\n",
       "    <tr>\n",
       "      <th>count</th>\n",
       "      <td>581.000000</td>\n",
       "    </tr>\n",
       "    <tr>\n",
       "      <th>mean</th>\n",
       "      <td>102.027539</td>\n",
       "    </tr>\n",
       "    <tr>\n",
       "      <th>std</th>\n",
       "      <td>4.573077</td>\n",
       "    </tr>\n",
       "    <tr>\n",
       "      <th>min</th>\n",
       "      <td>87.000000</td>\n",
       "    </tr>\n",
       "    <tr>\n",
       "      <th>25%</th>\n",
       "      <td>99.000000</td>\n",
       "    </tr>\n",
       "    <tr>\n",
       "      <th>50%</th>\n",
       "      <td>102.000000</td>\n",
       "    </tr>\n",
       "    <tr>\n",
       "      <th>75%</th>\n",
       "      <td>105.000000</td>\n",
       "    </tr>\n",
       "    <tr>\n",
       "      <th>max</th>\n",
       "      <td>114.000000</td>\n",
       "    </tr>\n",
       "  </tbody>\n",
       "</table>\n",
       "</div>"
      ],
      "text/plain": [
       "            Count\n",
       "count  581.000000\n",
       "mean   102.027539\n",
       "std      4.573077\n",
       "min     87.000000\n",
       "25%     99.000000\n",
       "50%    102.000000\n",
       "75%    105.000000\n",
       "max    114.000000"
      ]
     },
     "execution_count": 7,
     "metadata": {},
     "output_type": "execute_result"
    }
   ],
   "source": [
    "slices_per_volume = slices_selected.groupby('VOL_ID').count().drop(columns=['BRAIN_QUANTITY'], \n",
    "                                                                   axis=1).rename(columns={'ID':'Count'})\n",
    "slices_per_volume.describe()"
   ]
  },
  {
   "cell_type": "code",
   "execution_count": 8,
   "metadata": {
    "ExecuteTime": {
     "end_time": "2020-11-12T10:11:04.585392Z",
     "start_time": "2020-11-12T10:11:04.572131Z"
    }
   },
   "outputs": [
    {
     "data": {
      "text/html": [
       "<div>\n",
       "<style scoped>\n",
       "    .dataframe tbody tr th:only-of-type {\n",
       "        vertical-align: middle;\n",
       "    }\n",
       "\n",
       "    .dataframe tbody tr th {\n",
       "        vertical-align: top;\n",
       "    }\n",
       "\n",
       "    .dataframe thead th {\n",
       "        text-align: right;\n",
       "    }\n",
       "</style>\n",
       "<table border=\"1\" class=\"dataframe\">\n",
       "  <thead>\n",
       "    <tr style=\"text-align: right;\">\n",
       "      <th></th>\n",
       "      <th>Count</th>\n",
       "    </tr>\n",
       "    <tr>\n",
       "      <th>VOL_ID</th>\n",
       "      <th></th>\n",
       "    </tr>\n",
       "  </thead>\n",
       "  <tbody>\n",
       "    <tr>\n",
       "      <th>431</th>\n",
       "      <td>93</td>\n",
       "    </tr>\n",
       "    <tr>\n",
       "      <th>160</th>\n",
       "      <td>97</td>\n",
       "    </tr>\n",
       "    <tr>\n",
       "      <th>342</th>\n",
       "      <td>106</td>\n",
       "    </tr>\n",
       "  </tbody>\n",
       "</table>\n",
       "</div>"
      ],
      "text/plain": [
       "        Count\n",
       "VOL_ID       \n",
       "431        93\n",
       "160        97\n",
       "342       106"
      ]
     },
     "execution_count": 8,
     "metadata": {},
     "output_type": "execute_result"
    }
   ],
   "source": [
    "slices_per_volume.sample(3)"
   ]
  },
  {
   "cell_type": "code",
   "execution_count": 9,
   "metadata": {
    "ExecuteTime": {
     "end_time": "2020-11-12T10:11:04.775900Z",
     "start_time": "2020-11-12T10:11:04.587358Z"
    }
   },
   "outputs": [
    {
     "data": {
      "image/png": "[encoded data removed]",
      "text/plain": [
       "<Figure size 432x288 with 1 Axes>"
      ]
     },
     "metadata": {
      "needs_background": "light"
     },
     "output_type": "display_data"
    }
   ],
   "source": [
    "slices_per_volume.plot()\n",
    "plt.ylim(20);"
   ]
  },
  {
   "cell_type": "markdown",
   "metadata": {},
   "source": [
    "### How many volumes should be in each set?\n"
   ]
  },
  {
   "cell_type": "code",
   "execution_count": 10,
   "metadata": {
    "ExecuteTime": {
     "end_time": "2020-11-12T10:11:04.791388Z",
     "start_time": "2020-11-12T10:11:04.777848Z"
    }
   },
   "outputs": [],
   "source": [
    "train_and_val_size = 0.92\n",
    "train_size = 0.85 #out of 0.9\n",
    "validation_size = 0.15\n"
   ]
  },
  {
   "cell_type": "code",
   "execution_count": 11,
   "metadata": {
    "ExecuteTime": {
     "end_time": "2020-11-12T10:11:04.807468Z",
     "start_time": "2020-11-12T10:11:04.793383Z"
    }
   },
   "outputs": [
    {
     "data": {
      "text/plain": [
       "(534, 0.92)"
      ]
     },
     "execution_count": 11,
     "metadata": {},
     "output_type": "execute_result"
    }
   ],
   "source": [
    "total_vols = len(slices_per_volume)\n",
    "train_and_val_vol = int(total_vols*train_and_val_size)\n",
    "train_and_val_vol, train_and_val_size"
   ]
  },
  {
   "cell_type": "code",
   "execution_count": 12,
   "metadata": {
    "ExecuteTime": {
     "end_time": "2020-11-12T10:11:04.822336Z",
     "start_time": "2020-11-12T10:11:04.809341Z"
    }
   },
   "outputs": [
    {
     "data": {
      "text/plain": [
       "(47, 0.07999999999999996)"
      ]
     },
     "execution_count": 12,
     "metadata": {},
     "output_type": "execute_result"
    }
   ],
   "source": [
    "test_vols = total_vols - train_and_val_vol\n",
    "test_vols, 1-train_and_val_size"
   ]
  },
  {
   "cell_type": "code",
   "execution_count": 13,
   "metadata": {
    "ExecuteTime": {
     "end_time": "2020-11-12T10:11:04.838217Z",
     "start_time": "2020-11-12T10:11:04.825859Z"
    }
   },
   "outputs": [
    {
     "data": {
      "text/plain": [
       "(453, 0.782)"
      ]
     },
     "execution_count": 13,
     "metadata": {},
     "output_type": "execute_result"
    }
   ],
   "source": [
    "train_vols = int(train_and_val_vol*train_size)\n",
    "train_vols, train_and_val_size*train_size"
   ]
  },
  {
   "cell_type": "code",
   "execution_count": 14,
   "metadata": {
    "ExecuteTime": {
     "end_time": "2020-11-12T10:11:04.853344Z",
     "start_time": "2020-11-12T10:11:04.841496Z"
    }
   },
   "outputs": [
    {
     "data": {
      "text/plain": [
       "(81, 0.138)"
      ]
     },
     "execution_count": 14,
     "metadata": {},
     "output_type": "execute_result"
    }
   ],
   "source": [
    "validation_vols = train_and_val_vol - train_vols\n",
    "validation_vols, train_and_val_size*validation_size"
   ]
  },
  {
   "cell_type": "markdown",
   "metadata": {},
   "source": [
    "### How many slides should be on each set?"
   ]
  },
  {
   "cell_type": "code",
   "execution_count": 15,
   "metadata": {
    "ExecuteTime": {
     "end_time": "2020-11-12T10:11:04.869211Z",
     "start_time": "2020-11-12T10:11:04.856217Z"
    }
   },
   "outputs": [
    {
     "data": {
      "text/plain": [
       "(53350, 0.9)"
      ]
     },
     "execution_count": 15,
     "metadata": {},
     "output_type": "execute_result"
    }
   ],
   "source": [
    "total_slices = len(slices_selected)\n",
    "train_and_val_slices = int(total_slices*0.9)\n",
    "train_and_val_slices, 0.9"
   ]
  },
  {
   "cell_type": "code",
   "execution_count": 16,
   "metadata": {
    "ExecuteTime": {
     "end_time": "2020-11-12T10:11:04.884227Z",
     "start_time": "2020-11-12T10:11:04.872176Z"
    }
   },
   "outputs": [
    {
     "data": {
      "text/plain": [
       "(5928, 0.1)"
      ]
     },
     "execution_count": 16,
     "metadata": {},
     "output_type": "execute_result"
    }
   ],
   "source": [
    "test_slices = total_slices - train_and_val_slices\n",
    "test_slices, 0.1"
   ]
  },
  {
   "cell_type": "code",
   "execution_count": 17,
   "metadata": {
    "ExecuteTime": {
     "end_time": "2020-11-12T10:11:04.899132Z",
     "start_time": "2020-11-12T10:11:04.886143Z"
    }
   },
   "outputs": [
    {
     "data": {
      "text/plain": [
       "(45347, 0.765)"
      ]
     },
     "execution_count": 17,
     "metadata": {},
     "output_type": "execute_result"
    }
   ],
   "source": [
    "train_slices = int(train_and_val_slices*0.85)\n",
    "train_slices, 0.9*0.85"
   ]
  },
  {
   "cell_type": "code",
   "execution_count": 18,
   "metadata": {
    "ExecuteTime": {
     "end_time": "2020-11-12T10:11:04.914578Z",
     "start_time": "2020-11-12T10:11:04.902092Z"
    }
   },
   "outputs": [
    {
     "data": {
      "text/plain": [
       "(8003, 0.135)"
      ]
     },
     "execution_count": 18,
     "metadata": {},
     "output_type": "execute_result"
    }
   ],
   "source": [
    "validation_slices = train_and_val_slices - train_slices\n",
    "validation_slices, 0.15*0.9"
   ]
  },
  {
   "cell_type": "code",
   "execution_count": null,
   "metadata": {},
   "outputs": [],
   "source": []
  },
  {
   "cell_type": "markdown",
   "metadata": {},
   "source": [
    "## Stratified vol splitting\n",
    "\n",
    "* Get only volumes from whic we have MRI data\n",
    "    * If any Volume dont have metadata: it will go to train test\n",
    "* Identify volumes without metadata\n",
    "* Remove duplicated\n",
    "* Identify the distribution of each attribute\n",
    "* Stratify volumes by Age and Sex\n",
    "\n",
    "### Select metadata from our MRI volumes"
   ]
  },
  {
   "cell_type": "code",
   "execution_count": 19,
   "metadata": {
    "ExecuteTime": {
     "end_time": "2020-11-12T10:11:04.930051Z",
     "start_time": "2020-11-12T10:11:04.917055Z"
    }
   },
   "outputs": [],
   "source": [
    "IXI_metadata_xls = '../IXI-T1/IXI.xls'"
   ]
  },
  {
   "cell_type": "code",
   "execution_count": 20,
   "metadata": {
    "ExecuteTime": {
     "end_time": "2020-11-12T10:11:05.069679Z",
     "start_time": "2020-11-12T10:11:04.933010Z"
    }
   },
   "outputs": [
    {
     "name": "stdout",
     "output_type": "stream",
     "text": [
      "<class 'pandas.core.frame.DataFrame'>\n",
      "RangeIndex: 619 entries, 0 to 618\n",
      "Data columns (total 4 columns):\n",
      " #   Column     Non-Null Count  Dtype   \n",
      "---  ------     --------------  -----   \n",
      " 0   IXI_ID     619 non-null    int64   \n",
      " 1   SEX        619 non-null    category\n",
      " 2   ETHNIC_ID  619 non-null    category\n",
      " 3   AGE        590 non-null    float64 \n",
      "dtypes: category(2), float64(1), int64(1)\n",
      "memory usage: 11.5 KB\n"
     ]
    }
   ],
   "source": [
    "IXI_metadata = pd.read_excel(IXI_metadata_xls)[['IXI_ID',\n",
    "                                                'SEX_ID (1=m, 2=f)',\n",
    "                                                'ETHNIC_ID',\n",
    "                                                'AGE']].rename(columns={'ID':'Count', 'SEX_ID (1=m, 2=f)': 'SEX'})\n",
    "IXI_metadata['SEX'] = IXI_metadata['SEX'].astype('category')\n",
    "IXI_metadata['ETHNIC_ID'] = IXI_metadata['ETHNIC_ID'].astype('category')\n",
    "IXI_metadata.info()"
   ]
  },
  {
   "cell_type": "code",
   "execution_count": 21,
   "metadata": {
    "ExecuteTime": {
     "end_time": "2020-11-12T10:11:05.099785Z",
     "start_time": "2020-11-12T10:11:05.072667Z"
    }
   },
   "outputs": [
    {
     "data": {
      "text/html": [
       "<div>\n",
       "<style scoped>\n",
       "    .dataframe tbody tr th:only-of-type {\n",
       "        vertical-align: middle;\n",
       "    }\n",
       "\n",
       "    .dataframe tbody tr th {\n",
       "        vertical-align: top;\n",
       "    }\n",
       "\n",
       "    .dataframe thead th {\n",
       "        text-align: right;\n",
       "    }\n",
       "</style>\n",
       "<table border=\"1\" class=\"dataframe\">\n",
       "  <thead>\n",
       "    <tr style=\"text-align: right;\">\n",
       "      <th></th>\n",
       "      <th>IXI_ID</th>\n",
       "      <th>SEX</th>\n",
       "      <th>ETHNIC_ID</th>\n",
       "      <th>AGE</th>\n",
       "    </tr>\n",
       "  </thead>\n",
       "  <tbody>\n",
       "    <tr>\n",
       "      <th>551</th>\n",
       "      <td>577</td>\n",
       "      <td>2</td>\n",
       "      <td>1</td>\n",
       "      <td>64.186174</td>\n",
       "    </tr>\n",
       "    <tr>\n",
       "      <th>562</th>\n",
       "      <td>591</td>\n",
       "      <td>2</td>\n",
       "      <td>1</td>\n",
       "      <td>59.893224</td>\n",
       "    </tr>\n",
       "  </tbody>\n",
       "</table>\n",
       "</div>"
      ],
      "text/plain": [
       "     IXI_ID SEX ETHNIC_ID        AGE\n",
       "551     577   2         1  64.186174\n",
       "562     591   2         1  59.893224"
      ]
     },
     "execution_count": 21,
     "metadata": {},
     "output_type": "execute_result"
    }
   ],
   "source": [
    "IXI_metadata.sample(2)"
   ]
  },
  {
   "cell_type": "code",
   "execution_count": null,
   "metadata": {
    "ExecuteTime": {
     "end_time": "2020-11-11T18:51:51.060949Z",
     "start_time": "2020-11-11T18:51:51.018423Z"
    }
   },
   "outputs": [],
   "source": []
  },
  {
   "cell_type": "markdown",
   "metadata": {},
   "source": [
    "**We select only metadata of OUR MRI VOLUMES**"
   ]
  },
  {
   "cell_type": "code",
   "execution_count": 22,
   "metadata": {
    "ExecuteTime": {
     "end_time": "2020-11-12T10:11:05.130517Z",
     "start_time": "2020-11-12T10:11:05.104550Z"
    }
   },
   "outputs": [
    {
     "name": "stdout",
     "output_type": "stream",
     "text": [
      "<class 'pandas.core.frame.DataFrame'>\n",
      "Int64Index: 591 entries, 1 to 618\n",
      "Data columns (total 4 columns):\n",
      " #   Column     Non-Null Count  Dtype   \n",
      "---  ------     --------------  -----   \n",
      " 0   IXI_ID     591 non-null    int64   \n",
      " 1   SEX        591 non-null    category\n",
      " 2   ETHNIC_ID  591 non-null    category\n",
      " 3   AGE        588 non-null    float64 \n",
      "dtypes: category(2), float64(1), int64(1)\n",
      "memory usage: 15.5 KB\n"
     ]
    }
   ],
   "source": [
    "IXI_metadata = IXI_metadata[IXI_metadata['IXI_ID'].isin(list(slices_selected['VOL_ID'].unique()))]\n",
    "IXI_metadata.info()"
   ]
  },
  {
   "cell_type": "markdown",
   "metadata": {},
   "source": [
    "**We discover 15 volumes with no data which will be included in train test**"
   ]
  },
  {
   "cell_type": "code",
   "execution_count": 23,
   "metadata": {
    "ExecuteTime": {
     "end_time": "2020-11-12T10:11:05.146780Z",
     "start_time": "2020-11-12T10:11:05.133503Z"
    }
   },
   "outputs": [
    {
     "data": {
      "text/plain": [
       "15"
      ]
     },
     "execution_count": 23,
     "metadata": {},
     "output_type": "execute_result"
    }
   ],
   "source": [
    "MRI_with_no_data = set(slices_selected['VOL_ID'].unique()) - set(IXI_metadata['IXI_ID'].unique())\n",
    "len(MRI_with_no_data)"
   ]
  },
  {
   "cell_type": "markdown",
   "metadata": {},
   "source": [
    "**We join the information about the number of relevant slices**"
   ]
  },
  {
   "cell_type": "code",
   "execution_count": 24,
   "metadata": {
    "ExecuteTime": {
     "end_time": "2020-11-12T10:11:05.272132Z",
     "start_time": "2020-11-12T10:11:05.148434Z"
    }
   },
   "outputs": [
    {
     "name": "stdout",
     "output_type": "stream",
     "text": [
      "<class 'pandas.core.frame.DataFrame'>\n",
      "Int64Index: 591 entries, 1 to 618\n",
      "Data columns (total 5 columns):\n",
      " #   Column             Non-Null Count  Dtype   \n",
      "---  ------             --------------  -----   \n",
      " 0   IXI_ID             591 non-null    int64   \n",
      " 1   SEX                591 non-null    category\n",
      " 2   ETHNIC_ID          591 non-null    category\n",
      " 3   AGE                588 non-null    float64 \n",
      " 4   N_Relevant_Slices  591 non-null    int64   \n",
      "dtypes: category(2), float64(1), int64(2)\n",
      "memory usage: 20.1 KB\n"
     ]
    }
   ],
   "source": [
    "IXI_metadata['N_Relevant_Slices'] = IXI_metadata.apply(lambda x: slices_per_volume.loc[x['IXI_ID']], axis=1)\n",
    "IXI_metadata.info()"
   ]
  },
  {
   "cell_type": "code",
   "execution_count": 25,
   "metadata": {
    "ExecuteTime": {
     "end_time": "2020-11-12T10:11:05.288199Z",
     "start_time": "2020-11-12T10:11:05.274243Z"
    }
   },
   "outputs": [
    {
     "data": {
      "text/html": [
       "<div>\n",
       "<style scoped>\n",
       "    .dataframe tbody tr th:only-of-type {\n",
       "        vertical-align: middle;\n",
       "    }\n",
       "\n",
       "    .dataframe tbody tr th {\n",
       "        vertical-align: top;\n",
       "    }\n",
       "\n",
       "    .dataframe thead th {\n",
       "        text-align: right;\n",
       "    }\n",
       "</style>\n",
       "<table border=\"1\" class=\"dataframe\">\n",
       "  <thead>\n",
       "    <tr style=\"text-align: right;\">\n",
       "      <th></th>\n",
       "      <th>IXI_ID</th>\n",
       "      <th>SEX</th>\n",
       "      <th>ETHNIC_ID</th>\n",
       "      <th>AGE</th>\n",
       "      <th>N_Relevant_Slices</th>\n",
       "    </tr>\n",
       "  </thead>\n",
       "  <tbody>\n",
       "    <tr>\n",
       "      <th>324</th>\n",
       "      <td>360</td>\n",
       "      <td>2</td>\n",
       "      <td>1</td>\n",
       "      <td>54.193018</td>\n",
       "      <td>99</td>\n",
       "    </tr>\n",
       "    <tr>\n",
       "      <th>553</th>\n",
       "      <td>579</td>\n",
       "      <td>1</td>\n",
       "      <td>1</td>\n",
       "      <td>41.215606</td>\n",
       "      <td>98</td>\n",
       "    </tr>\n",
       "  </tbody>\n",
       "</table>\n",
       "</div>"
      ],
      "text/plain": [
       "     IXI_ID SEX ETHNIC_ID        AGE  N_Relevant_Slices\n",
       "324     360   2         1  54.193018                 99\n",
       "553     579   1         1  41.215606                 98"
      ]
     },
     "execution_count": 25,
     "metadata": {},
     "output_type": "execute_result"
    }
   ],
   "source": [
    "IXI_metadata.sample(n=2)"
   ]
  },
  {
   "cell_type": "markdown",
   "metadata": {},
   "source": [
    "### Identify non-age volumes and remove duplicated"
   ]
  },
  {
   "cell_type": "markdown",
   "metadata": {},
   "source": [
    "**We discover other 3 volumes with no data which will be included in train test**"
   ]
  },
  {
   "cell_type": "code",
   "execution_count": 26,
   "metadata": {
    "ExecuteTime": {
     "end_time": "2020-11-12T10:11:05.320262Z",
     "start_time": "2020-11-12T10:11:05.291328Z"
    }
   },
   "outputs": [
    {
     "name": "stdout",
     "output_type": "stream",
     "text": [
      "Duplicados: False\n"
     ]
    },
    {
     "data": {
      "text/plain": [
       "(3, 5)"
      ]
     },
     "execution_count": 26,
     "metadata": {},
     "output_type": "execute_result"
    }
   ],
   "source": [
    "non_data = IXI_metadata[IXI_metadata['AGE'].isna()]\n",
    "\n",
    "print('Duplicados:',np.any(non_data.duplicated('IXI_ID')))\n",
    "if np.any(non_data.duplicated('IXI_ID')):\n",
    "    non_data = non_data.drop_duplicates(subset = 'IXI_ID')\n",
    "non_data.shape"
   ]
  },
  {
   "cell_type": "code",
   "execution_count": 27,
   "metadata": {
    "ExecuteTime": {
     "end_time": "2020-11-12T10:11:05.335551Z",
     "start_time": "2020-11-12T10:11:05.323251Z"
    }
   },
   "outputs": [
    {
     "data": {
      "text/plain": [
       "18"
      ]
     },
     "execution_count": 27,
     "metadata": {},
     "output_type": "execute_result"
    }
   ],
   "source": [
    "MRI_with_no_data.update(list(non_data['IXI_ID']))\n",
    "len(MRI_with_no_data)"
   ]
  },
  {
   "cell_type": "code",
   "execution_count": 28,
   "metadata": {
    "ExecuteTime": {
     "end_time": "2020-11-12T10:11:05.351184Z",
     "start_time": "2020-11-12T10:11:05.338448Z"
    }
   },
   "outputs": [
    {
     "data": {
      "text/plain": [
       "(563, 5)"
      ]
     },
     "execution_count": 28,
     "metadata": {},
     "output_type": "execute_result"
    }
   ],
   "source": [
    "IXI_metadata = IXI_metadata[IXI_metadata['AGE'].isna()==False]\n",
    "IXI_metadata.drop_duplicates(subset = 'IXI_ID', inplace=True)\n",
    "IXI_metadata.shape"
   ]
  },
  {
   "cell_type": "code",
   "execution_count": 29,
   "metadata": {
    "ExecuteTime": {
     "end_time": "2020-11-12T10:11:05.381611Z",
     "start_time": "2020-11-12T10:11:05.354136Z"
    }
   },
   "outputs": [
    {
     "name": "stdout",
     "output_type": "stream",
     "text": [
      "<class 'pandas.core.frame.DataFrame'>\n",
      "Int64Index: 563 entries, 1 to 618\n",
      "Data columns (total 5 columns):\n",
      " #   Column             Non-Null Count  Dtype   \n",
      "---  ------             --------------  -----   \n",
      " 0   IXI_ID             563 non-null    int64   \n",
      " 1   SEX                563 non-null    category\n",
      " 2   ETHNIC_ID          563 non-null    category\n",
      " 3   AGE                563 non-null    float64 \n",
      " 4   N_Relevant_Slices  563 non-null    int64   \n",
      "dtypes: category(2), float64(1), int64(2)\n",
      "memory usage: 19.2 KB\n"
     ]
    }
   ],
   "source": [
    "IXI_metadata.info()"
   ]
  },
  {
   "cell_type": "markdown",
   "metadata": {},
   "source": [
    "### Identify attribute distribution\n",
    "#### Age"
   ]
  },
  {
   "cell_type": "code",
   "execution_count": 30,
   "metadata": {
    "ExecuteTime": {
     "end_time": "2020-11-12T10:11:05.397200Z",
     "start_time": "2020-11-12T10:11:05.383135Z"
    }
   },
   "outputs": [
    {
     "data": {
      "text/html": [
       "<div>\n",
       "<style scoped>\n",
       "    .dataframe tbody tr th:only-of-type {\n",
       "        vertical-align: middle;\n",
       "    }\n",
       "\n",
       "    .dataframe tbody tr th {\n",
       "        vertical-align: top;\n",
       "    }\n",
       "\n",
       "    .dataframe thead th {\n",
       "        text-align: right;\n",
       "    }\n",
       "</style>\n",
       "<table border=\"1\" class=\"dataframe\">\n",
       "  <thead>\n",
       "    <tr style=\"text-align: right;\">\n",
       "      <th></th>\n",
       "      <th>AGE</th>\n",
       "    </tr>\n",
       "  </thead>\n",
       "  <tbody>\n",
       "    <tr>\n",
       "      <th>count</th>\n",
       "      <td>563.000000</td>\n",
       "    </tr>\n",
       "    <tr>\n",
       "      <th>mean</th>\n",
       "      <td>48.651764</td>\n",
       "    </tr>\n",
       "    <tr>\n",
       "      <th>std</th>\n",
       "      <td>16.472913</td>\n",
       "    </tr>\n",
       "    <tr>\n",
       "      <th>min</th>\n",
       "      <td>19.980835</td>\n",
       "    </tr>\n",
       "    <tr>\n",
       "      <th>25%</th>\n",
       "      <td>33.724846</td>\n",
       "    </tr>\n",
       "    <tr>\n",
       "      <th>50%</th>\n",
       "      <td>48.678987</td>\n",
       "    </tr>\n",
       "    <tr>\n",
       "      <th>75%</th>\n",
       "      <td>62.169747</td>\n",
       "    </tr>\n",
       "    <tr>\n",
       "      <th>max</th>\n",
       "      <td>86.318960</td>\n",
       "    </tr>\n",
       "  </tbody>\n",
       "</table>\n",
       "</div>"
      ],
      "text/plain": [
       "              AGE\n",
       "count  563.000000\n",
       "mean    48.651764\n",
       "std     16.472913\n",
       "min     19.980835\n",
       "25%     33.724846\n",
       "50%     48.678987\n",
       "75%     62.169747\n",
       "max     86.318960"
      ]
     },
     "execution_count": 30,
     "metadata": {},
     "output_type": "execute_result"
    }
   ],
   "source": [
    "pd.DataFrame(IXI_metadata['AGE'].describe())"
   ]
  },
  {
   "cell_type": "code",
   "execution_count": 31,
   "metadata": {
    "ExecuteTime": {
     "end_time": "2020-11-12T10:11:05.412012Z",
     "start_time": "2020-11-12T10:11:05.399043Z"
    }
   },
   "outputs": [],
   "source": [
    "IXI_metadata.loc[IXI_metadata['AGE'] >= 65, 'AGE_GROUP'] = 'elderly'\n",
    "IXI_metadata.loc[IXI_metadata['AGE'] < 25, 'AGE_GROUP'] = 'young'\n",
    "IXI_metadata.loc[(IXI_metadata['AGE'] < 65) & (IXI_metadata['AGE'] > 25), 'AGE_GROUP'] = 'adult'\n",
    "IXI_metadata['AGE_GROUP'] = IXI_metadata['AGE_GROUP'].astype('category')"
   ]
  },
  {
   "cell_type": "code",
   "execution_count": 32,
   "metadata": {
    "ExecuteTime": {
     "end_time": "2020-11-12T10:11:05.427968Z",
     "start_time": "2020-11-12T10:11:05.413977Z"
    }
   },
   "outputs": [
    {
     "data": {
      "text/html": [
       "<div>\n",
       "<style scoped>\n",
       "    .dataframe tbody tr th:only-of-type {\n",
       "        vertical-align: middle;\n",
       "    }\n",
       "\n",
       "    .dataframe tbody tr th {\n",
       "        vertical-align: top;\n",
       "    }\n",
       "\n",
       "    .dataframe thead th {\n",
       "        text-align: right;\n",
       "    }\n",
       "</style>\n",
       "<table border=\"1\" class=\"dataframe\">\n",
       "  <thead>\n",
       "    <tr style=\"text-align: right;\">\n",
       "      <th></th>\n",
       "      <th>AGE_GROUP</th>\n",
       "    </tr>\n",
       "  </thead>\n",
       "  <tbody>\n",
       "    <tr>\n",
       "      <th>adult</th>\n",
       "      <td>0.733570</td>\n",
       "    </tr>\n",
       "    <tr>\n",
       "      <th>elderly</th>\n",
       "      <td>0.191829</td>\n",
       "    </tr>\n",
       "    <tr>\n",
       "      <th>young</th>\n",
       "      <td>0.074600</td>\n",
       "    </tr>\n",
       "  </tbody>\n",
       "</table>\n",
       "</div>"
      ],
      "text/plain": [
       "         AGE_GROUP\n",
       "adult     0.733570\n",
       "elderly   0.191829\n",
       "young     0.074600"
      ]
     },
     "execution_count": 32,
     "metadata": {},
     "output_type": "execute_result"
    }
   ],
   "source": [
    "pd.DataFrame(IXI_metadata['AGE_GROUP'].value_counts(normalize=True))"
   ]
  },
  {
   "cell_type": "code",
   "execution_count": 33,
   "metadata": {
    "ExecuteTime": {
     "end_time": "2020-11-12T10:11:05.647539Z",
     "start_time": "2020-11-12T10:11:05.429933Z"
    }
   },
   "outputs": [
    {
     "data": {
      "text/plain": [
       "<AxesSubplot:>"
      ]
     },
     "execution_count": 33,
     "metadata": {},
     "output_type": "execute_result"
    },
    {
     "data": {
      "image/png": "[encoded data removed]",
      "text/plain": [
       "<Figure size 432x288 with 1 Axes>"
      ]
     },
     "metadata": {
      "needs_background": "light"
     },
     "output_type": "display_data"
    }
   ],
   "source": [
    "pd.DataFrame(IXI_metadata['AGE_GROUP'].value_counts(normalize=True)).plot(kind='barh')"
   ]
  },
  {
   "cell_type": "markdown",
   "metadata": {},
   "source": [
    "#### Sex"
   ]
  },
  {
   "cell_type": "code",
   "execution_count": 34,
   "metadata": {
    "ExecuteTime": {
     "end_time": "2020-11-12T10:11:05.662125Z",
     "start_time": "2020-11-12T10:11:05.649471Z"
    }
   },
   "outputs": [
    {
     "data": {
      "text/html": [
       "<div>\n",
       "<style scoped>\n",
       "    .dataframe tbody tr th:only-of-type {\n",
       "        vertical-align: middle;\n",
       "    }\n",
       "\n",
       "    .dataframe tbody tr th {\n",
       "        vertical-align: top;\n",
       "    }\n",
       "\n",
       "    .dataframe thead th {\n",
       "        text-align: right;\n",
       "    }\n",
       "</style>\n",
       "<table border=\"1\" class=\"dataframe\">\n",
       "  <thead>\n",
       "    <tr style=\"text-align: right;\">\n",
       "      <th></th>\n",
       "      <th>SEX</th>\n",
       "    </tr>\n",
       "  </thead>\n",
       "  <tbody>\n",
       "    <tr>\n",
       "      <th>2</th>\n",
       "      <td>0.55595</td>\n",
       "    </tr>\n",
       "    <tr>\n",
       "      <th>1</th>\n",
       "      <td>0.44405</td>\n",
       "    </tr>\n",
       "  </tbody>\n",
       "</table>\n",
       "</div>"
      ],
      "text/plain": [
       "       SEX\n",
       "2  0.55595\n",
       "1  0.44405"
      ]
     },
     "execution_count": 34,
     "metadata": {},
     "output_type": "execute_result"
    }
   ],
   "source": [
    "pd.DataFrame(IXI_metadata['SEX'].value_counts(normalize=True))"
   ]
  },
  {
   "cell_type": "code",
   "execution_count": 35,
   "metadata": {
    "ExecuteTime": {
     "end_time": "2020-11-12T10:11:05.802253Z",
     "start_time": "2020-11-12T10:11:05.664084Z"
    }
   },
   "outputs": [
    {
     "data": {
      "text/plain": [
       "<AxesSubplot:>"
      ]
     },
     "execution_count": 35,
     "metadata": {},
     "output_type": "execute_result"
    },
    {
     "data": {
      "image/png": "[encoded data removed]",
      "text/plain": [
       "<Figure size 432x288 with 1 Axes>"
      ]
     },
     "metadata": {
      "needs_background": "light"
     },
     "output_type": "display_data"
    }
   ],
   "source": [
    "pd.DataFrame(IXI_metadata['SEX'].value_counts(normalize=True)).plot(kind='barh')"
   ]
  },
  {
   "cell_type": "markdown",
   "metadata": {},
   "source": [
    "#### Ethnic\n",
    "Due to the big difference about 1 (white) and all others, we will categorize in 1 and others."
   ]
  },
  {
   "cell_type": "code",
   "execution_count": 36,
   "metadata": {
    "ExecuteTime": {
     "end_time": "2020-11-12T10:11:05.817703Z",
     "start_time": "2020-11-12T10:11:05.803744Z"
    }
   },
   "outputs": [
    {
     "data": {
      "text/html": [
       "<div>\n",
       "<style scoped>\n",
       "    .dataframe tbody tr th:only-of-type {\n",
       "        vertical-align: middle;\n",
       "    }\n",
       "\n",
       "    .dataframe tbody tr th {\n",
       "        vertical-align: top;\n",
       "    }\n",
       "\n",
       "    .dataframe thead th {\n",
       "        text-align: right;\n",
       "    }\n",
       "</style>\n",
       "<table border=\"1\" class=\"dataframe\">\n",
       "  <thead>\n",
       "    <tr style=\"text-align: right;\">\n",
       "      <th></th>\n",
       "      <th>ETHNIC_ID</th>\n",
       "    </tr>\n",
       "  </thead>\n",
       "  <tbody>\n",
       "    <tr>\n",
       "      <th>1</th>\n",
       "      <td>451</td>\n",
       "    </tr>\n",
       "    <tr>\n",
       "      <th>3</th>\n",
       "      <td>50</td>\n",
       "    </tr>\n",
       "    <tr>\n",
       "      <th>2</th>\n",
       "      <td>15</td>\n",
       "    </tr>\n",
       "    <tr>\n",
       "      <th>5</th>\n",
       "      <td>14</td>\n",
       "    </tr>\n",
       "    <tr>\n",
       "      <th>4</th>\n",
       "      <td>14</td>\n",
       "    </tr>\n",
       "    <tr>\n",
       "      <th>6</th>\n",
       "      <td>10</td>\n",
       "    </tr>\n",
       "    <tr>\n",
       "      <th>0</th>\n",
       "      <td>9</td>\n",
       "    </tr>\n",
       "  </tbody>\n",
       "</table>\n",
       "</div>"
      ],
      "text/plain": [
       "   ETHNIC_ID\n",
       "1        451\n",
       "3         50\n",
       "2         15\n",
       "5         14\n",
       "4         14\n",
       "6         10\n",
       "0          9"
      ]
     },
     "execution_count": 36,
     "metadata": {},
     "output_type": "execute_result"
    }
   ],
   "source": [
    "IXI_metadata['ETHNIC_ID'] = IXI_metadata['ETHNIC_ID'].astype('int32')\n",
    "pd.DataFrame(IXI_metadata['ETHNIC_ID'].value_counts())"
   ]
  },
  {
   "cell_type": "code",
   "execution_count": 37,
   "metadata": {
    "ExecuteTime": {
     "end_time": "2020-11-12T10:11:05.832850Z",
     "start_time": "2020-11-12T10:11:05.819670Z"
    }
   },
   "outputs": [],
   "source": [
    "IXI_metadata.loc[IXI_metadata['ETHNIC_ID'] != 1, 'ETHNIC_ID'] = 2"
   ]
  },
  {
   "cell_type": "code",
   "execution_count": 38,
   "metadata": {
    "ExecuteTime": {
     "end_time": "2020-11-12T10:11:05.863640Z",
     "start_time": "2020-11-12T10:11:05.834818Z"
    }
   },
   "outputs": [
    {
     "data": {
      "text/html": [
       "<div>\n",
       "<style scoped>\n",
       "    .dataframe tbody tr th:only-of-type {\n",
       "        vertical-align: middle;\n",
       "    }\n",
       "\n",
       "    .dataframe tbody tr th {\n",
       "        vertical-align: top;\n",
       "    }\n",
       "\n",
       "    .dataframe thead th {\n",
       "        text-align: right;\n",
       "    }\n",
       "</style>\n",
       "<table border=\"1\" class=\"dataframe\">\n",
       "  <thead>\n",
       "    <tr style=\"text-align: right;\">\n",
       "      <th></th>\n",
       "      <th>ETHNIC_ID</th>\n",
       "    </tr>\n",
       "  </thead>\n",
       "  <tbody>\n",
       "    <tr>\n",
       "      <th>1</th>\n",
       "      <td>0.801066</td>\n",
       "    </tr>\n",
       "    <tr>\n",
       "      <th>2</th>\n",
       "      <td>0.198934</td>\n",
       "    </tr>\n",
       "  </tbody>\n",
       "</table>\n",
       "</div>"
      ],
      "text/plain": [
       "   ETHNIC_ID\n",
       "1   0.801066\n",
       "2   0.198934"
      ]
     },
     "execution_count": 38,
     "metadata": {},
     "output_type": "execute_result"
    }
   ],
   "source": [
    "IXI_metadata['ETHNIC_ID'] = IXI_metadata['ETHNIC_ID'].astype('category')\n",
    "pd.DataFrame(IXI_metadata['ETHNIC_ID'].value_counts(normalize=True))"
   ]
  },
  {
   "cell_type": "code",
   "execution_count": 39,
   "metadata": {
    "ExecuteTime": {
     "end_time": "2020-11-12T10:11:06.036192Z",
     "start_time": "2020-11-12T10:11:05.865547Z"
    }
   },
   "outputs": [
    {
     "data": {
      "text/plain": [
       "<AxesSubplot:>"
      ]
     },
     "execution_count": 39,
     "metadata": {},
     "output_type": "execute_result"
    },
    {
     "data": {
      "image/png": "[encoded data removed]",
      "text/plain": [
       "<Figure size 432x288 with 1 Axes>"
      ]
     },
     "metadata": {
      "needs_background": "light"
     },
     "output_type": "display_data"
    }
   ],
   "source": [
    "pd.DataFrame(IXI_metadata['ETHNIC_ID'].value_counts(normalize=True)).plot(kind='barh')"
   ]
  },
  {
   "cell_type": "markdown",
   "metadata": {},
   "source": [
    "### Stratify by age and ethnic\n",
    "\n",
    "**We know that we have to stratify volumes in 90%-10% (train&val - test)**\n",
    "\n",
    "**We have already 18 non_metatada volumes in train&val set, so we have to stratify the remaining 563 volumes in 522 and 59.**\n",
    "\n",
    "**We defined a module which is able to stratify a DataFrame given the categories to stratify**"
   ]
  },
  {
   "cell_type": "code",
   "execution_count": 40,
   "metadata": {
    "ExecuteTime": {
     "end_time": "2020-11-12T10:11:06.051779Z",
     "start_time": "2020-11-12T10:11:06.038085Z"
    }
   },
   "outputs": [],
   "source": [
    "import stratifier_complex"
   ]
  },
  {
   "cell_type": "code",
   "execution_count": 41,
   "metadata": {
    "ExecuteTime": {
     "end_time": "2020-11-12T10:11:06.067738Z",
     "start_time": "2020-11-12T10:11:06.053743Z"
    }
   },
   "outputs": [
    {
     "data": {
      "text/plain": [
       "(534, 47)"
      ]
     },
     "execution_count": 41,
     "metadata": {},
     "output_type": "execute_result"
    }
   ],
   "source": [
    "train_and_val_vol, test_vols"
   ]
  },
  {
   "cell_type": "code",
   "execution_count": 42,
   "metadata": {
    "ExecuteTime": {
     "end_time": "2020-11-12T10:11:06.083017Z",
     "start_time": "2020-11-12T10:11:06.070698Z"
    }
   },
   "outputs": [
    {
     "data": {
      "text/plain": [
       "563"
      ]
     },
     "execution_count": 42,
     "metadata": {},
     "output_type": "execute_result"
    }
   ],
   "source": [
    "IXI_metadata.shape[0]"
   ]
  },
  {
   "cell_type": "markdown",
   "metadata": {},
   "source": [
    "#### How are going to be stratified?\n",
    "\n",
    "##### Test\n",
    "\n",
    "**Poblation and test sample distribution**"
   ]
  },
  {
   "cell_type": "code",
   "execution_count": 43,
   "metadata": {
    "ExecuteTime": {
     "end_time": "2020-11-12T10:11:06.114613Z",
     "start_time": "2020-11-12T10:11:06.084667Z"
    }
   },
   "outputs": [
    {
     "data": {
      "text/html": [
       "<div>\n",
       "<style scoped>\n",
       "    .dataframe tbody tr th:only-of-type {\n",
       "        vertical-align: middle;\n",
       "    }\n",
       "\n",
       "    .dataframe tbody tr th {\n",
       "        vertical-align: top;\n",
       "    }\n",
       "\n",
       "    .dataframe thead th {\n",
       "        text-align: right;\n",
       "    }\n",
       "</style>\n",
       "<table border=\"1\" class=\"dataframe\">\n",
       "  <thead>\n",
       "    <tr style=\"text-align: right;\">\n",
       "      <th></th>\n",
       "      <th>ETHNIC_ID</th>\n",
       "      <th>AGE_GROUP</th>\n",
       "      <th>SEX</th>\n",
       "      <th>size</th>\n",
       "      <th>samp_size</th>\n",
       "    </tr>\n",
       "  </thead>\n",
       "  <tbody>\n",
       "    <tr>\n",
       "      <th>0</th>\n",
       "      <td>1</td>\n",
       "      <td>adult</td>\n",
       "      <td>1</td>\n",
       "      <td>143</td>\n",
       "      <td>12</td>\n",
       "    </tr>\n",
       "    <tr>\n",
       "      <th>1</th>\n",
       "      <td>1</td>\n",
       "      <td>adult</td>\n",
       "      <td>2</td>\n",
       "      <td>185</td>\n",
       "      <td>15</td>\n",
       "    </tr>\n",
       "    <tr>\n",
       "      <th>2</th>\n",
       "      <td>1</td>\n",
       "      <td>elderly</td>\n",
       "      <td>1</td>\n",
       "      <td>36</td>\n",
       "      <td>3</td>\n",
       "    </tr>\n",
       "    <tr>\n",
       "      <th>3</th>\n",
       "      <td>1</td>\n",
       "      <td>elderly</td>\n",
       "      <td>2</td>\n",
       "      <td>59</td>\n",
       "      <td>5</td>\n",
       "    </tr>\n",
       "    <tr>\n",
       "      <th>4</th>\n",
       "      <td>1</td>\n",
       "      <td>young</td>\n",
       "      <td>1</td>\n",
       "      <td>11</td>\n",
       "      <td>1</td>\n",
       "    </tr>\n",
       "    <tr>\n",
       "      <th>5</th>\n",
       "      <td>1</td>\n",
       "      <td>young</td>\n",
       "      <td>2</td>\n",
       "      <td>17</td>\n",
       "      <td>1</td>\n",
       "    </tr>\n",
       "    <tr>\n",
       "      <th>6</th>\n",
       "      <td>2</td>\n",
       "      <td>adult</td>\n",
       "      <td>1</td>\n",
       "      <td>44</td>\n",
       "      <td>4</td>\n",
       "    </tr>\n",
       "    <tr>\n",
       "      <th>7</th>\n",
       "      <td>2</td>\n",
       "      <td>adult</td>\n",
       "      <td>2</td>\n",
       "      <td>41</td>\n",
       "      <td>3</td>\n",
       "    </tr>\n",
       "    <tr>\n",
       "      <th>8</th>\n",
       "      <td>2</td>\n",
       "      <td>elderly</td>\n",
       "      <td>1</td>\n",
       "      <td>7</td>\n",
       "      <td>1</td>\n",
       "    </tr>\n",
       "    <tr>\n",
       "      <th>9</th>\n",
       "      <td>2</td>\n",
       "      <td>elderly</td>\n",
       "      <td>2</td>\n",
       "      <td>6</td>\n",
       "      <td>1</td>\n",
       "    </tr>\n",
       "    <tr>\n",
       "      <th>10</th>\n",
       "      <td>2</td>\n",
       "      <td>young</td>\n",
       "      <td>1</td>\n",
       "      <td>9</td>\n",
       "      <td>1</td>\n",
       "    </tr>\n",
       "    <tr>\n",
       "      <th>11</th>\n",
       "      <td>2</td>\n",
       "      <td>young</td>\n",
       "      <td>2</td>\n",
       "      <td>5</td>\n",
       "      <td>0</td>\n",
       "    </tr>\n",
       "  </tbody>\n",
       "</table>\n",
       "</div>"
      ],
      "text/plain": [
       "   ETHNIC_ID AGE_GROUP SEX  size  samp_size\n",
       "0          1     adult   1   143         12\n",
       "1          1     adult   2   185         15\n",
       "2          1   elderly   1    36          3\n",
       "3          1   elderly   2    59          5\n",
       "4          1     young   1    11          1\n",
       "5          1     young   2    17          1\n",
       "6          2     adult   1    44          4\n",
       "7          2     adult   2    41          3\n",
       "8          2   elderly   1     7          1\n",
       "9          2   elderly   2     6          1\n",
       "10         2     young   1     9          1\n",
       "11         2     young   2     5          0"
      ]
     },
     "execution_count": 43,
     "metadata": {},
     "output_type": "execute_result"
    }
   ],
   "source": [
    "stratifier_complex.stratified_sample_report(IXI_metadata, ['ETHNIC_ID','AGE_GROUP','SEX'],test_vols)"
   ]
  },
  {
   "cell_type": "code",
   "execution_count": 44,
   "metadata": {
    "ExecuteTime": {
     "end_time": "2020-11-12T10:11:06.304169Z",
     "start_time": "2020-11-12T10:11:06.116698Z"
    }
   },
   "outputs": [],
   "source": [
    "final_test_volumes = stratifier_complex.stratified_sample(IXI_metadata, ['ETHNIC_ID','AGE_GROUP','SEX'],test_vols)\n",
    "final_test_volumes.drop(columns=['index'], axis=1, inplace = True)\n",
    "final_test_volumes.shape\n",
    "\n",
    "# dump information to that file\n",
    "pkl.dump(final_test_volumes, open('data_test_volumes_df.pkl', 'wb'))"
   ]
  },
  {
   "cell_type": "markdown",
   "metadata": {},
   "source": [
    "##### Train and validation"
   ]
  },
  {
   "cell_type": "code",
   "execution_count": 45,
   "metadata": {
    "ExecuteTime": {
     "end_time": "2020-11-12T10:11:06.336050Z",
     "start_time": "2020-11-12T10:11:06.306073Z"
    }
   },
   "outputs": [
    {
     "data": {
      "text/html": [
       "<div>\n",
       "<style scoped>\n",
       "    .dataframe tbody tr th:only-of-type {\n",
       "        vertical-align: middle;\n",
       "    }\n",
       "\n",
       "    .dataframe tbody tr th {\n",
       "        vertical-align: top;\n",
       "    }\n",
       "\n",
       "    .dataframe thead th {\n",
       "        text-align: right;\n",
       "    }\n",
       "</style>\n",
       "<table border=\"1\" class=\"dataframe\">\n",
       "  <thead>\n",
       "    <tr style=\"text-align: right;\">\n",
       "      <th></th>\n",
       "      <th>ETHNIC_ID</th>\n",
       "      <th>AGE_GROUP</th>\n",
       "      <th>SEX</th>\n",
       "      <th>size</th>\n",
       "      <th>samp_size</th>\n",
       "    </tr>\n",
       "  </thead>\n",
       "  <tbody>\n",
       "    <tr>\n",
       "      <th>0</th>\n",
       "      <td>1</td>\n",
       "      <td>adult</td>\n",
       "      <td>1</td>\n",
       "      <td>143</td>\n",
       "      <td>135</td>\n",
       "    </tr>\n",
       "    <tr>\n",
       "      <th>1</th>\n",
       "      <td>1</td>\n",
       "      <td>adult</td>\n",
       "      <td>2</td>\n",
       "      <td>185</td>\n",
       "      <td>175</td>\n",
       "    </tr>\n",
       "    <tr>\n",
       "      <th>2</th>\n",
       "      <td>1</td>\n",
       "      <td>elderly</td>\n",
       "      <td>1</td>\n",
       "      <td>36</td>\n",
       "      <td>34</td>\n",
       "    </tr>\n",
       "    <tr>\n",
       "      <th>3</th>\n",
       "      <td>1</td>\n",
       "      <td>elderly</td>\n",
       "      <td>2</td>\n",
       "      <td>59</td>\n",
       "      <td>56</td>\n",
       "    </tr>\n",
       "    <tr>\n",
       "      <th>4</th>\n",
       "      <td>1</td>\n",
       "      <td>young</td>\n",
       "      <td>1</td>\n",
       "      <td>11</td>\n",
       "      <td>10</td>\n",
       "    </tr>\n",
       "    <tr>\n",
       "      <th>5</th>\n",
       "      <td>1</td>\n",
       "      <td>young</td>\n",
       "      <td>2</td>\n",
       "      <td>17</td>\n",
       "      <td>16</td>\n",
       "    </tr>\n",
       "    <tr>\n",
       "      <th>6</th>\n",
       "      <td>2</td>\n",
       "      <td>adult</td>\n",
       "      <td>1</td>\n",
       "      <td>44</td>\n",
       "      <td>42</td>\n",
       "    </tr>\n",
       "    <tr>\n",
       "      <th>7</th>\n",
       "      <td>2</td>\n",
       "      <td>adult</td>\n",
       "      <td>2</td>\n",
       "      <td>41</td>\n",
       "      <td>39</td>\n",
       "    </tr>\n",
       "    <tr>\n",
       "      <th>8</th>\n",
       "      <td>2</td>\n",
       "      <td>elderly</td>\n",
       "      <td>1</td>\n",
       "      <td>7</td>\n",
       "      <td>7</td>\n",
       "    </tr>\n",
       "    <tr>\n",
       "      <th>9</th>\n",
       "      <td>2</td>\n",
       "      <td>elderly</td>\n",
       "      <td>2</td>\n",
       "      <td>6</td>\n",
       "      <td>6</td>\n",
       "    </tr>\n",
       "    <tr>\n",
       "      <th>10</th>\n",
       "      <td>2</td>\n",
       "      <td>young</td>\n",
       "      <td>1</td>\n",
       "      <td>9</td>\n",
       "      <td>9</td>\n",
       "    </tr>\n",
       "    <tr>\n",
       "      <th>11</th>\n",
       "      <td>2</td>\n",
       "      <td>young</td>\n",
       "      <td>2</td>\n",
       "      <td>5</td>\n",
       "      <td>5</td>\n",
       "    </tr>\n",
       "  </tbody>\n",
       "</table>\n",
       "</div>"
      ],
      "text/plain": [
       "   ETHNIC_ID AGE_GROUP SEX  size  samp_size\n",
       "0          1     adult   1   143        135\n",
       "1          1     adult   2   185        175\n",
       "2          1   elderly   1    36         34\n",
       "3          1   elderly   2    59         56\n",
       "4          1     young   1    11         10\n",
       "5          1     young   2    17         16\n",
       "6          2     adult   1    44         42\n",
       "7          2     adult   2    41         39\n",
       "8          2   elderly   1     7          7\n",
       "9          2   elderly   2     6          6\n",
       "10         2     young   1     9          9\n",
       "11         2     young   2     5          5"
      ]
     },
     "execution_count": 45,
     "metadata": {},
     "output_type": "execute_result"
    }
   ],
   "source": [
    "stratifier_complex.stratified_sample_report(IXI_metadata, ['ETHNIC_ID','AGE_GROUP','SEX'],train_and_val_vol-1)"
   ]
  },
  {
   "cell_type": "code",
   "execution_count": 46,
   "metadata": {
    "ExecuteTime": {
     "end_time": "2020-11-12T10:11:06.351241Z",
     "start_time": "2020-11-12T10:11:06.339043Z"
    },
    "scrolled": true
   },
   "outputs": [
    {
     "data": {
      "text/plain": [
       "(516, 6)"
      ]
     },
     "execution_count": 46,
     "metadata": {},
     "output_type": "execute_result"
    }
   ],
   "source": [
    "final_train_val_volumes = IXI_metadata[~IXI_metadata['IXI_ID'].isin(final_test_volumes['IXI_ID'])]\n",
    "final_train_val_volumes.shape"
   ]
  },
  {
   "cell_type": "markdown",
   "metadata": {},
   "source": [
    "* **47 test volumes: 8%**\n",
    "* **516+18=534 train and validation volumes: 92%**\n",
    "   * **454 Train volumes 78.2% of global**, 85% of train-val.\n",
    "   * **80 Validation volumes 13.8% of global**, 15% of train-val."
   ]
  },
  {
   "cell_type": "code",
   "execution_count": 47,
   "metadata": {
    "ExecuteTime": {
     "end_time": "2020-11-12T10:11:06.444020Z",
     "start_time": "2020-11-12T10:11:06.353006Z"
    }
   },
   "outputs": [
    {
     "data": {
      "text/plain": [
       "(534, 6)"
      ]
     },
     "execution_count": 47,
     "metadata": {},
     "output_type": "execute_result"
    }
   ],
   "source": [
    "for i in MRI_with_no_data:\n",
    "    final_train_val_volumes = final_train_val_volumes.append({'IXI_ID':i,\n",
    "                                                             'SEX': None,\n",
    "                                                              'ETHNIC_ID':None,\n",
    "                                                              'AGE': None,\n",
    "                                                              'N_Relevant_Slices':None,\n",
    "                                                              'AGE_GROUP': None},ignore_index=True)\n",
    "final_train_val_volumes['IXI_ID'] = final_train_val_volumes['IXI_ID'].astype('int64')\n",
    "final_train_val_volumes.shape"
   ]
  },
  {
   "cell_type": "code",
   "execution_count": 48,
   "metadata": {
    "ExecuteTime": {
     "end_time": "2020-11-12T10:11:06.458769Z",
     "start_time": "2020-11-12T10:11:06.446788Z"
    }
   },
   "outputs": [],
   "source": [
    "pkl.dump(final_train_val_volumes, open('data_train_val_volumes_df.pkl', 'wb'))"
   ]
  },
  {
   "cell_type": "markdown",
   "metadata": {},
   "source": [
    "#### Check Number of slices in each set\n",
    "##### Train&Val"
   ]
  },
  {
   "cell_type": "code",
   "execution_count": 49,
   "metadata": {
    "ExecuteTime": {
     "end_time": "2020-11-12T10:11:06.474681Z",
     "start_time": "2020-11-12T10:11:06.461718Z"
    }
   },
   "outputs": [
    {
     "data": {
      "text/plain": [
       "59278"
      ]
     },
     "execution_count": 49,
     "metadata": {},
     "output_type": "execute_result"
    }
   ],
   "source": [
    "total_slices"
   ]
  },
  {
   "cell_type": "code",
   "execution_count": 50,
   "metadata": {
    "ExecuteTime": {
     "end_time": "2020-11-12T10:11:06.490727Z",
     "start_time": "2020-11-12T10:11:06.477972Z"
    }
   },
   "outputs": [
    {
     "data": {
      "text/plain": [
       "(54454, 91.86207361921792)"
      ]
     },
     "execution_count": 50,
     "metadata": {},
     "output_type": "execute_result"
    }
   ],
   "source": [
    "total_slices-final_test_volumes['N_Relevant_Slices'].sum(), (total_slices-final_test_volumes['N_Relevant_Slices'].sum()) / total_slices *100"
   ]
  },
  {
   "cell_type": "code",
   "execution_count": 51,
   "metadata": {
    "ExecuteTime": {
     "end_time": "2020-11-12T10:11:06.506617Z",
     "start_time": "2020-11-12T10:11:06.492632Z"
    }
   },
   "outputs": [
    {
     "data": {
      "text/plain": [
       "76.26168224299066"
      ]
     },
     "execution_count": 51,
     "metadata": {},
     "output_type": "execute_result"
    }
   ],
   "source": [
    "53184*0.85/total_slices *100"
   ]
  },
  {
   "cell_type": "code",
   "execution_count": 52,
   "metadata": {
    "ExecuteTime": {
     "end_time": "2020-11-12T10:11:06.522582Z",
     "start_time": "2020-11-12T10:11:06.509621Z"
    }
   },
   "outputs": [
    {
     "data": {
      "text/plain": [
       "13.457943925233645"
      ]
     },
     "execution_count": 52,
     "metadata": {},
     "output_type": "execute_result"
    }
   ],
   "source": [
    "53184*0.15/total_slices *100"
   ]
  },
  {
   "cell_type": "markdown",
   "metadata": {
    "ExecuteTime": {
     "end_time": "2020-11-11T19:40:16.448606Z",
     "start_time": "2020-11-11T19:40:16.437624Z"
    }
   },
   "source": [
    "##### Test"
   ]
  },
  {
   "cell_type": "code",
   "execution_count": 53,
   "metadata": {
    "ExecuteTime": {
     "end_time": "2020-11-12T10:11:06.538609Z",
     "start_time": "2020-11-12T10:11:06.525544Z"
    }
   },
   "outputs": [
    {
     "data": {
      "text/plain": [
       "(4824, 8.137926380782078)"
      ]
     },
     "execution_count": 53,
     "metadata": {},
     "output_type": "execute_result"
    }
   ],
   "source": [
    "final_test_volumes['N_Relevant_Slices'].sum(), final_test_volumes['N_Relevant_Slices'].sum() / total_slices *100"
   ]
  },
  {
   "cell_type": "markdown",
   "metadata": {},
   "source": [
    "## Conclussion\n",
    "\n",
    "### Size of each set"
   ]
  },
  {
   "cell_type": "code",
   "execution_count": 54,
   "metadata": {
    "ExecuteTime": {
     "end_time": "2020-11-12T10:11:06.833093Z",
     "start_time": "2020-11-12T10:11:06.541517Z"
    }
   },
   "outputs": [
    {
     "name": "stdout",
     "output_type": "stream",
     "text": [
      "IMGS: [46285.9, 8168.099999999999, 4824]\n",
      "VOLS: [453.9, 80.1, 47]\n"
     ]
    },
    {
     "data": {
      "image/png": "[encoded data removed]",
      "text/plain": [
       "<Figure size 1080x576 with 2 Axes>"
      ]
     },
     "metadata": {},
     "output_type": "display_data"
    }
   ],
   "source": [
    "fig, axs = plt.subplots(1,2, figsize=(15,8))\n",
    "print('IMGS:',[(total_slices-final_test_volumes['N_Relevant_Slices'].sum())*train_size,\n",
    "            (total_slices-final_test_volumes['N_Relevant_Slices'].sum())*validation_size,\n",
    "            final_test_volumes['N_Relevant_Slices'].sum()])\n",
    "\n",
    "print('VOLS:',[final_train_val_volumes.shape[0]*train_size,\n",
    "            final_train_val_volumes.shape[0]*validation_size,\n",
    "            final_test_volumes.shape[0]])\n",
    "\n",
    "axs[0].set_title('IMAGE split')\n",
    "axs[0].pie([(total_slices-final_test_volumes['N_Relevant_Slices'].sum())*train_size,\n",
    "            (total_slices-final_test_volumes['N_Relevant_Slices'].sum())*validation_size,\n",
    "            final_test_volumes['N_Relevant_Slices'].sum()],\n",
    "          autopct='%1.1f%%',\n",
    "          labels = ['Train', 'validation', 'test'])\n",
    "\n",
    "axs[1].set_title('Volume split')\n",
    "axs[1].pie([final_train_val_volumes.shape[0]*train_size,\n",
    "            final_train_val_volumes.shape[0]*validation_size,\n",
    "            final_test_volumes.shape[0]],\n",
    "          autopct='%1.1f%%',\n",
    "          labels = ['Train', 'validation', 'test']);\n",
    "\n"
   ]
  },
  {
   "cell_type": "markdown",
   "metadata": {
    "ExecuteTime": {
     "end_time": "2020-11-11T20:22:25.463461Z",
     "start_time": "2020-11-11T20:22:25.401590Z"
    }
   },
   "source": [
    "### Check attribute distributions in each set"
   ]
  },
  {
   "cell_type": "code",
   "execution_count": 55,
   "metadata": {
    "ExecuteTime": {
     "end_time": "2020-11-12T10:11:07.252567Z",
     "start_time": "2020-11-12T10:11:06.835715Z"
    }
   },
   "outputs": [
    {
     "data": {
      "image/png": "[encoded data removed]",
      "text/plain": [
       "<Figure size 1440x360 with 3 Axes>"
      ]
     },
     "metadata": {
      "needs_background": "light"
     },
     "output_type": "display_data"
    }
   ],
   "source": [
    "def plot_ccas(df, ccas, title='-'):\n",
    "    fig, axs = plt.subplots(1,len(ccas), figsize=(20,5))\n",
    "    fig.suptitle(title)\n",
    "    for i, feat in enumerate(ccas):\n",
    "        pd.DataFrame(df[feat].value_counts(normalize=True)).plot(kind='barh', ax = axs[i])\n",
    "        axs[i].set_title(feat)\n",
    "        totals = []\n",
    "        for j in axs[i].patches:\n",
    "            totals.append(j.get_width())\n",
    "\n",
    "        # set individual bar lables using above list\n",
    "        total = sum(totals)\n",
    "\n",
    "        for j in axs[i].patches:\n",
    "        # get_width pulls left or right; get_y pushes up or down\n",
    "            axs[i].text(j.get_width()+.01, j.get_y()+.1, \\\n",
    "                    str(round((j.get_width()/total)*100, 2))+'%', fontsize=14, color='red')\n",
    "            \n",
    "plot_ccas(IXI_metadata, ['ETHNIC_ID','AGE_GROUP','SEX'], 'ALL POPULATION')"
   ]
  },
  {
   "cell_type": "code",
   "execution_count": 56,
   "metadata": {
    "ExecuteTime": {
     "end_time": "2020-11-12T10:11:07.596126Z",
     "start_time": "2020-11-12T10:11:07.254508Z"
    }
   },
   "outputs": [
    {
     "data": {
      "image/png": "[encoded data removed]",
      "text/plain": [
       "<Figure size 1440x360 with 3 Axes>"
      ]
     },
     "metadata": {
      "needs_background": "light"
     },
     "output_type": "display_data"
    }
   ],
   "source": [
    "plot_ccas(final_train_val_volumes, ['ETHNIC_ID','AGE_GROUP','SEX'], 'Train and validation')"
   ]
  },
  {
   "cell_type": "code",
   "execution_count": 57,
   "metadata": {
    "ExecuteTime": {
     "end_time": "2020-11-12T10:11:08.096153Z",
     "start_time": "2020-11-12T10:11:07.599086Z"
    }
   },
   "outputs": [
    {
     "data": {
      "image/png": "[encoded data removed]",
      "text/plain": [
       "<Figure size 1440x360 with 3 Axes>"
      ]
     },
     "metadata": {
      "needs_background": "light"
     },
     "output_type": "display_data"
    }
   ],
   "source": [
    "plot_ccas(final_test_volumes, ['ETHNIC_ID','AGE_GROUP','SEX'], 'Test')"
   ]
  },
  {
   "cell_type": "code",
   "execution_count": null,
   "metadata": {
    "ExecuteTime": {
     "end_time": "2020-11-11T21:12:01.625602Z",
     "start_time": "2020-11-11T21:12:01.467183Z"
    }
   },
   "outputs": [],
   "source": []
  },
  {
   "cell_type": "code",
   "execution_count": 58,
   "metadata": {
    "ExecuteTime": {
     "end_time": "2020-11-12T10:11:31.427948Z",
     "start_time": "2020-11-12T10:11:31.400084Z"
    }
   },
   "outputs": [
    {
     "data": {
      "text/html": [
       "<div>\n",
       "<style scoped>\n",
       "    .dataframe tbody tr th:only-of-type {\n",
       "        vertical-align: middle;\n",
       "    }\n",
       "\n",
       "    .dataframe tbody tr th {\n",
       "        vertical-align: top;\n",
       "    }\n",
       "\n",
       "    .dataframe thead th {\n",
       "        text-align: right;\n",
       "    }\n",
       "</style>\n",
       "<table border=\"1\" class=\"dataframe\">\n",
       "  <thead>\n",
       "    <tr style=\"text-align: right;\">\n",
       "      <th></th>\n",
       "      <th>IXI_ID</th>\n",
       "      <th>SEX</th>\n",
       "      <th>ETHNIC_ID</th>\n",
       "      <th>AGE</th>\n",
       "      <th>N_Relevant_Slices</th>\n",
       "      <th>AGE_GROUP</th>\n",
       "    </tr>\n",
       "  </thead>\n",
       "  <tbody>\n",
       "    <tr>\n",
       "      <th>0</th>\n",
       "      <td>2</td>\n",
       "      <td>2</td>\n",
       "      <td>1</td>\n",
       "      <td>35.800137</td>\n",
       "      <td>106.0</td>\n",
       "      <td>adult</td>\n",
       "    </tr>\n",
       "    <tr>\n",
       "      <th>1</th>\n",
       "      <td>12</td>\n",
       "      <td>1</td>\n",
       "      <td>1</td>\n",
       "      <td>38.781656</td>\n",
       "      <td>109.0</td>\n",
       "      <td>adult</td>\n",
       "    </tr>\n",
       "    <tr>\n",
       "      <th>2</th>\n",
       "      <td>13</td>\n",
       "      <td>1</td>\n",
       "      <td>1</td>\n",
       "      <td>46.710472</td>\n",
       "      <td>101.0</td>\n",
       "      <td>adult</td>\n",
       "    </tr>\n",
       "    <tr>\n",
       "      <th>3</th>\n",
       "      <td>14</td>\n",
       "      <td>2</td>\n",
       "      <td>1</td>\n",
       "      <td>34.236824</td>\n",
       "      <td>97.0</td>\n",
       "      <td>adult</td>\n",
       "    </tr>\n",
       "    <tr>\n",
       "      <th>4</th>\n",
       "      <td>15</td>\n",
       "      <td>1</td>\n",
       "      <td>2</td>\n",
       "      <td>24.284736</td>\n",
       "      <td>102.0</td>\n",
       "      <td>young</td>\n",
       "    </tr>\n",
       "    <tr>\n",
       "      <th>...</th>\n",
       "      <td>...</td>\n",
       "      <td>...</td>\n",
       "      <td>...</td>\n",
       "      <td>...</td>\n",
       "      <td>...</td>\n",
       "      <td>...</td>\n",
       "    </tr>\n",
       "    <tr>\n",
       "      <th>529</th>\n",
       "      <td>88</td>\n",
       "      <td>NaN</td>\n",
       "      <td>NaN</td>\n",
       "      <td>NaN</td>\n",
       "      <td>NaN</td>\n",
       "      <td>NaN</td>\n",
       "    </tr>\n",
       "    <tr>\n",
       "      <th>530</th>\n",
       "      <td>345</td>\n",
       "      <td>NaN</td>\n",
       "      <td>NaN</td>\n",
       "      <td>NaN</td>\n",
       "      <td>NaN</td>\n",
       "      <td>NaN</td>\n",
       "    </tr>\n",
       "    <tr>\n",
       "      <th>531</th>\n",
       "      <td>347</td>\n",
       "      <td>NaN</td>\n",
       "      <td>NaN</td>\n",
       "      <td>NaN</td>\n",
       "      <td>NaN</td>\n",
       "      <td>NaN</td>\n",
       "    </tr>\n",
       "    <tr>\n",
       "      <th>532</th>\n",
       "      <td>637</td>\n",
       "      <td>NaN</td>\n",
       "      <td>NaN</td>\n",
       "      <td>NaN</td>\n",
       "      <td>NaN</td>\n",
       "      <td>NaN</td>\n",
       "    </tr>\n",
       "    <tr>\n",
       "      <th>533</th>\n",
       "      <td>638</td>\n",
       "      <td>NaN</td>\n",
       "      <td>NaN</td>\n",
       "      <td>NaN</td>\n",
       "      <td>NaN</td>\n",
       "      <td>NaN</td>\n",
       "    </tr>\n",
       "  </tbody>\n",
       "</table>\n",
       "<p>534 rows × 6 columns</p>\n",
       "</div>"
      ],
      "text/plain": [
       "     IXI_ID  SEX ETHNIC_ID        AGE  N_Relevant_Slices AGE_GROUP\n",
       "0         2    2         1  35.800137              106.0     adult\n",
       "1        12    1         1  38.781656              109.0     adult\n",
       "2        13    1         1  46.710472              101.0     adult\n",
       "3        14    2         1  34.236824               97.0     adult\n",
       "4        15    1         2  24.284736              102.0     young\n",
       "..      ...  ...       ...        ...                ...       ...\n",
       "529      88  NaN       NaN        NaN                NaN       NaN\n",
       "530     345  NaN       NaN        NaN                NaN       NaN\n",
       "531     347  NaN       NaN        NaN                NaN       NaN\n",
       "532     637  NaN       NaN        NaN                NaN       NaN\n",
       "533     638  NaN       NaN        NaN                NaN       NaN\n",
       "\n",
       "[534 rows x 6 columns]"
      ]
     },
     "execution_count": 58,
     "metadata": {},
     "output_type": "execute_result"
    }
   ],
   "source": [
    "final_train_val_volumes"
   ]
  },
  {
   "cell_type": "code",
   "execution_count": null,
   "metadata": {},
   "outputs": [],
   "source": []
  }
 ],
 "metadata": {
  "kernelspec": {
   "display_name": "Python 3",
   "language": "python",
   "name": "python3"
  },
  "language_info": {
   "codemirror_mode": {
    "name": "ipython",
    "version": 3
   },
   "file_extension": ".py",
   "mimetype": "text/x-python",
   "name": "python",
   "nbconvert_exporter": "python",
   "pygments_lexer": "ipython3",
   "version": "3.7.9"
  },
  "toc": {
   "base_numbering": 1,
   "nav_menu": {},
   "number_sections": true,
   "sideBar": true,
   "skip_h1_title": true,
   "title_cell": "Table of Contents",
   "title_sidebar": "Table of Contents",
   "toc_cell": true,
   "toc_position": {},
   "toc_section_display": true,
   "toc_window_display": true
  },
  "varInspector": {
   "cols": {
    "lenName": 16,
    "lenType": 16,
    "lenVar": 40
   },
   "kernels_config": {
    "python": {
     "delete_cmd_postfix": "",
     "delete_cmd_prefix": "del ",
     "library": "var_list.py",
     "varRefreshCmd": "print(var_dic_list())"
    },
    "r": {
     "delete_cmd_postfix": ") ",
     "delete_cmd_prefix": "rm(",
     "library": "var_list.r",
     "varRefreshCmd": "cat(var_dic_list()) "
    }
   },
   "types_to_exclude": [
    "module",
    "function",
    "builtin_function_or_method",
    "instance",
    "_Feature"
   ],
   "window_display": false
  }
 },
 "nbformat": 4,
 "nbformat_minor": 4
}
