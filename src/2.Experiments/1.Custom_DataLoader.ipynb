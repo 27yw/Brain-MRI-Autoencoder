{
 "cells": [
  {
   "cell_type": "markdown",
   "metadata": {},
   "source": [
    "# Keras Data Loaders and Augmentator"
   ]
  },
  {
   "cell_type": "markdown",
   "metadata": {
    "toc": true
   },
   "source": [
    "<h1>Table of Contents<span class=\"tocSkip\"></span></h1>\n",
    "<div class=\"toc\"><ul class=\"toc-item\"><li><span><a href=\"#Image-Data-Generator\" data-toc-modified-id=\"Image-Data-Generator-1\"><span class=\"toc-item-num\">1&nbsp;&nbsp;</span>Image Data Generator</a></span></li><li><span><a href=\"#NPY-CUSTOM-KERAS-Data-Generator\" data-toc-modified-id=\"NPY-CUSTOM-KERAS-Data-Generator-2\"><span class=\"toc-item-num\">2&nbsp;&nbsp;</span>NPY CUSTOM KERAS Data Generator</a></span><ul class=\"toc-item\"><li><span><a href=\"#Initialization-of-custom-generators\" data-toc-modified-id=\"Initialization-of-custom-generators-2.1\"><span class=\"toc-item-num\">2.1&nbsp;&nbsp;</span>Initialization of custom generators</a></span></li><li><span><a href=\"#Test-generator-with-sample-models\" data-toc-modified-id=\"Test-generator-with-sample-models-2.2\"><span class=\"toc-item-num\">2.2&nbsp;&nbsp;</span>Test generator with sample models</a></span></li><li><span><a href=\"#Evaluate-Generator\" data-toc-modified-id=\"Evaluate-Generator-2.3\"><span class=\"toc-item-num\">2.3&nbsp;&nbsp;</span>Evaluate Generator</a></span></li><li><span><a href=\"#Predict-Generator\" data-toc-modified-id=\"Predict-Generator-2.4\"><span class=\"toc-item-num\">2.4&nbsp;&nbsp;</span>Predict Generator</a></span></li><li><span><a href=\"#Example-of-what-generators-returns\" data-toc-modified-id=\"Example-of-what-generators-returns-2.5\"><span class=\"toc-item-num\">2.5&nbsp;&nbsp;</span>Example of what generators returns</a></span></li></ul></li><li><span><a href=\"#OPTIMICE-APPROACHS\" data-toc-modified-id=\"OPTIMICE-APPROACHS-3\"><span class=\"toc-item-num\">3&nbsp;&nbsp;</span>OPTIMICE APPROACHS</a></span><ul class=\"toc-item\"><li><span><a href=\"#Tf.Data\" data-toc-modified-id=\"Tf.Data-3.1\"><span class=\"toc-item-num\">3.1&nbsp;&nbsp;</span>Tf.Data</a></span></li></ul></li><li><span><a href=\"#IMAGES---FROM-PNG\" data-toc-modified-id=\"IMAGES---FROM-PNG-4\"><span class=\"toc-item-num\">4&nbsp;&nbsp;</span>IMAGES - FROM PNG</a></span><ul class=\"toc-item\"><li><span><a href=\"#Keras-Flow_from_directory\" data-toc-modified-id=\"Keras-Flow_from_directory-4.1\"><span class=\"toc-item-num\">4.1&nbsp;&nbsp;</span>Keras Flow_from_directory</a></span></li><li><span><a href=\"#TF.Data-a-mano\" data-toc-modified-id=\"TF.Data-a-mano-4.2\"><span class=\"toc-item-num\">4.2&nbsp;&nbsp;</span>TF.Data a mano</a></span></li></ul></li></ul></div>"
   ]
  },
  {
   "cell_type": "markdown",
   "metadata": {},
   "source": [
    "**OPTIONS**\n",
    "\n",
    "  * ImageDataGenerator + imgaug\n",
    "  * ImageDataGenerator + tf.keras.layers.experimental.preprocessing\n",
    "  * **DATAAUG:** `tf.image`\n",
    "     * https://www.tensorflow.org/api_docs/python/tf/keras/layers/experimental/preprocessing/Normalization?version=nightly\n",
    "     * https://www.tensorflow.org/tutorials/images/data_augmentation#two_options_to_use_the_preprocessing_layers\n",
    "     * **DAUG**: https://colab.research.google.com/github/tensorflow/docs/blob/master/site/en/tutorials/images/data_augmentation.ipynb?hl=es#scrollTo=R5fGVMqlFxF7\n",
    "   \n",
    "\n",
    "**Libraries**\n",
    "\n",
    "* **ImageDataGenerator:**\n",
    "   * CPU\n",
    "   * No easy Custom preprocessing techniques\n",
    "   * From directory\n",
    "   * https://www.tensorflow.org/api_docs/python/tf/keras/preprocessing/image/ImageDataGenerator?version=nightly\n",
    "   * https://keras.io/api/preprocessing/image/#imagedatasetfromdirectory-function\n",
    "   * https://towardsdatascience.com/keras-data-generators-and-how-to-use-them-b69129ed779c\n",
    "   * https://stanford.edu/~shervine/blog/keras-how-to-generate-data-on-the-fly\n",
    "   * https://stackoverflow.com/questions/42443936/keras-split-train-test-set-when-using-imagedatagenerator\n",
    "   * https://www.pyimagesearch.com/2019/07/08/keras-imagedatagenerator-and-data-augmentation/\n",
    " \n",
    "* **imgaug**\n",
    "     * Extra-Library: no optimized neither for Keras nor TF.\n",
    "* **tf.keras.layers.experimental.preprocessing**\n",
    "    * GPU\n",
    "    * https://keras.io/guides/preprocessing_layers/\n",
    "    * https://www.tensorflow.org/api_docs/python/tf/keras/layers/experimental/preprocessing\n",
    "       "
   ]
  },
  {
   "cell_type": "code",
   "execution_count": 1,
   "metadata": {
    "ExecuteTime": {
     "end_time": "2020-11-16T19:03:50.637609Z",
     "start_time": "2020-11-16T19:03:48.740927Z"
    }
   },
   "outputs": [
    {
     "name": "stdout",
     "output_type": "stream",
     "text": [
      "Num GPUs Available:  1\n"
     ]
    }
   ],
   "source": [
    "import tensorflow as tf \n",
    "print(\"Num GPUs Available: \", len(tf.config.experimental.list_physical_devices('GPU')))"
   ]
  },
  {
   "cell_type": "markdown",
   "metadata": {},
   "source": [
    "The first option is to turn on memory growth by calling `tf.config.experimental.set_memory_growth`, which attempts to allocate only **as much GPU memory as needed for the runtime allocation**s: it **starts out allocating very little memory**, and as the program gets run and **more GPU memory is needed, we extend the GPU memory region** allocated to the TensorFlow process. ***Note we do not release memory, since it can lead to memory fragmentation***. To turn on memory growth for a specific GPU, use the following code prior to allocating any tensors or executing any ops."
   ]
  },
  {
   "cell_type": "raw",
   "metadata": {},
   "source": [
    "os.environ[\"CUDA_DEVICE_ORDER\"]=\"PCI_BUS_ID\"\n",
    "os.environ[\"CUDA_VISIBLE_DEVICES\"]=\"0\" #model will be trained on GPU 0"
   ]
  },
  {
   "cell_type": "code",
   "execution_count": 2,
   "metadata": {
    "ExecuteTime": {
     "end_time": "2020-11-16T19:03:50.685557Z",
     "start_time": "2020-11-16T19:03:50.671594Z"
    }
   },
   "outputs": [],
   "source": [
    "physical_devices = tf.config.experimental.list_physical_devices('GPU')\n",
    "tf.config.experimental.set_memory_growth(physical_devices[0], True)\n",
    "#os.environ['TF_FORCE_GPU_ALLOW_GROWTH'] = True"
   ]
  },
  {
   "cell_type": "raw",
   "metadata": {
    "ExecuteTime": {
     "end_time": "2020-11-13T12:31:58.403082Z",
     "start_time": "2020-11-13T12:31:57.473847Z"
    }
   },
   "source": [
    "#tf.debugging.set_log_device_placement(True)\n",
    "# Create some tensors\n",
    "a = tf.constant([[1.0, 2.0, 3.0], [4.0, 5.0, 6.0]])\n",
    "b = tf.constant([[1.0, 2.0], [3.0, 4.0], [5.0, 6.0]])\n",
    "c = tf.matmul(a, b)\n",
    "print(c)"
   ]
  },
  {
   "cell_type": "code",
   "execution_count": 3,
   "metadata": {
    "ExecuteTime": {
     "end_time": "2020-11-16T19:03:51.910544Z",
     "start_time": "2020-11-16T19:03:51.458788Z"
    }
   },
   "outputs": [
    {
     "data": {
      "text/plain": [
       "('2.3.1',\n",
       " True,\n",
       " [PhysicalDevice(name='/physical_device:GPU:0', device_type='GPU')])"
      ]
     },
     "execution_count": 3,
     "metadata": {},
     "output_type": "execute_result"
    }
   ],
   "source": [
    "import pandas as pd\n",
    "import glob\n",
    "import random\n",
    "import time\n",
    "import matplotlib.pyplot as plt\n",
    "import os\n",
    "\n",
    "GLOBAL_BATCH_SIZE = 8\n",
    "\n",
    "tf.__version__, tf.test.is_built_with_cuda(), tf.config.experimental.list_physical_devices('GPU')"
   ]
  },
  {
   "cell_type": "markdown",
   "metadata": {},
   "source": [
    "## Image Data Generator\n",
    "\n",
    "It inclues a easy api, and different ways of data load.\n",
    "\n",
    "**Downside**: \n",
    "* Only reads jpg, png... but it do not read npy files (we have stores numpy files in order to keep the original values of each pixel)\n",
    "* Preprocessing and augmentation are made in CPU\n",
    "\n",
    "\n",
    "\n",
    "\n",
    "```python\n",
    "train_datagen = keras.preprocessing.image.ImageDataGenerator(..., validation_split=0.2) # OJO set validation split\n",
    "\n",
    "validation_datagen = keras.preprocessing.image.ImageDataGenerator(rescale = 1./255)\n",
    "\n",
    "training_set = train_datagen.flow_from_directory(PATH,\n",
    "                                                 subset='training',\n",
    "                                                 class_mode='input', #OJOOOO,\n",
    "                                                 color_mode='grayscale',\n",
    "                                                 shuffle=True,\n",
    "                                                 #save_to_dir='dir prueba' para testear el augmentado,\n",
    "                                                 #save_format='png',\n",
    "                                                 target_size = (64, 64),\n",
    "                                                 batch_size = 32)\n",
    "\n",
    "validation_set = validation_datagen.flow_from_directory(PATH,\n",
    "                                                        subset='validation',\n",
    "                                                        class_mode='input', #OJOOOO\n",
    "                                                        target_size = (64, 64),\n",
    "                                                        batch_size = 32)\n",
    "model = create_model()\n",
    "\n",
    "# steps_per_epoch should be (number of training images total // batch_size) \n",
    "# validation_steps should be (number of validation images total // batch_size) \n",
    "model.fit(training_set,\n",
    "          steps_per_epoch = 8000,\n",
    "          epochs = 5,\n",
    "          validation_data = validation_set,\n",
    "          validation_steps = 2000)\n",
    "```"
   ]
  },
  {
   "cell_type": "markdown",
   "metadata": {},
   "source": [
    "## NPY CUSTOM KERAS Data Generator\n",
    "**We made a custom data generator to have mor control in preprocessing and data augmentation**\n",
    "\n",
    "**Returns a tuple with batch of input images (maybe augmented) on [0] and batch of output images on [1]**\n",
    "\n",
    "**X images could be augmented. Dimensions = (256,256,1) to be fitted in Convolutional Autoencoder**"
   ]
  },
  {
   "cell_type": "markdown",
   "metadata": {},
   "source": [
    "### Initialization of custom generators"
   ]
  },
  {
   "cell_type": "code",
   "execution_count": 4,
   "metadata": {
    "ExecuteTime": {
     "end_time": "2020-11-16T19:03:53.499800Z",
     "start_time": "2020-11-16T19:03:53.474117Z"
    }
   },
   "outputs": [],
   "source": [
    "from my_data_loader import DataGenerator"
   ]
  },
  {
   "cell_type": "code",
   "execution_count": 5,
   "metadata": {
    "ExecuteTime": {
     "end_time": "2020-11-16T19:03:54.033439Z",
     "start_time": "2020-11-16T19:03:53.690416Z"
    }
   },
   "outputs": [],
   "source": [
    "#Partition\n",
    "train_percentage = 0.85\n",
    "\n",
    "MAIN_PATH = '..'+os.path.sep+'IXI-T1'+os.path.sep+'img'+os.path.sep+'train_and_val'\n",
    "trainval_files = glob.glob(MAIN_PATH+os.path.sep+'*.npy')\n",
    "random.shuffle(trainval_files)\n",
    "\n",
    "lim = int(len(trainval_files)*train_percentage)\n",
    "train_files = trainval_files[:lim]\n",
    "validation_files = trainval_files[lim:]\n",
    "\n",
    "test_files = glob.glob('../IXI-T1/img/test/*.npy')\n"
   ]
  },
  {
   "cell_type": "code",
   "execution_count": 6,
   "metadata": {
    "ExecuteTime": {
     "end_time": "2020-11-16T19:03:54.174872Z",
     "start_time": "2020-11-16T19:03:54.161009Z"
    }
   },
   "outputs": [
    {
     "data": {
      "text/plain": [
       "(46285, 5785)"
      ]
     },
     "execution_count": 6,
     "metadata": {},
     "output_type": "execute_result"
    }
   ],
   "source": [
    "# Parameters\n",
    "params = {'dim': (256,256),\n",
    "          'batch_size': GLOBAL_BATCH_SIZE,\n",
    "          'n_channels': 1,\n",
    "          'shuffle': True,\n",
    "          'std_normalization': True,\n",
    "         }\n",
    "# Generators\n",
    "train_generator = DataGenerator(train_files, **params)\n",
    "validation_generator = DataGenerator(validation_files, **params)\n",
    "\n",
    "train_generator.samples, train_generator.samples // train_generator.batch_size"
   ]
  },
  {
   "cell_type": "markdown",
   "metadata": {
    "ExecuteTime": {
     "end_time": "2020-11-13T10:58:17.506880Z",
     "start_time": "2020-11-13T10:58:17.493884Z"
    }
   },
   "source": [
    "### Test generator with sample models"
   ]
  },
  {
   "cell_type": "code",
   "execution_count": 7,
   "metadata": {
    "ExecuteTime": {
     "end_time": "2020-11-16T19:03:55.758275Z",
     "start_time": "2020-11-16T19:03:55.737726Z"
    }
   },
   "outputs": [],
   "source": [
    "from tensorflow.keras.models import Model\n",
    "from tensorflow.keras.layers import Input, Dense, Conv2D, MaxPooling2D, UpSampling2D, BatchNormalization\n",
    "from tensorflow.keras.optimizers import RMSprop\n",
    "from tensorflow.keras import Sequential\n",
    "\n",
    "def build_model_1(i_shape, batch_size):\n",
    "    input_layer = Input(shape=i_shape, batch_size=batch_size, name = \"Image\")\n",
    "    \n",
    "    #Preprocessing\n",
    "    \n",
    "    \n",
    "    \n",
    "    \"\"\"https://www.tensorflow.org/tutorials/images/data_augmentation#apply_the_preprocessing_layers_to_the_datasets\n",
    "    resize_and_rescale = tf.keras.Sequential([\n",
    "      layers.experimental.preprocessing.Resizing(IMG_SIZE, IMG_SIZE),\n",
    "      layers.experimental.preprocessing.Rescaling(1./255)\n",
    "    ])\n",
    "    \n",
    "    \"\"\"\n",
    "    # encoder\n",
    "    h = Conv2D(64, (3, 3), activation='relu', padding='same')(input_layer)\n",
    "    h = MaxPooling2D((2, 2), padding='same')(h)\n",
    "\n",
    "    # decoder\n",
    "    h = Conv2D(64, (3, 3), activation='relu', padding='same')(h)\n",
    "    h = UpSampling2D((2, 2))(h)\n",
    "    output_layer = Conv2D(1, (3, 3), activation='sigmoid', padding='same')(h)\n",
    "\n",
    "    return Model(input_layer, output_layer)\n",
    "\n",
    "\n",
    "def build_model_2(input_shape, batch_size):\n",
    "    def autoencoder(input_img):\n",
    "        #encoder\n",
    "        #input = 256 x 256 x 1 (wide and thin)\n",
    "        conv1 = Conv2D(32, (3, 3), activation='relu', padding='same')(input_img) #256 x 256 x 32\n",
    "        conv1 = BatchNormalization()(conv1)\n",
    "        pool1 = MaxPooling2D(pool_size=(2, 2))(conv1) #128 x 128 x 32\n",
    "\n",
    "        conv2 = Conv2D(64, (3, 3), activation='relu', padding='same')(pool1) #128 x 128 x 64\n",
    "        conv2 = BatchNormalization()(conv2)\n",
    "        pool2 = MaxPooling2D(pool_size=(2, 2))(conv2) #64 x 64 x 64\n",
    "\n",
    "        conv3 = Conv2D(128, (3, 3), activation='relu', padding='same')(pool2) #64 x 64 x 128 (small and thick)\n",
    "        conv3 = BatchNormalization()(conv3)\n",
    "\n",
    "\n",
    "        #decoder\n",
    "        conv4 = Conv2D(64, (3, 3), activation='relu', padding='same')(conv3)\n",
    "        conv4 = BatchNormalization()(conv4)\n",
    "        up1 = UpSampling2D((2,2))(conv4) # 128 x 128 x 128\n",
    "        \n",
    "        conv5 = Conv2D(32, (3, 3), activation='relu', padding='same')(up1) # 128 x 128 x 64\n",
    "        conv5 = BatchNormalization()(conv5)\n",
    "        up2 = UpSampling2D((2,2))(conv5) # 28 x 28 x 64\n",
    "        \n",
    "        decoded = Conv2D(1, (3, 3), activation='sigmoid', padding='same')(up2) # 256 x 256 x 1\n",
    "        \n",
    "        return decoded\n",
    "\n",
    "    input_img = Input(shape = input_shape, batch_size=batch_size)\n",
    "    return Model(input_img, autoencoder(input_img))\n",
    "\n",
    "\n",
    "def build_model_3(input_shape, batch_size):\n",
    "    \n",
    "    # ENCODER\n",
    "    input_img = Input(shape=input_shape, batch_size = batch_size)  \n",
    "    x = Conv2D(48, (3, 3), activation='relu', padding='same', name = 'eCONV1')(input_img)\n",
    "    x = MaxPooling2D((2, 2), padding='same')(x)\n",
    "    x = Conv2D(96, (3, 3), activation='relu', padding='same', name = 'eCONV2')(x)\n",
    "    x = MaxPooling2D((2, 2), padding='same')(x)\n",
    "    x = Conv2D(192, (3, 3), activation='relu', padding='same', name = 'eCONV3')(x)\n",
    "    x = MaxPooling2D((2, 2), padding='same')(x)\n",
    "    encoded = Conv2D(32, (1, 1), activation='relu', padding='same', name = 'eCONV4')(x)\n",
    "\n",
    "    # LATENT SPACE\n",
    "    latentSize = (int(input_shape[0]/8),int(input_shape[1]/8),32)\n",
    "\n",
    "    # DECODER\n",
    "    direct_input = Input(shape=latentSize, batch_size = batch_size)\n",
    "    x = Conv2D(192, (1, 1), activation='relu', padding='same', name = 'dCONV1')(direct_input)\n",
    "    x = UpSampling2D((2, 2))(x)\n",
    "    x = Conv2D(192, (3, 3), activation='relu', padding='same', name = 'dCONV2')(x)\n",
    "    x = UpSampling2D((2, 2))(x)\n",
    "    x = Conv2D(96, (3, 3), activation='relu', padding='same', name = 'dCONV3')(x)\n",
    "    x = UpSampling2D((2, 2))(x)\n",
    "    x = Conv2D(48, (3, 3), activation='relu', padding='same', name = 'dCONV4')(x)\n",
    "    decoded = Conv2D(1, (3, 3), activation='sigmoid', padding='same', name = 'to1channel')(x)\n",
    "\n",
    "    # COMPILE\n",
    "    encoder = Model(input_img, encoded, name='ENCOER')\n",
    "    decoder = Model(direct_input, decoded, name='DECODER')\n",
    "    return  Model(input_img, decoder(encoded), name='AUTOENCODER')\n",
    "    "
   ]
  },
  {
   "cell_type": "code",
   "execution_count": 8,
   "metadata": {
    "ExecuteTime": {
     "end_time": "2020-11-16T19:03:57.570701Z",
     "start_time": "2020-11-16T19:03:56.833701Z"
    }
   },
   "outputs": [
    {
     "name": "stdout",
     "output_type": "stream",
     "text": [
      "Model: \"functional_1\"\n",
      "_________________________________________________________________\n",
      "Layer (type)                 Output Shape              Param #   \n",
      "=================================================================\n",
      "input_1 (InputLayer)         [(8, 256, 256, 1)]        0         \n",
      "_________________________________________________________________\n",
      "conv2d (Conv2D)              (8, 256, 256, 32)         320       \n",
      "_________________________________________________________________\n",
      "batch_normalization (BatchNo (8, 256, 256, 32)         128       \n",
      "_________________________________________________________________\n",
      "max_pooling2d (MaxPooling2D) (8, 128, 128, 32)         0         \n",
      "_________________________________________________________________\n",
      "conv2d_1 (Conv2D)            (8, 128, 128, 64)         18496     \n",
      "_________________________________________________________________\n",
      "batch_normalization_1 (Batch (8, 128, 128, 64)         256       \n",
      "_________________________________________________________________\n",
      "max_pooling2d_1 (MaxPooling2 (8, 64, 64, 64)           0         \n",
      "_________________________________________________________________\n",
      "conv2d_2 (Conv2D)            (8, 64, 64, 128)          73856     \n",
      "_________________________________________________________________\n",
      "batch_normalization_2 (Batch (8, 64, 64, 128)          512       \n",
      "_________________________________________________________________\n",
      "conv2d_3 (Conv2D)            (8, 64, 64, 64)           73792     \n",
      "_________________________________________________________________\n",
      "batch_normalization_3 (Batch (8, 64, 64, 64)           256       \n",
      "_________________________________________________________________\n",
      "up_sampling2d (UpSampling2D) (8, 128, 128, 64)         0         \n",
      "_________________________________________________________________\n",
      "conv2d_4 (Conv2D)            (8, 128, 128, 32)         18464     \n",
      "_________________________________________________________________\n",
      "batch_normalization_4 (Batch (8, 128, 128, 32)         128       \n",
      "_________________________________________________________________\n",
      "up_sampling2d_1 (UpSampling2 (8, 256, 256, 32)         0         \n",
      "_________________________________________________________________\n",
      "conv2d_5 (Conv2D)            (8, 256, 256, 1)          289       \n",
      "=================================================================\n",
      "Total params: 186,497\n",
      "Trainable params: 185,857\n",
      "Non-trainable params: 640\n",
      "_________________________________________________________________\n"
     ]
    }
   ],
   "source": [
    "autoencoder =  build_model_2((256,256,1),  train_generator.batch_size)   \n",
    "autoencoder.compile(loss='mse', optimizer='Adam')\n",
    "autoencoder.summary()"
   ]
  },
  {
   "cell_type": "code",
   "execution_count": 9,
   "metadata": {
    "ExecuteTime": {
     "end_time": "2020-11-16T19:03:57.884605Z",
     "start_time": "2020-11-16T19:03:57.696756Z"
    },
    "scrolled": true
   },
   "outputs": [
    {
     "data": {
      "image/png": "[encoded data removed]",
      "text/plain": [
       "<IPython.core.display.Image object>"
      ]
     },
     "execution_count": 9,
     "metadata": {},
     "output_type": "execute_result"
    }
   ],
   "source": [
    "tf.keras.utils.plot_model(autoencoder, to_file='model.png', show_shapes=True)"
   ]
  },
  {
   "cell_type": "code",
   "execution_count": 9,
   "metadata": {
    "ExecuteTime": {
     "end_time": "2020-11-14T15:56:58.158558Z",
     "start_time": "2020-11-14T15:56:58.145593Z"
    }
   },
   "outputs": [
    {
     "data": {
      "text/plain": [
       "5785"
      ]
     },
     "execution_count": 9,
     "metadata": {},
     "output_type": "execute_result"
    }
   ],
   "source": [
    "train_generator.samples // train_generator.batch_size"
   ]
  },
  {
   "cell_type": "markdown",
   "metadata": {},
   "source": [
    " `max_queue_size=10`, `use_multiprocessing=True`, `workers=16` Only used if Generator is instance of **SEQUENCE**"
   ]
  },
  {
   "cell_type": "code",
   "execution_count": 10,
   "metadata": {
    "ExecuteTime": {
     "end_time": "2020-11-14T15:56:58.174555Z",
     "start_time": "2020-11-14T15:56:58.160553Z"
    }
   },
   "outputs": [],
   "source": [
    "STEP_SIZE_TRAIN = train_generator.samples // train_generator.batch_size\n",
    "STEP_SIZE_VALID = validation_generator.samples // validation_generator.batch_size"
   ]
  },
  {
   "cell_type": "code",
   "execution_count": 11,
   "metadata": {
    "ExecuteTime": {
     "end_time": "2020-11-14T16:08:18.090093Z",
     "start_time": "2020-11-14T15:56:58.175512Z"
    }
   },
   "outputs": [
    {
     "name": "stdout",
     "output_type": "stream",
     "text": [
      "Epoch 1/2\n",
      "WARNING:tensorflow:multiprocessing can interact badly with TensorFlow, causing nondeterministic deadlocks. For high performance data pipelines tf.data is recommended.\n",
      "5784/5785 [============================>.] - ETA: 0s - loss: 0.4962WARNING:tensorflow:multiprocessing can interact badly with TensorFlow, causing nondeterministic deadlocks. For high performance data pipelines tf.data is recommended.\n",
      "WARNING:tensorflow:multiprocessing can interact badly with TensorFlow, causing nondeterministic deadlocks. For high performance data pipelines tf.data is recommended.\n",
      "5785/5785 [==============================] - 307s 53ms/step - loss: 0.4963 - val_loss: 0.4932\n",
      "Epoch 2/2\n",
      "WARNING:tensorflow:multiprocessing can interact badly with TensorFlow, causing nondeterministic deadlocks. For high performance data pipelines tf.data is recommended.\n",
      "5784/5785 [============================>.] - ETA: 0s - loss: 0.4927WARNING:tensorflow:multiprocessing can interact badly with TensorFlow, causing nondeterministic deadlocks. For high performance data pipelines tf.data is recommended.\n",
      "WARNING:tensorflow:multiprocessing can interact badly with TensorFlow, causing nondeterministic deadlocks. For high performance data pipelines tf.data is recommended.\n",
      "5785/5785 [==============================] - 318s 55ms/step - loss: 0.4927 - val_loss: 0.4925\n"
     ]
    }
   ],
   "source": [
    "\n",
    "\n",
    "'''early_stopping = EarlyStopping(monitor='val_loss',\n",
    "                                       min_delta=0,\n",
    "                                       patience=5,\n",
    "                                       verbose=1, \n",
    "                                       mode='auto')'''\n",
    "\n",
    "#from tensorflow.keras.callbacks import CSVLogger, ProgbarLogger\n",
    "#csv_logger = CSVLogger('CHECKtraining.log')\n",
    "\n",
    "#tf.debugging.set_log_device_placement(False)\n",
    "\n",
    "  \n",
    "start = time.time()\n",
    "    \n",
    "autoencoder_train = autoencoder.fit(train_generator,\n",
    "                                    epochs=2, \n",
    "                                    steps_per_epoch = STEP_SIZE_TRAIN,\n",
    "                                    validation_data = validation_generator, \n",
    "                                    validation_steps = STEP_SIZE_VALID,\n",
    "                                    verbose=1,\n",
    "                                    max_queue_size=15,\n",
    "                                    use_multiprocessing=True,\n",
    "                                    workers=12\n",
    "                                   )\n",
    "end = time.time()"
   ]
  },
  {
   "cell_type": "code",
   "execution_count": 12,
   "metadata": {
    "ExecuteTime": {
     "end_time": "2020-11-14T16:08:18.106052Z",
     "start_time": "2020-11-14T16:08:18.092089Z"
    }
   },
   "outputs": [
    {
     "data": {
      "text/plain": [
       "679.8946011066437"
      ]
     },
     "execution_count": 12,
     "metadata": {},
     "output_type": "execute_result"
    }
   ],
   "source": [
    "end-start"
   ]
  },
  {
   "cell_type": "code",
   "execution_count": 13,
   "metadata": {
    "ExecuteTime": {
     "end_time": "2020-11-14T16:08:18.548896Z",
     "start_time": "2020-11-14T16:08:18.203791Z"
    }
   },
   "outputs": [
    {
     "data": {
      "image/png": "[encoded data removed]",
      "text/plain": [
       "<Figure size 432x288 with 1 Axes>"
      ]
     },
     "metadata": {
      "needs_background": "light"
     },
     "output_type": "display_data"
    }
   ],
   "source": [
    "import matplotlib.pyplot as plt\n",
    "plt.plot(autoencoder_train.history['val_loss'])\n",
    "plt.title('Model loss')\n",
    "plt.ylabel('Loss')\n",
    "plt.xlabel('Epoch')\n",
    "plt.legend(['Train', 'Test'], loc='upper left')\n",
    "plt.show()"
   ]
  },
  {
   "cell_type": "code",
   "execution_count": 14,
   "metadata": {
    "ExecuteTime": {
     "end_time": "2020-11-14T16:08:18.704453Z",
     "start_time": "2020-11-14T16:08:18.550863Z"
    }
   },
   "outputs": [
    {
     "data": {
      "image/png": "[encoded data removed]",
      "text/plain": [
       "<Figure size 432x288 with 1 Axes>"
      ]
     },
     "metadata": {
      "needs_background": "light"
     },
     "output_type": "display_data"
    }
   ],
   "source": [
    "loss = autoencoder_train.history['loss']\n",
    "val_loss = autoencoder_train.history['val_loss']\n",
    "epochs = range(2)\n",
    "plt.figure()\n",
    "plt.plot(epochs, loss, 'bo', label='Training loss')\n",
    "plt.plot(epochs, val_loss, 'b', label='Validation loss')\n",
    "plt.title('Training and validation loss')\n",
    "plt.legend()\n",
    "plt.show()"
   ]
  },
  {
   "cell_type": "markdown",
   "metadata": {},
   "source": [
    "### Evaluate Generator"
   ]
  },
  {
   "cell_type": "raw",
   "metadata": {},
   "source": [
    "model.evaluate_generator(generator=valid_generator, steps=STEP_SIZE_VALID)"
   ]
  },
  {
   "cell_type": "markdown",
   "metadata": {},
   "source": [
    "### Predict Generator"
   ]
  },
  {
   "cell_type": "raw",
   "metadata": {},
   "source": [
    "#predict\n",
    "test_generator = DataGenerator(test_files, **params, to_fit=False)\n",
    "pred = model.predict_generator(pred_generator)"
   ]
  },
  {
   "cell_type": "raw",
   "metadata": {},
   "source": [
    "STEP_SIZE_TEST=test_generator.n//test_generator.batch_size\n",
    "test_generator.reset()\n",
    "pred=model.predict_generator(test_generator,\n",
    "steps=STEP_SIZE_TEST,\n",
    "verbose=1)"
   ]
  },
  {
   "cell_type": "markdown",
   "metadata": {
    "ExecuteTime": {
     "end_time": "2020-11-12T17:56:22.753951Z",
     "start_time": "2020-11-12T17:56:22.739975Z"
    }
   },
   "source": [
    "### Example of what generators returns"
   ]
  },
  {
   "cell_type": "raw",
   "metadata": {
    "ExecuteTime": {
     "end_time": "2020-11-13T12:48:26.099513Z",
     "start_time": "2020-11-13T12:31:55.157Z"
    }
   },
   "source": [
    "def blank_out(img, percentage=0.05, square = True):\n",
    "    import numpy as np\n",
    "    \n",
    "    img = img.copy()\n",
    "    blank_out_size =  int(np.prod(img.shape) * percentage)\n",
    "    if not square:\n",
    "        max_side_size = img.shape[0]\n",
    "        min_side_size = np.ceil(blank_out_size/img.shape[0])+1\n",
    "        \n",
    "        heigth = np.random.randint(min_side_size, max_side_size) \n",
    "        width = int(np.floor(blank_out_size / heigth))\n",
    "        \n",
    "    else:\n",
    "        heigth = int(np.floor(np.sqrt(blank_out_size)))\n",
    "        width = heigth\n",
    "    \n",
    "    y_init_lim = np.random.randint(0, img.shape[0]-heigth)\n",
    "    x_init_lim = np.random.randint(0, img.shape[1]-width)\n",
    "    \n",
    "    img[y_init_lim : y_init_lim+heigth, x_init_lim : x_init_lim+width] = img.min()\n",
    "    \n",
    "    return img"
   ]
  },
  {
   "cell_type": "raw",
   "metadata": {
    "ExecuteTime": {
     "end_time": "2020-11-13T13:35:44.960195Z",
     "start_time": "2020-11-13T13:35:44.817644Z"
    }
   },
   "source": [
    "params = {'dim': (256,256),\n",
    "          'batch_size': 2,\n",
    "          'n_channels': 1,\n",
    "          'shuffle': True,\n",
    "          'std_normalization': True,\n",
    "          'to_fit': True,\n",
    "          'augment': True,\n",
    "          'f_aug':blank_out,\n",
    "         }\n",
    "train_generator = DataGenerator(test_files, **params)"
   ]
  },
  {
   "cell_type": "raw",
   "metadata": {
    "ExecuteTime": {
     "end_time": "2020-11-13T12:48:26.101482Z",
     "start_time": "2020-11-13T12:31:55.161Z"
    }
   },
   "source": [
    "batchx, batchy = train_generator.__getitem__(0)"
   ]
  },
  {
   "cell_type": "raw",
   "metadata": {
    "ExecuteTime": {
     "end_time": "2020-11-13T12:48:26.102479Z",
     "start_time": "2020-11-13T12:31:55.163Z"
    }
   },
   "source": [
    "import matplotlib.pyplot as plt"
   ]
  },
  {
   "cell_type": "raw",
   "metadata": {
    "ExecuteTime": {
     "end_time": "2020-11-13T12:48:26.103488Z",
     "start_time": "2020-11-13T12:31:55.164Z"
    }
   },
   "source": [
    "for i in range(2):\n",
    "    fig, ax = plt.subplots(1,2,figsize = (12,4))\n",
    "    ax[0].imshow(batchx[i], cmap='gray')\n",
    "    ax[1].imshow(batchy[i], cmap='gray')\n",
    "    plt.show()"
   ]
  },
  {
   "cell_type": "code",
   "execution_count": null,
   "metadata": {},
   "outputs": [],
   "source": []
  },
  {
   "cell_type": "markdown",
   "metadata": {
    "ExecuteTime": {
     "end_time": "2020-11-13T08:49:19.726710Z",
     "start_time": "2020-11-13T08:49:19.185261Z"
    }
   },
   "source": [
    "## OPTIMICE APPROACHS\n",
    "### Tf.Data\n",
    "https://www.tensorflow.org/guide/data_performance?hl=en\n",
    "\n",
    "https://towardsdatascience.com/dump-keras-imagedatagenerator-start-using-tensorflow-tf-data-part-2-fba7cda81203"
   ]
  },
  {
   "cell_type": "code",
   "execution_count": 15,
   "metadata": {
    "ExecuteTime": {
     "end_time": "2020-11-14T16:08:18.720408Z",
     "start_time": "2020-11-14T16:08:18.706445Z"
    }
   },
   "outputs": [
    {
     "data": {
      "text/plain": [
       "True"
      ]
     },
     "execution_count": 15,
     "metadata": {},
     "output_type": "execute_result"
    }
   ],
   "source": [
    "tf.executing_eagerly()"
   ]
  },
  {
   "cell_type": "code",
   "execution_count": 16,
   "metadata": {
    "ExecuteTime": {
     "end_time": "2020-11-14T16:08:18.736365Z",
     "start_time": "2020-11-14T16:08:18.722403Z"
    }
   },
   "outputs": [],
   "source": [
    "def load_data_using_tfdata(files, batch_size = 4, std_norm = True, cache_img=False):\n",
    "    \"\"\"\n",
    "    Load the images in batches using Tensorflow (tfdata).\n",
    "    Cache can be used to speed up the process.\n",
    "    Faster method in comparison to image loading using Keras.\n",
    "    Returns:\n",
    "    Data Generator to be used while training the model.\n",
    "    https://towardsdatascience.com/dump-keras-imagedatagenerator-start-using-tensorflow-tf-data-part-2-fba7cda81203\n",
    "    \"\"\"\n",
    "    import numpy as np\n",
    "    def parse_image(file_path):\n",
    "        # load the raw data from the file as a string\n",
    "        img = tf.cast(np.load(file_path.numpy()), tf.float32)\n",
    "        #img = tf.io.read_file(file_path)\n",
    "        img = tf.expand_dims(img, axis=2)\n",
    "        \n",
    "        #PREPROCESSING\n",
    "        # resize the image to the desired size.\n",
    "        # img = tf.image.resize(img, [img_dims[0], img_dims[1]], method=tf.image.ResizeMethod.GAUSSIAN, antialias=True)\n",
    "        if std_norm:\n",
    "            img = tf.math.divide(tf.math.subtract(img, tf.math.reduce_mean(img)),\n",
    "                                 tf.math.reduce_std(img))\n",
    "            \n",
    "        return img, tf.identity(img)\n",
    "        \n",
    "        #return tf.data.Dataset.zip((tf.data.Dataset.from_tensors(img), tf.data.Dataset.from_tensors(tf.identity(img))))\n",
    "\n",
    "\n",
    "    def prepare_for_training(ds, cache=False, shuffle_buffer_size=1000):\n",
    "        # If a small dataset, only load it once, and keep it in memory.\n",
    "        # use `.cache(filename)` to cache preprocessing work for datasets\n",
    "        # that don't fit in memory.\n",
    "        if cache:\n",
    "            if isinstance(cache, str):\n",
    "                ds = ds.cache(cache)\n",
    "            else:\n",
    "                ds = ds.cache()\n",
    "                \n",
    "        #https://stackoverflow.com/questions/46444018/meaning-of-buffer-size-in-dataset-map-dataset-prefetch-and-dataset-shuffle\n",
    "        ds = ds.shuffle(buffer_size=shuffle_buffer_size)\n",
    "        \n",
    "        # representing the number of times the dataset should be repeated. \n",
    "        # The default behavior (if count is None or -1) is for the dataset be repeated indefinitely.\n",
    "        ds = ds.repeat()\n",
    "        ds = ds.batch(batch_size)\n",
    "        \n",
    "        '''AUGMENTATION\n",
    "        aug_ds = train_ds.map(\n",
    "                          lambda x, y: (resize_and_rescale(x, training=True), y))'''\n",
    "        \n",
    "        # `prefetch` lets the dataset fetch batches in the background\n",
    "        # while the model is training.\n",
    "        ds = ds.prefetch(buffer_size=AUTOTUNE)\n",
    "        return ds\n",
    "\n",
    "    #Get all path files\n",
    "    list_ds = tf.data.Dataset.from_tensor_slices(files)\n",
    "    \n",
    "    # Set `num_parallel_calls` so that multiple images are\n",
    "    # processed in parallel\n",
    "    AUTOTUNE = tf.data.experimental.AUTOTUNE\n",
    "    labeled_ds = list_ds.map(lambda item: tf.py_function(parse_image, [item],\n",
    "                                                                [tf.float32, tf.float32]),\n",
    "                                    num_parallel_calls=AUTOTUNE)\n",
    "    '''INTERLEAVE PARALELIZE\n",
    "    labeled_ds = list_ds.interleave(lambda item: tf.py_function(parse_image, [item],\n",
    "                                                                tf.float32),\n",
    "                                    num_parallel_calls=AUTOTUNE)'''\n",
    "    #labeled_ds = list_ds.interleave(tf.py_function(parse_image), num_parallel_calls=tf.data.experimental.AUTOTUNE)\n",
    "    \n",
    "    # cache = True, False, './file_name'\n",
    "    # If the dataset doesn't fit in memory use a cache file,\n",
    "    # eg. cache='./data.tfcache'\n",
    "    \n",
    "    return prepare_for_training(labeled_ds, cache=cache_img) #'cocodata.tfcache'\n",
    "\n"
   ]
  },
  {
   "cell_type": "code",
   "execution_count": 17,
   "metadata": {
    "ExecuteTime": {
     "end_time": "2020-11-14T16:08:19.113357Z",
     "start_time": "2020-11-14T16:08:18.738362Z"
    },
    "scrolled": false
   },
   "outputs": [
    {
     "name": "stdout",
     "output_type": "stream",
     "text": [
      "Model: \"functional_3\"\n",
      "_________________________________________________________________\n",
      "Layer (type)                 Output Shape              Param #   \n",
      "=================================================================\n",
      "input_2 (InputLayer)         [(8, 256, 256, 1)]        0         \n",
      "_________________________________________________________________\n",
      "conv2d_6 (Conv2D)            (8, 256, 256, 32)         320       \n",
      "_________________________________________________________________\n",
      "batch_normalization_5 (Batch (8, 256, 256, 32)         128       \n",
      "_________________________________________________________________\n",
      "max_pooling2d_2 (MaxPooling2 (8, 128, 128, 32)         0         \n",
      "_________________________________________________________________\n",
      "conv2d_7 (Conv2D)            (8, 128, 128, 64)         18496     \n",
      "_________________________________________________________________\n",
      "batch_normalization_6 (Batch (8, 128, 128, 64)         256       \n",
      "_________________________________________________________________\n",
      "max_pooling2d_3 (MaxPooling2 (8, 64, 64, 64)           0         \n",
      "_________________________________________________________________\n",
      "conv2d_8 (Conv2D)            (8, 64, 64, 128)          73856     \n",
      "_________________________________________________________________\n",
      "batch_normalization_7 (Batch (8, 64, 64, 128)          512       \n",
      "_________________________________________________________________\n",
      "conv2d_9 (Conv2D)            (8, 64, 64, 64)           73792     \n",
      "_________________________________________________________________\n",
      "batch_normalization_8 (Batch (8, 64, 64, 64)           256       \n",
      "_________________________________________________________________\n",
      "up_sampling2d_2 (UpSampling2 (8, 128, 128, 64)         0         \n",
      "_________________________________________________________________\n",
      "conv2d_10 (Conv2D)           (8, 128, 128, 32)         18464     \n",
      "_________________________________________________________________\n",
      "batch_normalization_9 (Batch (8, 128, 128, 32)         128       \n",
      "_________________________________________________________________\n",
      "up_sampling2d_3 (UpSampling2 (8, 256, 256, 32)         0         \n",
      "_________________________________________________________________\n",
      "conv2d_11 (Conv2D)           (8, 256, 256, 1)          289       \n",
      "=================================================================\n",
      "Total params: 186,497\n",
      "Trainable params: 185,857\n",
      "Non-trainable params: 640\n",
      "_________________________________________________________________\n"
     ]
    }
   ],
   "source": [
    "params = {'batch_size': GLOBAL_BATCH_SIZE,\n",
    "          'cache_img':False\n",
    "         }\n",
    "\n",
    "train_generator = load_data_using_tfdata(train_files, **params)\n",
    "validation_generator = load_data_using_tfdata(validation_files, **params)\n",
    "\n",
    "autoencoder =  build_model_2((256,256,1),  params.get('batch_size'))   \n",
    "autoencoder.compile(loss='mse', optimizer='Adam')\n",
    "autoencoder.summary()"
   ]
  },
  {
   "cell_type": "code",
   "execution_count": 18,
   "metadata": {
    "ExecuteTime": {
     "end_time": "2020-11-14T16:08:19.129315Z",
     "start_time": "2020-11-14T16:08:19.115354Z"
    }
   },
   "outputs": [
    {
     "data": {
      "text/plain": [
       "5785"
      ]
     },
     "execution_count": 18,
     "metadata": {},
     "output_type": "execute_result"
    }
   ],
   "source": [
    "len(train_files) // params.get('batch_size')"
   ]
  },
  {
   "cell_type": "code",
   "execution_count": 19,
   "metadata": {
    "ExecuteTime": {
     "end_time": "2020-11-14T16:20:06.429260Z",
     "start_time": "2020-11-14T16:08:19.131310Z"
    },
    "scrolled": false
   },
   "outputs": [
    {
     "name": "stdout",
     "output_type": "stream",
     "text": [
      "Epoch 1/2\n",
      "5785/5785 [==============================] - 351s 61ms/step - loss: 0.4962 - val_loss: 0.4929\n",
      "Epoch 2/2\n",
      "5785/5785 [==============================] - 353s 61ms/step - loss: 0.4926 - val_loss: 0.4917\n"
     ]
    }
   ],
   "source": [
    "STEP_SIZE_TRAIN = len(train_files) // params.get('batch_size')\n",
    "STEP_SIZE_VALID = len(validation_files) // params.get('batch_size')\n",
    "  \n",
    "start = time.time()\n",
    "    \n",
    "autoencoder_train = autoencoder.fit(train_generator,\n",
    "                                    epochs=2, \n",
    "                                    steps_per_epoch = STEP_SIZE_TRAIN,\n",
    "                                    validation_data = validation_generator, \n",
    "                                    validation_steps = STEP_SIZE_VALID,\n",
    "                                    verbose=1\n",
    "                                    #max_queue_size=15,\n",
    "                                    #use_multiprocessing=True,\n",
    "                                    #workers=12\n",
    "                                    \n",
    "                                   )\n",
    "end = time.time()"
   ]
  },
  {
   "cell_type": "code",
   "execution_count": 20,
   "metadata": {
    "ExecuteTime": {
     "end_time": "2020-11-14T16:20:06.445218Z",
     "start_time": "2020-11-14T16:20:06.430258Z"
    }
   },
   "outputs": [
    {
     "data": {
      "text/plain": [
       "707.2832615375519"
      ]
     },
     "execution_count": 20,
     "metadata": {},
     "output_type": "execute_result"
    }
   ],
   "source": [
    "end-start"
   ]
  },
  {
   "cell_type": "raw",
   "metadata": {},
   "source": [
    "tf.data.Dataset.range(2)\n",
    "    .interleave(\n",
    "        ArtificialDataset,\n",
    "        num_parallel_calls=tf.data.experimental.AUTOTUNE\n",
    "    )"
   ]
  },
  {
   "cell_type": "raw",
   "metadata": {},
   "source": [
    "d = Dataset.list_files(pattern)\n",
    "d = d.shard(num_workers, worker_index)\n",
    "d = d.repeat(num_epochs)\n",
    "d = d.shuffle(shuffle_buffer_size)\n",
    "d = d.interleave(tf.data.TFRecordDataset,\n",
    "                 cycle_length=num_readers, block_length=1)\n",
    "d = d.map(parser_fn, num_parallel_calls=num_map_threads)\n"
   ]
  },
  {
   "cell_type": "raw",
   "metadata": {
    "ExecuteTime": {
     "end_time": "2020-11-13T20:05:49.999516Z",
     "start_time": "2020-11-13T20:05:49.981995Z"
    }
   },
   "source": [
    "tf.data.Dataset.zip((x,y))"
   ]
  },
  {
   "cell_type": "code",
   "execution_count": null,
   "metadata": {},
   "outputs": [],
   "source": []
  },
  {
   "cell_type": "markdown",
   "metadata": {},
   "source": [
    "## IMAGES - FROM PNG\n",
    "\n",
    "### Keras Flow_from_directory"
   ]
  },
  {
   "cell_type": "raw",
   "metadata": {
    "ExecuteTime": {
     "end_time": "2020-11-14T14:47:57.460141Z",
     "start_time": "2020-11-14T14:47:57.452197Z"
    }
   },
   "source": [
    "from tensorflow.keras.preprocessing.image import ImageDataGenerator"
   ]
  },
  {
   "cell_type": "raw",
   "metadata": {
    "ExecuteTime": {
     "end_time": "2020-11-14T15:11:15.012802Z",
     "start_time": "2020-11-14T15:11:12.140343Z"
    }
   },
   "source": [
    "train_datagen = ImageDataGenerator(samplewise_center=True,\n",
    "                                   samplewise_std_normalization=True,\n",
    "                                   #rescale = 0.5,\n",
    "                                   validation_split=1-train_percentage,\n",
    "                                   dtype=tf.float32\n",
    "                                  ) # OJO set validation split\n",
    "\n",
    "\n",
    "training_generator = train_datagen.flow_from_directory('..\\\\IXI-T1\\\\PNG\\\\train_val_folder\\\\',\n",
    "                                                 subset='training',\n",
    "                                                 class_mode='input', #OJOOOO,\n",
    "                                                 color_mode='grayscale',\n",
    "                                                 shuffle=True,\n",
    "                                                 target_size = (256,256),\n",
    "                                                 batch_size = GLOBAL_BATCH_SIZE)\n",
    "\n",
    "validation_generator = train_datagen.flow_from_directory('..\\\\IXI-T1\\\\PNG\\\\train_val_folder\\\\',\n",
    "                                                        subset='validation',\n",
    "                                                        class_mode='input', #OJOOOO\n",
    "                                                        color_mode='grayscale',\n",
    "                                                        target_size = (256,256),\n",
    "                                                        #interpolation\n",
    "                                                        batch_size = GLOBAL_BATCH_SIZE)\n",
    "\n",
    "train_ds = tf.data.Dataset.from_generator(\n",
    "    lambda: training_generator, \n",
    "    output_types=(tf.float32, tf.float32), \n",
    "    output_shapes=([None,256,256,1], [None,256,256,1])\n",
    ")\n",
    "\n",
    "val_ds = tf.data.Dataset.from_generator(\n",
    "    lambda: validation_generator, \n",
    "    output_types=(tf.float32, tf.float32), \n",
    "    output_shapes=([None,256,256,1], [None,256,256,1])\n",
    ")\n",
    "\n",
    "def prepare_ds(ds):\n",
    "    #ds = ds.shuffle(buffer_size=1000)\n",
    "    ds = ds.repeat()\n",
    "    ds = ds.prefetch(buffer_size=tf.data.experimental.AUTOTUNE)\n",
    "    return ds\n",
    "    \n",
    "train_ds = prepare_ds(train_ds)\n",
    "val_ds = prepare_ds(val_ds)"
   ]
  },
  {
   "cell_type": "raw",
   "metadata": {
    "ExecuteTime": {
     "end_time": "2020-11-14T15:11:39.101920Z",
     "start_time": "2020-11-14T15:11:38.964705Z"
    }
   },
   "source": [
    "autoencoder =  build_model_2((256,256,1),  GLOBAL_BATCH_SIZE)   \n",
    "autoencoder.compile(loss='mse', optimizer='Adam')"
   ]
  },
  {
   "cell_type": "raw",
   "metadata": {
    "ExecuteTime": {
     "end_time": "2020-11-14T15:15:29.188651Z",
     "start_time": "2020-11-14T15:11:40.198870Z"
    }
   },
   "source": [
    "st = time.time()\n",
    "autoencoder.fit(train_ds, \n",
    "                epochs=2,\n",
    "                steps_per_epoch = (training_generator.samples // GLOBAL_BATCH_SIZE)-1,\n",
    "                \n",
    "                validation_data=val_ds,\n",
    "                validation_steps= (validation_generator.samples // GLOBAL_BATCH_SIZE)-1,\n",
    "                \n",
    "                #max_queue_size=15,\n",
    "                use_multiprocessing=True,\n",
    "                workers=12\n",
    "         )\n",
    "end = time.time()"
   ]
  },
  {
   "cell_type": "raw",
   "metadata": {
    "ExecuteTime": {
     "end_time": "2020-11-14T15:00:54.021891Z",
     "start_time": "2020-11-14T15:00:12.164Z"
    }
   },
   "source": [
    "end - st"
   ]
  },
  {
   "cell_type": "code",
   "execution_count": null,
   "metadata": {},
   "outputs": [],
   "source": []
  },
  {
   "cell_type": "markdown",
   "metadata": {},
   "source": [
    "### TF.Data a mano"
   ]
  },
  {
   "cell_type": "markdown",
   "metadata": {},
   "source": [
    "DAUG: https://keras.io/examples/vision/image_classification_from_scratch/\n",
    "https://colab.research.google.com/github/tensorflow/docs/blob/master/site/en/tutorials/images/data_augmentation.ipynb?hl=es#scrollTo=R5fGVMqlFxF7\n",
    "TOP"
   ]
  },
  {
   "cell_type": "markdown",
   "metadata": {
    "ExecuteTime": {
     "end_time": "2020-11-14T17:52:18.694377Z",
     "start_time": "2020-11-14T17:52:18.670427Z"
    }
   },
   "source": [
    "```python\n",
    "def load_img_data_using_tfdata(files, batch_size = 4, std_norm = True, cache_img=False):\n",
    "\n",
    "    def parse_image(file_path):\n",
    "        # load the raw data from the file as a string\n",
    "        img = tf.io.read_file(file_path)\n",
    "        # convert the compressed string to a 3D float tensor\n",
    "        img = tf.io.decode_png(img, channels=1)\n",
    "        img = tf.image.convert_image_dtype(img, tf.float32)\n",
    "        #PREPROCESSING\n",
    "        # resize the image to the desired size.\n",
    "        # img = tf.image.resize(img, [img_dims[0], img_dims[1]], method=tf.image.ResizeMethod.GAUSSIAN, antialias=True)\n",
    "        if std_norm:\n",
    "            img = tf.math.divide(tf.math.subtract(img, tf.math.reduce_mean(img)),\n",
    "                                 tf.math.reduce_std(img))\n",
    "        return img, tf.identity(img)\n",
    "        \n",
    "\n",
    "    def prepare_for_training(ds, cache=False, shuffle_buffer_size=1000):\n",
    "        if cache:\n",
    "            if isinstance(cache, str):\n",
    "                ds = ds.cache(cache)\n",
    "            else:\n",
    "                ds = ds.cache()       \n",
    "        #HERE preprocessing\n",
    "        ds = ds.shuffle(buffer_size=shuffle_buffer_size)\n",
    "        ds = ds.repeat()\n",
    "        #HERE Augmentation that works with one image at a time \n",
    "        ds = ds.batch(batch_size)\n",
    "        #HERE AUGMENTATION works on batches ON CPU - Better option: first layers of model\n",
    "        ds = ds.prefetch(buffer_size=AUTOTUNE)\n",
    "        return ds\n",
    "\n",
    "    list_ds = tf.data.Dataset.from_tensor_slices(files)\n",
    "    AUTOTUNE = tf.data.experimental.AUTOTUNE\n",
    "    labeled_ds = list_ds.map(parse_image, num_parallel_calls=AUTOTUNE)\n",
    "    return prepare_for_training(labeled_ds, cache=cache_img)\n",
    "\n",
    "```"
   ]
  },
  {
   "cell_type": "code",
   "execution_count": 125,
   "metadata": {
    "ExecuteTime": {
     "end_time": "2020-11-14T18:26:18.900531Z",
     "start_time": "2020-11-14T18:25:57.225730Z"
    },
    "scrolled": false
   },
   "outputs": [
    {
     "name": "stdout",
     "output_type": "stream",
     "text": [
      "Model: \"functional_9\"\n",
      "_________________________________________________________________\n",
      "Layer (type)                 Output Shape              Param #   \n",
      "=================================================================\n",
      "input_5 (InputLayer)         [(8, 256, 256, 1)]        0         \n",
      "_________________________________________________________________\n",
      "conv2d_24 (Conv2D)           (8, 256, 256, 32)         320       \n",
      "_________________________________________________________________\n",
      "batch_normalization_20 (Batc (8, 256, 256, 32)         128       \n",
      "_________________________________________________________________\n",
      "max_pooling2d_8 (MaxPooling2 (8, 128, 128, 32)         0         \n",
      "_________________________________________________________________\n",
      "conv2d_25 (Conv2D)           (8, 128, 128, 64)         18496     \n",
      "_________________________________________________________________\n",
      "batch_normalization_21 (Batc (8, 128, 128, 64)         256       \n",
      "_________________________________________________________________\n",
      "max_pooling2d_9 (MaxPooling2 (8, 64, 64, 64)           0         \n",
      "_________________________________________________________________\n",
      "conv2d_26 (Conv2D)           (8, 64, 64, 128)          73856     \n",
      "_________________________________________________________________\n",
      "batch_normalization_22 (Batc (8, 64, 64, 128)          512       \n",
      "_________________________________________________________________\n",
      "conv2d_27 (Conv2D)           (8, 64, 64, 64)           73792     \n",
      "_________________________________________________________________\n",
      "batch_normalization_23 (Batc (8, 64, 64, 64)           256       \n",
      "_________________________________________________________________\n",
      "up_sampling2d_8 (UpSampling2 (8, 128, 128, 64)         0         \n",
      "_________________________________________________________________\n",
      "conv2d_28 (Conv2D)           (8, 128, 128, 32)         18464     \n",
      "_________________________________________________________________\n",
      "batch_normalization_24 (Batc (8, 128, 128, 32)         128       \n",
      "_________________________________________________________________\n",
      "up_sampling2d_9 (UpSampling2 (8, 256, 256, 32)         0         \n",
      "_________________________________________________________________\n",
      "conv2d_29 (Conv2D)           (8, 256, 256, 1)          289       \n",
      "=================================================================\n",
      "Total params: 186,497\n",
      "Trainable params: 185,857\n",
      "Non-trainable params: 640\n",
      "_________________________________________________________________\n",
      "Epoch 1/2\n",
      "   1/5785 [..............................] - ETA: 3:50 - loss: 1.3627WARNING:tensorflow:Callbacks method `on_train_batch_end` is slow compared to the batch time (batch time: 0.0050s vs `on_train_batch_end` time: 0.0419s). Check your callbacks.\n",
      " 481/5785 [=>............................] - ETA: 3:40 - loss: 0.5122"
     ]
    },
    {
     "ename": "KeyboardInterrupt",
     "evalue": "",
     "output_type": "error",
     "traceback": [
      "\u001b[1;31m---------------------------------------------------------------------------\u001b[0m",
      "\u001b[1;31mKeyboardInterrupt\u001b[0m                         Traceback (most recent call last)",
      "\u001b[1;32m<ipython-input-125-bf70cc8cf69b>\u001b[0m in \u001b[0;36m<module>\u001b[1;34m\u001b[0m\n\u001b[0;32m     35\u001b[0m                                     \u001b[0mvalidation_data\u001b[0m \u001b[1;33m=\u001b[0m \u001b[0mvalidation_ds\u001b[0m\u001b[1;33m,\u001b[0m\u001b[1;33m\u001b[0m\u001b[1;33m\u001b[0m\u001b[0m\n\u001b[0;32m     36\u001b[0m                                     \u001b[0mvalidation_steps\u001b[0m \u001b[1;33m=\u001b[0m \u001b[0mSTEP_SIZE_VALID\u001b[0m\u001b[1;33m,\u001b[0m\u001b[1;33m\u001b[0m\u001b[1;33m\u001b[0m\u001b[0m\n\u001b[1;32m---> 37\u001b[1;33m                                     \u001b[0mverbose\u001b[0m\u001b[1;33m=\u001b[0m\u001b[1;36m1\u001b[0m\u001b[1;33m\u001b[0m\u001b[1;33m\u001b[0m\u001b[0m\n\u001b[0m\u001b[0;32m     38\u001b[0m                                     \u001b[1;31m#max_queue_size=15,\u001b[0m\u001b[1;33m\u001b[0m\u001b[1;33m\u001b[0m\u001b[1;33m\u001b[0m\u001b[0m\n\u001b[0;32m     39\u001b[0m                                     \u001b[1;31m#use_multiprocessing=True,\u001b[0m\u001b[1;33m\u001b[0m\u001b[1;33m\u001b[0m\u001b[1;33m\u001b[0m\u001b[0m\n",
      "\u001b[1;32mc:\\users\\usuario\\.conda\\envs\\d_mri_autoencoder\\lib\\site-packages\\tensorflow\\python\\keras\\engine\\training.py\u001b[0m in \u001b[0;36m_method_wrapper\u001b[1;34m(self, *args, **kwargs)\u001b[0m\n\u001b[0;32m    106\u001b[0m   \u001b[1;32mdef\u001b[0m \u001b[0m_method_wrapper\u001b[0m\u001b[1;33m(\u001b[0m\u001b[0mself\u001b[0m\u001b[1;33m,\u001b[0m \u001b[1;33m*\u001b[0m\u001b[0margs\u001b[0m\u001b[1;33m,\u001b[0m \u001b[1;33m**\u001b[0m\u001b[0mkwargs\u001b[0m\u001b[1;33m)\u001b[0m\u001b[1;33m:\u001b[0m\u001b[1;33m\u001b[0m\u001b[1;33m\u001b[0m\u001b[0m\n\u001b[0;32m    107\u001b[0m     \u001b[1;32mif\u001b[0m \u001b[1;32mnot\u001b[0m \u001b[0mself\u001b[0m\u001b[1;33m.\u001b[0m\u001b[0m_in_multi_worker_mode\u001b[0m\u001b[1;33m(\u001b[0m\u001b[1;33m)\u001b[0m\u001b[1;33m:\u001b[0m  \u001b[1;31m# pylint: disable=protected-access\u001b[0m\u001b[1;33m\u001b[0m\u001b[1;33m\u001b[0m\u001b[0m\n\u001b[1;32m--> 108\u001b[1;33m       \u001b[1;32mreturn\u001b[0m \u001b[0mmethod\u001b[0m\u001b[1;33m(\u001b[0m\u001b[0mself\u001b[0m\u001b[1;33m,\u001b[0m \u001b[1;33m*\u001b[0m\u001b[0margs\u001b[0m\u001b[1;33m,\u001b[0m \u001b[1;33m**\u001b[0m\u001b[0mkwargs\u001b[0m\u001b[1;33m)\u001b[0m\u001b[1;33m\u001b[0m\u001b[1;33m\u001b[0m\u001b[0m\n\u001b[0m\u001b[0;32m    109\u001b[0m \u001b[1;33m\u001b[0m\u001b[0m\n\u001b[0;32m    110\u001b[0m     \u001b[1;31m# Running inside `run_distribute_coordinator` already.\u001b[0m\u001b[1;33m\u001b[0m\u001b[1;33m\u001b[0m\u001b[1;33m\u001b[0m\u001b[0m\n",
      "\u001b[1;32mc:\\users\\usuario\\.conda\\envs\\d_mri_autoencoder\\lib\\site-packages\\tensorflow\\python\\keras\\engine\\training.py\u001b[0m in \u001b[0;36mfit\u001b[1;34m(self, x, y, batch_size, epochs, verbose, callbacks, validation_split, validation_data, shuffle, class_weight, sample_weight, initial_epoch, steps_per_epoch, validation_steps, validation_batch_size, validation_freq, max_queue_size, workers, use_multiprocessing)\u001b[0m\n\u001b[0;32m   1101\u001b[0m               \u001b[0mlogs\u001b[0m \u001b[1;33m=\u001b[0m \u001b[0mtmp_logs\u001b[0m  \u001b[1;31m# No error, now safe to assign to logs.\u001b[0m\u001b[1;33m\u001b[0m\u001b[1;33m\u001b[0m\u001b[0m\n\u001b[0;32m   1102\u001b[0m               \u001b[0mend_step\u001b[0m \u001b[1;33m=\u001b[0m \u001b[0mstep\u001b[0m \u001b[1;33m+\u001b[0m \u001b[0mdata_handler\u001b[0m\u001b[1;33m.\u001b[0m\u001b[0mstep_increment\u001b[0m\u001b[1;33m\u001b[0m\u001b[1;33m\u001b[0m\u001b[0m\n\u001b[1;32m-> 1103\u001b[1;33m               \u001b[0mcallbacks\u001b[0m\u001b[1;33m.\u001b[0m\u001b[0mon_train_batch_end\u001b[0m\u001b[1;33m(\u001b[0m\u001b[0mend_step\u001b[0m\u001b[1;33m,\u001b[0m \u001b[0mlogs\u001b[0m\u001b[1;33m)\u001b[0m\u001b[1;33m\u001b[0m\u001b[1;33m\u001b[0m\u001b[0m\n\u001b[0m\u001b[0;32m   1104\u001b[0m         \u001b[0mepoch_logs\u001b[0m \u001b[1;33m=\u001b[0m \u001b[0mcopy\u001b[0m\u001b[1;33m.\u001b[0m\u001b[0mcopy\u001b[0m\u001b[1;33m(\u001b[0m\u001b[0mlogs\u001b[0m\u001b[1;33m)\u001b[0m\u001b[1;33m\u001b[0m\u001b[1;33m\u001b[0m\u001b[0m\n\u001b[0;32m   1105\u001b[0m \u001b[1;33m\u001b[0m\u001b[0m\n",
      "\u001b[1;32mc:\\users\\usuario\\.conda\\envs\\d_mri_autoencoder\\lib\\site-packages\\tensorflow\\python\\keras\\callbacks.py\u001b[0m in \u001b[0;36mon_train_batch_end\u001b[1;34m(self, batch, logs)\u001b[0m\n\u001b[0;32m    438\u001b[0m     \"\"\"\n\u001b[0;32m    439\u001b[0m     \u001b[1;32mif\u001b[0m \u001b[0mself\u001b[0m\u001b[1;33m.\u001b[0m\u001b[0m_should_call_train_batch_hooks\u001b[0m\u001b[1;33m:\u001b[0m\u001b[1;33m\u001b[0m\u001b[1;33m\u001b[0m\u001b[0m\n\u001b[1;32m--> 440\u001b[1;33m       \u001b[0mself\u001b[0m\u001b[1;33m.\u001b[0m\u001b[0m_call_batch_hook\u001b[0m\u001b[1;33m(\u001b[0m\u001b[0mModeKeys\u001b[0m\u001b[1;33m.\u001b[0m\u001b[0mTRAIN\u001b[0m\u001b[1;33m,\u001b[0m \u001b[1;34m'end'\u001b[0m\u001b[1;33m,\u001b[0m \u001b[0mbatch\u001b[0m\u001b[1;33m,\u001b[0m \u001b[0mlogs\u001b[0m\u001b[1;33m=\u001b[0m\u001b[0mlogs\u001b[0m\u001b[1;33m)\u001b[0m\u001b[1;33m\u001b[0m\u001b[1;33m\u001b[0m\u001b[0m\n\u001b[0m\u001b[0;32m    441\u001b[0m \u001b[1;33m\u001b[0m\u001b[0m\n\u001b[0;32m    442\u001b[0m   \u001b[1;32mdef\u001b[0m \u001b[0mon_test_batch_begin\u001b[0m\u001b[1;33m(\u001b[0m\u001b[0mself\u001b[0m\u001b[1;33m,\u001b[0m \u001b[0mbatch\u001b[0m\u001b[1;33m,\u001b[0m \u001b[0mlogs\u001b[0m\u001b[1;33m=\u001b[0m\u001b[1;32mNone\u001b[0m\u001b[1;33m)\u001b[0m\u001b[1;33m:\u001b[0m\u001b[1;33m\u001b[0m\u001b[1;33m\u001b[0m\u001b[0m\n",
      "\u001b[1;32mc:\\users\\usuario\\.conda\\envs\\d_mri_autoencoder\\lib\\site-packages\\tensorflow\\python\\keras\\callbacks.py\u001b[0m in \u001b[0;36m_call_batch_hook\u001b[1;34m(self, mode, hook, batch, logs)\u001b[0m\n\u001b[0;32m    287\u001b[0m       \u001b[0mself\u001b[0m\u001b[1;33m.\u001b[0m\u001b[0m_call_batch_begin_hook\u001b[0m\u001b[1;33m(\u001b[0m\u001b[0mmode\u001b[0m\u001b[1;33m,\u001b[0m \u001b[0mbatch\u001b[0m\u001b[1;33m,\u001b[0m \u001b[0mlogs\u001b[0m\u001b[1;33m)\u001b[0m\u001b[1;33m\u001b[0m\u001b[1;33m\u001b[0m\u001b[0m\n\u001b[0;32m    288\u001b[0m     \u001b[1;32melif\u001b[0m \u001b[0mhook\u001b[0m \u001b[1;33m==\u001b[0m \u001b[1;34m'end'\u001b[0m\u001b[1;33m:\u001b[0m\u001b[1;33m\u001b[0m\u001b[1;33m\u001b[0m\u001b[0m\n\u001b[1;32m--> 289\u001b[1;33m       \u001b[0mself\u001b[0m\u001b[1;33m.\u001b[0m\u001b[0m_call_batch_end_hook\u001b[0m\u001b[1;33m(\u001b[0m\u001b[0mmode\u001b[0m\u001b[1;33m,\u001b[0m \u001b[0mbatch\u001b[0m\u001b[1;33m,\u001b[0m \u001b[0mlogs\u001b[0m\u001b[1;33m)\u001b[0m\u001b[1;33m\u001b[0m\u001b[1;33m\u001b[0m\u001b[0m\n\u001b[0m\u001b[0;32m    290\u001b[0m     \u001b[1;32melse\u001b[0m\u001b[1;33m:\u001b[0m\u001b[1;33m\u001b[0m\u001b[1;33m\u001b[0m\u001b[0m\n\u001b[0;32m    291\u001b[0m       \u001b[1;32mraise\u001b[0m \u001b[0mValueError\u001b[0m\u001b[1;33m(\u001b[0m\u001b[1;34m'Unrecognized hook: {}'\u001b[0m\u001b[1;33m.\u001b[0m\u001b[0mformat\u001b[0m\u001b[1;33m(\u001b[0m\u001b[0mhook\u001b[0m\u001b[1;33m)\u001b[0m\u001b[1;33m)\u001b[0m\u001b[1;33m\u001b[0m\u001b[1;33m\u001b[0m\u001b[0m\n",
      "\u001b[1;32mc:\\users\\usuario\\.conda\\envs\\d_mri_autoencoder\\lib\\site-packages\\tensorflow\\python\\keras\\callbacks.py\u001b[0m in \u001b[0;36m_call_batch_end_hook\u001b[1;34m(self, mode, batch, logs)\u001b[0m\n\u001b[0;32m    307\u001b[0m       \u001b[0mbatch_time\u001b[0m \u001b[1;33m=\u001b[0m \u001b[0mtime\u001b[0m\u001b[1;33m.\u001b[0m\u001b[0mtime\u001b[0m\u001b[1;33m(\u001b[0m\u001b[1;33m)\u001b[0m \u001b[1;33m-\u001b[0m \u001b[0mself\u001b[0m\u001b[1;33m.\u001b[0m\u001b[0m_batch_start_time\u001b[0m\u001b[1;33m\u001b[0m\u001b[1;33m\u001b[0m\u001b[0m\n\u001b[0;32m    308\u001b[0m \u001b[1;33m\u001b[0m\u001b[0m\n\u001b[1;32m--> 309\u001b[1;33m     \u001b[0mself\u001b[0m\u001b[1;33m.\u001b[0m\u001b[0m_call_batch_hook_helper\u001b[0m\u001b[1;33m(\u001b[0m\u001b[0mhook_name\u001b[0m\u001b[1;33m,\u001b[0m \u001b[0mbatch\u001b[0m\u001b[1;33m,\u001b[0m \u001b[0mlogs\u001b[0m\u001b[1;33m)\u001b[0m\u001b[1;33m\u001b[0m\u001b[1;33m\u001b[0m\u001b[0m\n\u001b[0m\u001b[0;32m    310\u001b[0m \u001b[1;33m\u001b[0m\u001b[0m\n\u001b[0;32m    311\u001b[0m     \u001b[1;32mif\u001b[0m \u001b[0mself\u001b[0m\u001b[1;33m.\u001b[0m\u001b[0m_check_timing\u001b[0m\u001b[1;33m:\u001b[0m\u001b[1;33m\u001b[0m\u001b[1;33m\u001b[0m\u001b[0m\n",
      "\u001b[1;32mc:\\users\\usuario\\.conda\\envs\\d_mri_autoencoder\\lib\\site-packages\\tensorflow\\python\\keras\\callbacks.py\u001b[0m in \u001b[0;36m_call_batch_hook_helper\u001b[1;34m(self, hook_name, batch, logs)\u001b[0m\n\u001b[0;32m    340\u001b[0m       \u001b[0mhook\u001b[0m \u001b[1;33m=\u001b[0m \u001b[0mgetattr\u001b[0m\u001b[1;33m(\u001b[0m\u001b[0mcallback\u001b[0m\u001b[1;33m,\u001b[0m \u001b[0mhook_name\u001b[0m\u001b[1;33m)\u001b[0m\u001b[1;33m\u001b[0m\u001b[1;33m\u001b[0m\u001b[0m\n\u001b[0;32m    341\u001b[0m       \u001b[1;32mif\u001b[0m \u001b[0mgetattr\u001b[0m\u001b[1;33m(\u001b[0m\u001b[0mcallback\u001b[0m\u001b[1;33m,\u001b[0m \u001b[1;34m'_supports_tf_logs'\u001b[0m\u001b[1;33m,\u001b[0m \u001b[1;32mFalse\u001b[0m\u001b[1;33m)\u001b[0m\u001b[1;33m:\u001b[0m\u001b[1;33m\u001b[0m\u001b[1;33m\u001b[0m\u001b[0m\n\u001b[1;32m--> 342\u001b[1;33m         \u001b[0mhook\u001b[0m\u001b[1;33m(\u001b[0m\u001b[0mbatch\u001b[0m\u001b[1;33m,\u001b[0m \u001b[0mlogs\u001b[0m\u001b[1;33m)\u001b[0m\u001b[1;33m\u001b[0m\u001b[1;33m\u001b[0m\u001b[0m\n\u001b[0m\u001b[0;32m    343\u001b[0m       \u001b[1;32melse\u001b[0m\u001b[1;33m:\u001b[0m\u001b[1;33m\u001b[0m\u001b[1;33m\u001b[0m\u001b[0m\n\u001b[0;32m    344\u001b[0m         \u001b[1;32mif\u001b[0m \u001b[0mnumpy_logs\u001b[0m \u001b[1;32mis\u001b[0m \u001b[1;32mNone\u001b[0m\u001b[1;33m:\u001b[0m  \u001b[1;31m# Only convert once.\u001b[0m\u001b[1;33m\u001b[0m\u001b[1;33m\u001b[0m\u001b[0m\n",
      "\u001b[1;32mc:\\users\\usuario\\.conda\\envs\\d_mri_autoencoder\\lib\\site-packages\\tensorflow\\python\\keras\\callbacks.py\u001b[0m in \u001b[0;36mon_train_batch_end\u001b[1;34m(self, batch, logs)\u001b[0m\n\u001b[0;32m    959\u001b[0m \u001b[1;33m\u001b[0m\u001b[0m\n\u001b[0;32m    960\u001b[0m   \u001b[1;32mdef\u001b[0m \u001b[0mon_train_batch_end\u001b[0m\u001b[1;33m(\u001b[0m\u001b[0mself\u001b[0m\u001b[1;33m,\u001b[0m \u001b[0mbatch\u001b[0m\u001b[1;33m,\u001b[0m \u001b[0mlogs\u001b[0m\u001b[1;33m=\u001b[0m\u001b[1;32mNone\u001b[0m\u001b[1;33m)\u001b[0m\u001b[1;33m:\u001b[0m\u001b[1;33m\u001b[0m\u001b[1;33m\u001b[0m\u001b[0m\n\u001b[1;32m--> 961\u001b[1;33m     \u001b[0mself\u001b[0m\u001b[1;33m.\u001b[0m\u001b[0m_batch_update_progbar\u001b[0m\u001b[1;33m(\u001b[0m\u001b[0mbatch\u001b[0m\u001b[1;33m,\u001b[0m \u001b[0mlogs\u001b[0m\u001b[1;33m)\u001b[0m\u001b[1;33m\u001b[0m\u001b[1;33m\u001b[0m\u001b[0m\n\u001b[0m\u001b[0;32m    962\u001b[0m \u001b[1;33m\u001b[0m\u001b[0m\n\u001b[0;32m    963\u001b[0m   \u001b[1;32mdef\u001b[0m \u001b[0mon_test_batch_end\u001b[0m\u001b[1;33m(\u001b[0m\u001b[0mself\u001b[0m\u001b[1;33m,\u001b[0m \u001b[0mbatch\u001b[0m\u001b[1;33m,\u001b[0m \u001b[0mlogs\u001b[0m\u001b[1;33m=\u001b[0m\u001b[1;32mNone\u001b[0m\u001b[1;33m)\u001b[0m\u001b[1;33m:\u001b[0m\u001b[1;33m\u001b[0m\u001b[1;33m\u001b[0m\u001b[0m\n",
      "\u001b[1;32mc:\\users\\usuario\\.conda\\envs\\d_mri_autoencoder\\lib\\site-packages\\tensorflow\\python\\keras\\callbacks.py\u001b[0m in \u001b[0;36m_batch_update_progbar\u001b[1;34m(self, batch, logs)\u001b[0m\n\u001b[0;32m   1014\u001b[0m     \u001b[1;32mif\u001b[0m \u001b[0mself\u001b[0m\u001b[1;33m.\u001b[0m\u001b[0mverbose\u001b[0m \u001b[1;33m==\u001b[0m \u001b[1;36m1\u001b[0m\u001b[1;33m:\u001b[0m\u001b[1;33m\u001b[0m\u001b[1;33m\u001b[0m\u001b[0m\n\u001b[0;32m   1015\u001b[0m       \u001b[1;31m# Only block async when verbose = 1.\u001b[0m\u001b[1;33m\u001b[0m\u001b[1;33m\u001b[0m\u001b[1;33m\u001b[0m\u001b[0m\n\u001b[1;32m-> 1016\u001b[1;33m       \u001b[0mlogs\u001b[0m \u001b[1;33m=\u001b[0m \u001b[0mtf_utils\u001b[0m\u001b[1;33m.\u001b[0m\u001b[0mto_numpy_or_python_type\u001b[0m\u001b[1;33m(\u001b[0m\u001b[0mlogs\u001b[0m\u001b[1;33m)\u001b[0m\u001b[1;33m\u001b[0m\u001b[1;33m\u001b[0m\u001b[0m\n\u001b[0m\u001b[0;32m   1017\u001b[0m       \u001b[0mself\u001b[0m\u001b[1;33m.\u001b[0m\u001b[0mprogbar\u001b[0m\u001b[1;33m.\u001b[0m\u001b[0mupdate\u001b[0m\u001b[1;33m(\u001b[0m\u001b[0mself\u001b[0m\u001b[1;33m.\u001b[0m\u001b[0mseen\u001b[0m\u001b[1;33m,\u001b[0m \u001b[0mlist\u001b[0m\u001b[1;33m(\u001b[0m\u001b[0mlogs\u001b[0m\u001b[1;33m.\u001b[0m\u001b[0mitems\u001b[0m\u001b[1;33m(\u001b[0m\u001b[1;33m)\u001b[0m\u001b[1;33m)\u001b[0m\u001b[1;33m,\u001b[0m \u001b[0mfinalize\u001b[0m\u001b[1;33m=\u001b[0m\u001b[1;32mFalse\u001b[0m\u001b[1;33m)\u001b[0m\u001b[1;33m\u001b[0m\u001b[1;33m\u001b[0m\u001b[0m\n\u001b[0;32m   1018\u001b[0m \u001b[1;33m\u001b[0m\u001b[0m\n",
      "\u001b[1;32mc:\\users\\usuario\\.conda\\envs\\d_mri_autoencoder\\lib\\site-packages\\tensorflow\\python\\keras\\utils\\tf_utils.py\u001b[0m in \u001b[0;36mto_numpy_or_python_type\u001b[1;34m(tensors)\u001b[0m\n\u001b[0;32m    535\u001b[0m     \u001b[1;32mreturn\u001b[0m \u001b[0mt\u001b[0m  \u001b[1;31m# Don't turn ragged or sparse tensors to NumPy.\u001b[0m\u001b[1;33m\u001b[0m\u001b[1;33m\u001b[0m\u001b[0m\n\u001b[0;32m    536\u001b[0m \u001b[1;33m\u001b[0m\u001b[0m\n\u001b[1;32m--> 537\u001b[1;33m   \u001b[1;32mreturn\u001b[0m \u001b[0mnest\u001b[0m\u001b[1;33m.\u001b[0m\u001b[0mmap_structure\u001b[0m\u001b[1;33m(\u001b[0m\u001b[0m_to_single_numpy_or_python_type\u001b[0m\u001b[1;33m,\u001b[0m \u001b[0mtensors\u001b[0m\u001b[1;33m)\u001b[0m\u001b[1;33m\u001b[0m\u001b[1;33m\u001b[0m\u001b[0m\n\u001b[0m\u001b[0;32m    538\u001b[0m \u001b[1;33m\u001b[0m\u001b[0m\n\u001b[0;32m    539\u001b[0m \u001b[1;33m\u001b[0m\u001b[0m\n",
      "\u001b[1;32mc:\\users\\usuario\\.conda\\envs\\d_mri_autoencoder\\lib\\site-packages\\tensorflow\\python\\util\\nest.py\u001b[0m in \u001b[0;36mmap_structure\u001b[1;34m(func, *structure, **kwargs)\u001b[0m\n\u001b[0;32m    633\u001b[0m \u001b[1;33m\u001b[0m\u001b[0m\n\u001b[0;32m    634\u001b[0m   return pack_sequence_as(\n\u001b[1;32m--> 635\u001b[1;33m       \u001b[0mstructure\u001b[0m\u001b[1;33m[\u001b[0m\u001b[1;36m0\u001b[0m\u001b[1;33m]\u001b[0m\u001b[1;33m,\u001b[0m \u001b[1;33m[\u001b[0m\u001b[0mfunc\u001b[0m\u001b[1;33m(\u001b[0m\u001b[1;33m*\u001b[0m\u001b[0mx\u001b[0m\u001b[1;33m)\u001b[0m \u001b[1;32mfor\u001b[0m \u001b[0mx\u001b[0m \u001b[1;32min\u001b[0m \u001b[0mentries\u001b[0m\u001b[1;33m]\u001b[0m\u001b[1;33m,\u001b[0m\u001b[1;33m\u001b[0m\u001b[1;33m\u001b[0m\u001b[0m\n\u001b[0m\u001b[0;32m    636\u001b[0m       expand_composites=expand_composites)\n\u001b[0;32m    637\u001b[0m \u001b[1;33m\u001b[0m\u001b[0m\n",
      "\u001b[1;32mc:\\users\\usuario\\.conda\\envs\\d_mri_autoencoder\\lib\\site-packages\\tensorflow\\python\\util\\nest.py\u001b[0m in \u001b[0;36m<listcomp>\u001b[1;34m(.0)\u001b[0m\n\u001b[0;32m    633\u001b[0m \u001b[1;33m\u001b[0m\u001b[0m\n\u001b[0;32m    634\u001b[0m   return pack_sequence_as(\n\u001b[1;32m--> 635\u001b[1;33m       \u001b[0mstructure\u001b[0m\u001b[1;33m[\u001b[0m\u001b[1;36m0\u001b[0m\u001b[1;33m]\u001b[0m\u001b[1;33m,\u001b[0m \u001b[1;33m[\u001b[0m\u001b[0mfunc\u001b[0m\u001b[1;33m(\u001b[0m\u001b[1;33m*\u001b[0m\u001b[0mx\u001b[0m\u001b[1;33m)\u001b[0m \u001b[1;32mfor\u001b[0m \u001b[0mx\u001b[0m \u001b[1;32min\u001b[0m \u001b[0mentries\u001b[0m\u001b[1;33m]\u001b[0m\u001b[1;33m,\u001b[0m\u001b[1;33m\u001b[0m\u001b[1;33m\u001b[0m\u001b[0m\n\u001b[0m\u001b[0;32m    636\u001b[0m       expand_composites=expand_composites)\n\u001b[0;32m    637\u001b[0m \u001b[1;33m\u001b[0m\u001b[0m\n",
      "\u001b[1;32mc:\\users\\usuario\\.conda\\envs\\d_mri_autoencoder\\lib\\site-packages\\tensorflow\\python\\keras\\utils\\tf_utils.py\u001b[0m in \u001b[0;36m_to_single_numpy_or_python_type\u001b[1;34m(t)\u001b[0m\n\u001b[0;32m    531\u001b[0m   \u001b[1;32mdef\u001b[0m \u001b[0m_to_single_numpy_or_python_type\u001b[0m\u001b[1;33m(\u001b[0m\u001b[0mt\u001b[0m\u001b[1;33m)\u001b[0m\u001b[1;33m:\u001b[0m\u001b[1;33m\u001b[0m\u001b[1;33m\u001b[0m\u001b[0m\n\u001b[0;32m    532\u001b[0m     \u001b[1;32mif\u001b[0m \u001b[0misinstance\u001b[0m\u001b[1;33m(\u001b[0m\u001b[0mt\u001b[0m\u001b[1;33m,\u001b[0m \u001b[0mops\u001b[0m\u001b[1;33m.\u001b[0m\u001b[0mTensor\u001b[0m\u001b[1;33m)\u001b[0m\u001b[1;33m:\u001b[0m\u001b[1;33m\u001b[0m\u001b[1;33m\u001b[0m\u001b[0m\n\u001b[1;32m--> 533\u001b[1;33m       \u001b[0mx\u001b[0m \u001b[1;33m=\u001b[0m \u001b[0mt\u001b[0m\u001b[1;33m.\u001b[0m\u001b[0mnumpy\u001b[0m\u001b[1;33m(\u001b[0m\u001b[1;33m)\u001b[0m\u001b[1;33m\u001b[0m\u001b[1;33m\u001b[0m\u001b[0m\n\u001b[0m\u001b[0;32m    534\u001b[0m       \u001b[1;32mreturn\u001b[0m \u001b[0mx\u001b[0m\u001b[1;33m.\u001b[0m\u001b[0mitem\u001b[0m\u001b[1;33m(\u001b[0m\u001b[1;33m)\u001b[0m \u001b[1;32mif\u001b[0m \u001b[0mnp\u001b[0m\u001b[1;33m.\u001b[0m\u001b[0mndim\u001b[0m\u001b[1;33m(\u001b[0m\u001b[0mx\u001b[0m\u001b[1;33m)\u001b[0m \u001b[1;33m==\u001b[0m \u001b[1;36m0\u001b[0m \u001b[1;32melse\u001b[0m \u001b[0mx\u001b[0m\u001b[1;33m\u001b[0m\u001b[1;33m\u001b[0m\u001b[0m\n\u001b[0;32m    535\u001b[0m     \u001b[1;32mreturn\u001b[0m \u001b[0mt\u001b[0m  \u001b[1;31m# Don't turn ragged or sparse tensors to NumPy.\u001b[0m\u001b[1;33m\u001b[0m\u001b[1;33m\u001b[0m\u001b[0m\n",
      "\u001b[1;32mc:\\users\\usuario\\.conda\\envs\\d_mri_autoencoder\\lib\\site-packages\\tensorflow\\python\\framework\\ops.py\u001b[0m in \u001b[0;36mnumpy\u001b[1;34m(self)\u001b[0m\n\u001b[0;32m   1061\u001b[0m     \"\"\"\n\u001b[0;32m   1062\u001b[0m     \u001b[1;31m# TODO(slebedev): Consider avoiding a copy for non-CPU or remote tensors.\u001b[0m\u001b[1;33m\u001b[0m\u001b[1;33m\u001b[0m\u001b[1;33m\u001b[0m\u001b[0m\n\u001b[1;32m-> 1063\u001b[1;33m     \u001b[0mmaybe_arr\u001b[0m \u001b[1;33m=\u001b[0m \u001b[0mself\u001b[0m\u001b[1;33m.\u001b[0m\u001b[0m_numpy\u001b[0m\u001b[1;33m(\u001b[0m\u001b[1;33m)\u001b[0m  \u001b[1;31m# pylint: disable=protected-access\u001b[0m\u001b[1;33m\u001b[0m\u001b[1;33m\u001b[0m\u001b[0m\n\u001b[0m\u001b[0;32m   1064\u001b[0m     \u001b[1;32mreturn\u001b[0m \u001b[0mmaybe_arr\u001b[0m\u001b[1;33m.\u001b[0m\u001b[0mcopy\u001b[0m\u001b[1;33m(\u001b[0m\u001b[1;33m)\u001b[0m \u001b[1;32mif\u001b[0m \u001b[0misinstance\u001b[0m\u001b[1;33m(\u001b[0m\u001b[0mmaybe_arr\u001b[0m\u001b[1;33m,\u001b[0m \u001b[0mnp\u001b[0m\u001b[1;33m.\u001b[0m\u001b[0mndarray\u001b[0m\u001b[1;33m)\u001b[0m \u001b[1;32melse\u001b[0m \u001b[0mmaybe_arr\u001b[0m\u001b[1;33m\u001b[0m\u001b[1;33m\u001b[0m\u001b[0m\n\u001b[0;32m   1065\u001b[0m \u001b[1;33m\u001b[0m\u001b[0m\n",
      "\u001b[1;32mc:\\users\\usuario\\.conda\\envs\\d_mri_autoencoder\\lib\\site-packages\\tensorflow\\python\\framework\\ops.py\u001b[0m in \u001b[0;36m_numpy\u001b[1;34m(self)\u001b[0m\n\u001b[0;32m   1027\u001b[0m   \u001b[1;32mdef\u001b[0m \u001b[0m_numpy\u001b[0m\u001b[1;33m(\u001b[0m\u001b[0mself\u001b[0m\u001b[1;33m)\u001b[0m\u001b[1;33m:\u001b[0m\u001b[1;33m\u001b[0m\u001b[1;33m\u001b[0m\u001b[0m\n\u001b[0;32m   1028\u001b[0m     \u001b[1;32mtry\u001b[0m\u001b[1;33m:\u001b[0m\u001b[1;33m\u001b[0m\u001b[1;33m\u001b[0m\u001b[0m\n\u001b[1;32m-> 1029\u001b[1;33m       \u001b[1;32mreturn\u001b[0m \u001b[0mself\u001b[0m\u001b[1;33m.\u001b[0m\u001b[0m_numpy_internal\u001b[0m\u001b[1;33m(\u001b[0m\u001b[1;33m)\u001b[0m\u001b[1;33m\u001b[0m\u001b[1;33m\u001b[0m\u001b[0m\n\u001b[0m\u001b[0;32m   1030\u001b[0m     \u001b[1;32mexcept\u001b[0m \u001b[0mcore\u001b[0m\u001b[1;33m.\u001b[0m\u001b[0m_NotOkStatusException\u001b[0m \u001b[1;32mas\u001b[0m \u001b[0me\u001b[0m\u001b[1;33m:\u001b[0m  \u001b[1;31m# pylint: disable=protected-access\u001b[0m\u001b[1;33m\u001b[0m\u001b[1;33m\u001b[0m\u001b[0m\n\u001b[0;32m   1031\u001b[0m       \u001b[0msix\u001b[0m\u001b[1;33m.\u001b[0m\u001b[0mraise_from\u001b[0m\u001b[1;33m(\u001b[0m\u001b[0mcore\u001b[0m\u001b[1;33m.\u001b[0m\u001b[0m_status_to_exception\u001b[0m\u001b[1;33m(\u001b[0m\u001b[0me\u001b[0m\u001b[1;33m.\u001b[0m\u001b[0mcode\u001b[0m\u001b[1;33m,\u001b[0m \u001b[0me\u001b[0m\u001b[1;33m.\u001b[0m\u001b[0mmessage\u001b[0m\u001b[1;33m)\u001b[0m\u001b[1;33m,\u001b[0m \u001b[1;32mNone\u001b[0m\u001b[1;33m)\u001b[0m  \u001b[1;31m# pylint: disable=protected-access\u001b[0m\u001b[1;33m\u001b[0m\u001b[1;33m\u001b[0m\u001b[0m\n",
      "\u001b[1;31mKeyboardInterrupt\u001b[0m: "
     ]
    }
   ],
   "source": [
    "MAIN_img_PATH = '..'+os.path.sep+'IXI-T1'+os.path.sep+'PNG'+os.path.sep+'train_val_folder'+os.path.sep+'train_and_val'\n",
    "trainval_img_files = glob.glob(MAIN_img_PATH+os.path.sep+'*.png')\n",
    "random.shuffle(trainval_img_files)\n",
    "\n",
    "lim = int(len(trainval_img_files)*train_percentage)\n",
    "train_img_files = trainval_img_files[:lim]\n",
    "validation_img_files = trainval_img_files[lim:]\n",
    "\n",
    "test_img_files = glob.glob('..\\\\IXI-T1\\\\PNG\\\\test_folder\\\\test\\\\*.png')\n",
    "\n",
    "params = {'batch_size': GLOBAL_BATCH_SIZE,\n",
    "          'cache':False,\n",
    "          'shuffle_buffer_size':1000\n",
    "         }\n",
    "\n",
    "trainds = tf_data_png_loader(train_img_files, \n",
    "                             **params\n",
    "                            ).get_tf_ds_generator()\n",
    "\n",
    "validation_ds = tf_data_png_loader(validation_img_files, \n",
    "                             **params\n",
    "                            ).get_tf_ds_generator()\n",
    "\n",
    "autoencoder =  build_model_2((256,256,1),  params.get('batch_size'))   \n",
    "autoencoder.compile(loss='mse', optimizer='Adam')\n",
    "autoencoder.summary()\n",
    "STEP_SIZE_TRAIN = len(train_files) // params.get('batch_size')\n",
    "STEP_SIZE_VALID = len(validation_files) // params.get('batch_size')\n",
    "  \n",
    "start = time.time()\n",
    "    \n",
    "autoencoder_train = autoencoder.fit(train_ds,\n",
    "                                    epochs=2, \n",
    "                                    steps_per_epoch = STEP_SIZE_TRAIN,\n",
    "                                    validation_data = validation_ds, \n",
    "                                    validation_steps = STEP_SIZE_VALID,\n",
    "                                    verbose=1\n",
    "                                    #max_queue_size=15,\n",
    "                                    #use_multiprocessing=True,\n",
    "                                    #workers=12\n",
    "                                    \n",
    "                                   )\n",
    "end = time.time()"
   ]
  },
  {
   "cell_type": "code",
   "execution_count": 27,
   "metadata": {
    "ExecuteTime": {
     "end_time": "2020-11-14T17:02:18.080297Z",
     "start_time": "2020-11-14T17:02:18.062345Z"
    }
   },
   "outputs": [
    {
     "data": {
      "text/plain": [
       "512.9202103614807"
      ]
     },
     "execution_count": 27,
     "metadata": {},
     "output_type": "execute_result"
    }
   ],
   "source": [
    "end-start"
   ]
  },
  {
   "cell_type": "code",
   "execution_count": null,
   "metadata": {},
   "outputs": [],
   "source": []
  },
  {
   "cell_type": "code",
   "execution_count": null,
   "metadata": {},
   "outputs": [],
   "source": []
  }
 ],
 "metadata": {
  "kernelspec": {
   "display_name": "Python 3",
   "language": "python",
   "name": "python3"
  },
  "language_info": {
   "codemirror_mode": {
    "name": "ipython",
    "version": 3
   },
   "file_extension": ".py",
   "mimetype": "text/x-python",
   "name": "python",
   "nbconvert_exporter": "python",
   "pygments_lexer": "ipython3",
   "version": "3.7.9"
  },
  "toc": {
   "base_numbering": 1,
   "nav_menu": {},
   "number_sections": true,
   "sideBar": true,
   "skip_h1_title": true,
   "title_cell": "Table of Contents",
   "title_sidebar": "Table of Contents",
   "toc_cell": true,
   "toc_position": {
    "height": "calc(100% - 180px)",
    "left": "10px",
    "top": "150px",
    "width": "201px"
   },
   "toc_section_display": true,
   "toc_window_display": true
  },
  "varInspector": {
   "cols": {
    "lenName": 16,
    "lenType": 16,
    "lenVar": 40
   },
   "kernels_config": {
    "python": {
     "delete_cmd_postfix": "",
     "delete_cmd_prefix": "del ",
     "library": "var_list.py",
     "varRefreshCmd": "print(var_dic_list())"
    },
    "r": {
     "delete_cmd_postfix": ") ",
     "delete_cmd_prefix": "rm(",
     "library": "var_list.r",
     "varRefreshCmd": "cat(var_dic_list()) "
    }
   },
   "types_to_exclude": [
    "module",
    "function",
    "builtin_function_or_method",
    "instance",
    "_Feature"
   ],
   "window_display": false
  }
 },
 "nbformat": 4,
 "nbformat_minor": 4
}
