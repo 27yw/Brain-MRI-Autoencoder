{
 "cells": [
  {
   "cell_type": "markdown",
   "metadata": {},
   "source": [
    "# Data augmentation"
   ]
  },
  {
   "cell_type": "markdown",
   "metadata": {
    "toc": true
   },
   "source": [
    "<h1>Table of Contents<span class=\"tocSkip\"></span></h1>\n",
    "<div class=\"toc\"><ul class=\"toc-item\"><li><span><a href=\"#As-Function-to-MAP:-CPU\" data-toc-modified-id=\"As-Function-to-MAP:-CPU-1\"><span class=\"toc-item-num\">1&nbsp;&nbsp;</span>As Function to MAP: CPU</a></span></li><li><span><a href=\"#DAug-as-Model:-GPU\" data-toc-modified-id=\"DAug-as-Model:-GPU-2\"><span class=\"toc-item-num\">2&nbsp;&nbsp;</span>DAug as Model: GPU</a></span></li><li><span><a href=\"#Data-Loader-check\" data-toc-modified-id=\"Data-Loader-check-3\"><span class=\"toc-item-num\">3&nbsp;&nbsp;</span>Data Loader check</a></span></li></ul></div>"
   ]
  },
  {
   "cell_type": "code",
   "execution_count": null,
   "metadata": {
    "ExecuteTime": {
     "end_time": "2020-11-30T16:08:19.691646Z",
     "start_time": "2020-11-30T16:08:17.363597Z"
    }
   },
   "outputs": [],
   "source": [
    "import os\n",
    "import glob\n",
    "import tensorflow as tf\n",
    "import random\n",
    "import matplotlib as mpl\n",
    "import matplotlib.pyplot as plt\n",
    "import tensorflow_addons as tfa\n",
    "\n",
    "mpl.rcParams['image.cmap'] = 'gray'\n",
    "\n",
    "TEST_img_PATH = '..'+os.path.sep+'IXI-T1'+os.path.sep+'PNG'+os.path.sep+'test_folder'+os.path.sep+'test'\n",
    "test_img_files = glob.glob(TEST_img_PATH+os.path.sep+'*.png')"
   ]
  },
  {
   "cell_type": "code",
   "execution_count": null,
   "metadata": {
    "ExecuteTime": {
     "end_time": "2020-11-30T16:08:21.379964Z",
     "start_time": "2020-11-30T16:08:21.364979Z"
    }
   },
   "outputs": [],
   "source": [
    "def parse_image(file_path):\n",
    "    # load the raw data from the file as a string\n",
    "    img = tf.io.read_file(file_path)\n",
    "    # convert the compressed string to a 3D float tensor\n",
    "    img = tf.io.decode_png(img, channels=1)\n",
    "    img = tf.image.convert_image_dtype(img, tf.float32)\n",
    "\n",
    "    img = tf.image.resize(img, (128,128))\n",
    "\n",
    "    #min_max_sacler_norm\n",
    "    img = tf.math.divide(tf.math.subtract(img, tf.math.reduce_min(img)),\n",
    "                         tf.math.subtract(tf.math.reduce_max(img), tf.math.reduce_min(img)))\n",
    "    #std_norm\n",
    "    #img = tf.math.divide(tf.math.subtract(img, tf.math.reduce_mean(img)),tf.math.reduce_std(img))\n",
    "    return img, tf.identity(img)"
   ]
  },
  {
   "cell_type": "markdown",
   "metadata": {},
   "source": [
    "## As Function to MAP: CPU\n",
    "* Advantage: Easy to customize\n",
    "* Downside: Runs on CPU"
   ]
  },
  {
   "cell_type": "markdown",
   "metadata": {},
   "source": [
    "```python\n",
    "# Random crop and distorsioned\n",
    "box = np.array([.3, .3, .8, .8])\n",
    "boxes = box.reshape([1, 1, 4])\n",
    "begin, size, bbox_for_draw = tf.image.sample_distorted_bounding_box(\n",
    "    tf.shape(image),\n",
    "    bounding_boxes=boxes)\n",
    "image = tf.slice(image, begin, size)\n",
    "```\n"
   ]
  },
  {
   "cell_type": "code",
   "execution_count": null,
   "metadata": {
    "ExecuteTime": {
     "end_time": "2020-11-30T16:08:22.067187Z",
     "start_time": "2020-11-30T16:08:22.060955Z"
    }
   },
   "outputs": [],
   "source": [
    "def augment(image, label):    \n",
    "    \n",
    "    #Noise and Dropout\n",
    "    rnds_noise = tf.random.uniform((1,2),minval=0, maxval=0.04)\n",
    "    image = tf.nn.dropout(image,rnds_noise[0][0])\n",
    "    image = tf.keras.layers.GaussianNoise(rnds_noise[0][1])(image, training=True)\n",
    "    \n",
    "    #Blankout and blur\n",
    "    rnds_absolutes = tf.random.uniform((1,2),minval=0, maxval=1)\n",
    "    if rnds_absolutes[0][0] < 0.2:\n",
    "        size = tf.random.uniform((), minval=10, maxval=30, dtype=tf.dtypes.int32)\n",
    "        offset = tf.random.uniform((), minval=10, maxval=100, dtype=tf.dtypes.int32)\n",
    "        image = tfa.image.cutout(tf.expand_dims(image,0),  \n",
    "                                 mask_size = (size,size ),\n",
    "                                 offset = (offset, offset),\n",
    "                                 constant_values = 0\n",
    "                                )[0,...]\n",
    "    if rnds_absolutes[0][1] < 0.1:\n",
    "        image = tfa.image.gaussian_filter2d(image,\n",
    "                                            filter_shape = [3, 3],\n",
    "                                            sigma = 0.6,\n",
    "                                            constant_values = 0,\n",
    "                                           )\n",
    "    #ZOOM - CROP\n",
    "    #if rnds_crops[0][1] < 0.1:\n",
    "        #image = tf.image.central_crop(image, central_fraction=0.7)\n",
    "        #image = tf.image.resize(image, (128,128))\n",
    "        \n",
    "    # Normalization\n",
    "    image = tf.math.divide(tf.math.subtract(image, tf.math.reduce_min(image)),\n",
    "                                 tf.math.subtract(tf.math.reduce_max(image), tf.math.reduce_min(image)))\n",
    "    return image, label\n",
    "    \n"
   ]
  },
  {
   "cell_type": "code",
   "execution_count": null,
   "metadata": {
    "ExecuteTime": {
     "end_time": "2020-11-30T16:08:22.821574Z",
     "start_time": "2020-11-30T16:08:22.807117Z"
    }
   },
   "outputs": [],
   "source": [
    "prueba_aug_test = ['..\\\\IXI-T1\\\\PNG\\\\test_folder\\\\test\\\\IXI158-Guys-0783-T1_77.png']\n",
    "prueba_aug_test.extend(random.sample(test_img_files,7))"
   ]
  },
  {
   "cell_type": "code",
   "execution_count": null,
   "metadata": {
    "ExecuteTime": {
     "end_time": "2020-11-30T16:13:57.015649Z",
     "start_time": "2020-11-30T16:13:56.868790Z"
    }
   },
   "outputs": [],
   "source": [
    "ds = tf.data.Dataset.from_tensor_slices(prueba_aug_test)\n",
    "AUTOTUNE = tf.data.experimental.AUTOTUNE\n",
    "ds = ds.map(parse_image, num_parallel_calls=AUTOTUNE)\n",
    "#ds = ds.repeat()\n",
    "#shuffle\n",
    "#Different augmentation for each image in batch\n",
    "ds = ds.map(augment, num_parallel_calls=AUTOTUNE)\n",
    "\n",
    "ds = ds.batch(1)\n",
    "#SAME AGUMENTATIN FOR ALL BATCH IMAGES IF IT IS DONE AFTER BATCH\n",
    "#ds = ds.map(augment, num_parallel_calls=AUTOTUNE)\n",
    "\n",
    "#ds = ds.prefetch(buffer_size=AUTOTUNE)"
   ]
  },
  {
   "cell_type": "code",
   "execution_count": null,
   "metadata": {
    "ExecuteTime": {
     "end_time": "2020-11-30T16:13:58.236982Z",
     "start_time": "2020-11-30T16:13:57.188503Z"
    },
    "scrolled": true
   },
   "outputs": [],
   "source": [
    "\n",
    "batchx, batchy = next(iter(ds))\n",
    "print(batchx.shape, batchy.shape)\n",
    "for x,y in zip(batchx, batchy):\n",
    "    plt.figure(figsize=(12,9))\n",
    "    plt.subplot(1,2,1)\n",
    "    plt.imshow(x)\n",
    "    plt.title('Input')\n",
    "    plt.subplot(1,2,2)\n",
    "    plt.imshow(y)\n",
    "    plt.title('Target')\n",
    "    plt.show()"
   ]
  },
  {
   "cell_type": "code",
   "execution_count": null,
   "metadata": {
    "ExecuteTime": {
     "end_time": "2020-11-30T16:14:17.455225Z",
     "start_time": "2020-11-30T16:14:17.308840Z"
    }
   },
   "outputs": [],
   "source": [
    "list(ds)[0]"
   ]
  },
  {
   "cell_type": "markdown",
   "metadata": {},
   "source": [
    "## DAug as Model: GPU\n",
    "* Less powerfull to customize in a easy way"
   ]
  },
  {
   "cell_type": "code",
   "execution_count": null,
   "metadata": {
    "ExecuteTime": {
     "end_time": "2020-11-30T11:25:15.567224Z",
     "start_time": "2020-11-30T11:25:12.317Z"
    }
   },
   "outputs": [],
   "source": [
    "y.shape"
   ]
  },
  {
   "cell_type": "code",
   "execution_count": null,
   "metadata": {
    "ExecuteTime": {
     "end_time": "2020-11-30T11:25:15.569219Z",
     "start_time": "2020-11-30T11:25:12.500Z"
    }
   },
   "outputs": [],
   "source": [
    "data_aug_ly = tf.keras.Sequential([\n",
    "    tf.keras.layers.experimental.preprocessing.RandomCrop(102,102),\n",
    "    #tf.keras.layers.experimental.preprocessing.RandomZoom(.5, .2)\n",
    "    tf.keras.layers.experimental.preprocessing.Resizing(128,128)\n",
    "])"
   ]
  },
  {
   "cell_type": "code",
   "execution_count": null,
   "metadata": {
    "ExecuteTime": {
     "end_time": "2020-11-30T11:25:15.571214Z",
     "start_time": "2020-11-30T11:25:12.837Z"
    },
    "scrolled": true
   },
   "outputs": [],
   "source": [
    "batchx, batchy = next(iter(ds))\n",
    "for _,y in zip(batchx, batchy):\n",
    "    plt.figure(figsize=(12,9))\n",
    "    plt.subplot(1,2,1)\n",
    "    plt.imshow(data_aug_ly(tf.expand_dims(y,axis=0))[0])\n",
    "    plt.title('Input')\n",
    "    plt.subplot(1,2,2)\n",
    "    plt.imshow(y)\n",
    "    plt.title('Target')\n",
    "    plt.show()"
   ]
  },
  {
   "cell_type": "code",
   "execution_count": null,
   "metadata": {},
   "outputs": [],
   "source": [
    "tf.keras.layers.experimental.preprocessing."
   ]
  },
  {
   "cell_type": "markdown",
   "metadata": {},
   "source": [
    "```python\n",
    "my model = tf.keras.layers.Sequential([\n",
    "    Input,\n",
    "    data_aug,\n",
    "    conv,\n",
    "    maxpool,\n",
    "    ...,\n",
    "]\n",
    ")\n",
    "```"
   ]
  },
  {
   "cell_type": "markdown",
   "metadata": {},
   "source": [
    "## Data Loader check"
   ]
  },
  {
   "cell_type": "code",
   "execution_count": null,
   "metadata": {
    "ExecuteTime": {
     "end_time": "2020-11-30T13:25:16.860457Z",
     "start_time": "2020-11-30T13:25:16.843945Z"
    }
   },
   "outputs": [],
   "source": [
    "from my_tf_data_loader_optimized import tf_data_png_loader"
   ]
  },
  {
   "cell_type": "code",
   "execution_count": null,
   "metadata": {
    "ExecuteTime": {
     "end_time": "2020-11-30T13:25:20.220533Z",
     "start_time": "2020-11-30T13:25:17.466446Z"
    }
   },
   "outputs": [],
   "source": [
    "params = {'batch_size': 4,\n",
    "          'cache':False,\n",
    "          'shuffle_buffer_size':1000,\n",
    "          'resize':(128,128),\n",
    "          'train': True,\n",
    "          'augment': True\n",
    "         }\n",
    "#train         \n",
    "loader = tf_data_png_loader(test_img_files, **params)\n",
    "l_ds = loader.get_tf_ds_generator()"
   ]
  },
  {
   "cell_type": "code",
   "execution_count": null,
   "metadata": {
    "ExecuteTime": {
     "end_time": "2020-11-30T13:25:33.467218Z",
     "start_time": "2020-11-30T13:25:31.668199Z"
    },
    "scrolled": false
   },
   "outputs": [],
   "source": [
    "batchx, batchy = next(iter(l_ds))\n",
    "print(batchx.shape, batchy.shape)\n",
    "for x,y in zip(batchx, batchy):\n",
    "    plt.figure(figsize=(12,9))\n",
    "    plt.subplot(1,2,1)\n",
    "    plt.imshow(x)\n",
    "    plt.title('Input')\n",
    "    plt.subplot(1,2,2)\n",
    "    plt.imshow(y)\n",
    "    plt.title('Target')\n",
    "    plt.show()"
   ]
  },
  {
   "cell_type": "code",
   "execution_count": null,
   "metadata": {
    "ExecuteTime": {
     "end_time": "2020-11-30T13:22:00.422963Z",
     "start_time": "2020-11-30T13:22:00.409355Z"
    }
   },
   "outputs": [],
   "source": [
    "train_loader"
   ]
  },
  {
   "cell_type": "code",
   "execution_count": null,
   "metadata": {},
   "outputs": [],
   "source": []
  },
  {
   "cell_type": "code",
   "execution_count": null,
   "metadata": {},
   "outputs": [],
   "source": []
  },
  {
   "cell_type": "code",
   "execution_count": null,
   "metadata": {},
   "outputs": [],
   "source": []
  },
  {
   "cell_type": "code",
   "execution_count": null,
   "metadata": {},
   "outputs": [],
   "source": []
  },
  {
   "cell_type": "code",
   "execution_count": null,
   "metadata": {},
   "outputs": [],
   "source": []
  },
  {
   "cell_type": "code",
   "execution_count": null,
   "metadata": {},
   "outputs": [],
   "source": []
  },
  {
   "cell_type": "code",
   "execution_count": null,
   "metadata": {},
   "outputs": [],
   "source": []
  },
  {
   "cell_type": "code",
   "execution_count": null,
   "metadata": {},
   "outputs": [],
   "source": []
  },
  {
   "cell_type": "code",
   "execution_count": null,
   "metadata": {},
   "outputs": [],
   "source": []
  },
  {
   "cell_type": "code",
   "execution_count": null,
   "metadata": {},
   "outputs": [],
   "source": []
  },
  {
   "cell_type": "code",
   "execution_count": null,
   "metadata": {},
   "outputs": [],
   "source": []
  },
  {
   "cell_type": "code",
   "execution_count": null,
   "metadata": {},
   "outputs": [],
   "source": []
  }
 ],
 "metadata": {
  "kernelspec": {
   "display_name": "Python 3",
   "language": "python",
   "name": "python3"
  },
  "language_info": {
   "codemirror_mode": {
    "name": "ipython",
    "version": 3
   },
   "file_extension": ".py",
   "mimetype": "text/x-python",
   "name": "python",
   "nbconvert_exporter": "python",
   "pygments_lexer": "ipython3",
   "version": "3.7.9"
  },
  "toc": {
   "base_numbering": 1,
   "nav_menu": {},
   "number_sections": true,
   "sideBar": true,
   "skip_h1_title": true,
   "title_cell": "Table of Contents",
   "title_sidebar": "Table of Contents",
   "toc_cell": true,
   "toc_position": {},
   "toc_section_display": true,
   "toc_window_display": false
  },
  "varInspector": {
   "cols": {
    "lenName": 16,
    "lenType": 16,
    "lenVar": 40
   },
   "kernels_config": {
    "python": {
     "delete_cmd_postfix": "",
     "delete_cmd_prefix": "del ",
     "library": "var_list.py",
     "varRefreshCmd": "print(var_dic_list())"
    },
    "r": {
     "delete_cmd_postfix": ") ",
     "delete_cmd_prefix": "rm(",
     "library": "var_list.r",
     "varRefreshCmd": "cat(var_dic_list()) "
    }
   },
   "types_to_exclude": [
    "module",
    "function",
    "builtin_function_or_method",
    "instance",
    "_Feature"
   ],
   "window_display": false
  }
 },
 "nbformat": 4,
 "nbformat_minor": 4
}
