{
 "cells": [
  {
   "cell_type": "markdown",
   "metadata": {
    "toc": true
   },
   "source": [
    "<h1>Table of Contents<span class=\"tocSkip\"></span></h1>\n",
    "<div class=\"toc\"><ul class=\"toc-item\"><li><span><a href=\"#0.-System-requirements-and-general-Steps\" data-toc-modified-id=\"0.-System-requirements-and-general-Steps-1\"><span class=\"toc-item-num\">1&nbsp;&nbsp;</span>0. System requirements and general Steps</a></span></li><li><span><a href=\"#1.-CUDA-10.1-Instalation\" data-toc-modified-id=\"1.-CUDA-10.1-Instalation-2\"><span class=\"toc-item-num\">2&nbsp;&nbsp;</span>1. CUDA 10.1 Instalation</a></span></li><li><span><a href=\"#2.-cuDNN-7.6.5-for-CUDA-10.1-installation\" data-toc-modified-id=\"2.-cuDNN-7.6.5-for-CUDA-10.1-installation-3\"><span class=\"toc-item-num\">3&nbsp;&nbsp;</span>2. cuDNN 7.6.5 for CUDA 10.1 installation</a></span></li><li><span><a href=\"#3.-Install-tensorflow-gpu\" data-toc-modified-id=\"3.-Install-tensorflow-gpu-4\"><span class=\"toc-item-num\">4&nbsp;&nbsp;</span>3. Install tensorflow-gpu</a></span></li><li><span><a href=\"#4.-Checking-if-system-recognices-GPU\" data-toc-modified-id=\"4.-Checking-if-system-recognices-GPU-5\"><span class=\"toc-item-num\">5&nbsp;&nbsp;</span>4. Checking if system recognices GPU</a></span><ul class=\"toc-item\"><li><span><a href=\"#4.1-Checking-(in-many-ways)-if-tensorflow-recognice-GPU\" data-toc-modified-id=\"4.1-Checking-(in-many-ways)-if-tensorflow-recognice-GPU-5.1\"><span class=\"toc-item-num\">5.1&nbsp;&nbsp;</span>4.1 Checking (in many ways) if tensorflow recognice GPU</a></span></li><li><span><a href=\"#4.2-Keras\" data-toc-modified-id=\"4.2-Keras-5.2\"><span class=\"toc-item-num\">5.2&nbsp;&nbsp;</span>4.2 Keras</a></span></li><li><span><a href=\"#4.3-Checking-if-Pytorch-recognice-it\" data-toc-modified-id=\"4.3-Checking-if-Pytorch-recognice-it-5.3\"><span class=\"toc-item-num\">5.3&nbsp;&nbsp;</span>4.3 Checking if Pytorch recognice it</a></span></li></ul></li><li><span><a href=\"#5.-Example-Experiment\" data-toc-modified-id=\"5.-Example-Experiment-6\"><span class=\"toc-item-num\">6&nbsp;&nbsp;</span>5. Example Experiment</a></span></li><li><span><a href=\"#6.-Comparison\" data-toc-modified-id=\"6.-Comparison-7\"><span class=\"toc-item-num\">7&nbsp;&nbsp;</span>6. Comparison</a></span></li></ul></div>"
   ]
  },
  {
   "cell_type": "markdown",
   "metadata": {},
   "source": [
    "# Instalation and set up Tensorflow and Keras with CUDA\n",
    "\n",
    "In this notebook we will explain how to install tensorflow and keras, using the configuration for GPU using.\n",
    "\n",
    "Clink link for [Pytorch Instalation](https://medium.com/@_willfalcon/how-to-install-pytorch-1-0-with-cuda-10-0-169569c5b82d)"
   ]
  },
  {
   "cell_type": "code",
   "execution_count": 1,
   "metadata": {
    "ExecuteTime": {
     "end_time": "2020-11-12T20:42:21.147883Z",
     "start_time": "2020-11-12T20:42:21.136881Z"
    }
   },
   "outputs": [
    {
     "name": "stdout",
     "output_type": "stream",
     "text": [
      "3.7.9 (default, Aug 31 2020, 17:10:11) [MSC v.1916 64 bit (AMD64)]\n"
     ]
    }
   ],
   "source": [
    "import sys\n",
    "print(sys.version)"
   ]
  },
  {
   "cell_type": "markdown",
   "metadata": {},
   "source": [
    "## 0. System requirements and general Steps\n",
    "\n",
    "* Your system has GPU Nvidia\n",
    "* You have installed CUDA (in this case 10.1) $\\rightarrow$ Visual Studio Express must be intalled in Windows\n",
    "* You have installed CUDnn  (in this case cudnn-10.1-windows10-x64-v7.6.5.32)\n",
    "* You have installed an Anaconda distribution (in this case: Miniconda)\n",
    "* You have installed the GPU version of tensorflow\n",
    "* Verify that tensorflow is running with GPU check if GPU is working\n",
    "\n",
    "**CUDA, Cudnn, and tensorflow-gpu versions must be compatible with each others.**\n",
    "\n",
    "**First of all ensure our system has Nvidia GPU**"
   ]
  },
  {
   "cell_type": "code",
   "execution_count": 2,
   "metadata": {
    "ExecuteTime": {
     "end_time": "2020-11-12T20:42:22.898242Z",
     "start_time": "2020-11-12T20:42:22.763628Z"
    }
   },
   "outputs": [
    {
     "name": "stdout",
     "output_type": "stream",
     "text": [
      "Thu Nov 12 21:42:22 2020       \n",
      "+-----------------------------------------------------------------------------+\n",
      "| NVIDIA-SMI 456.38       Driver Version: 456.38       CUDA Version: 11.1     |\n",
      "|-------------------------------+----------------------+----------------------+\n",
      "| GPU  Name            TCC/WDDM | Bus-Id        Disp.A | Volatile Uncorr. ECC |\n",
      "| Fan  Temp  Perf  Pwr:Usage/Cap|         Memory-Usage | GPU-Util  Compute M. |\n",
      "|===============================+======================+======================|\n",
      "|   0  GeForce GTX 166... WDDM  | 00000000:01:00.0  On |                  N/A |\n",
      "| N/A   69C    P0    75W /  N/A |   2534MiB /  6144MiB |     86%      Default |\n",
      "+-------------------------------+----------------------+----------------------+\n",
      "                                                                               \n",
      "+-----------------------------------------------------------------------------+\n",
      "| Processes:                                                                  |\n",
      "|  GPU   GI   CI        PID   Type   Process name                  GPU Memory |\n",
      "|        ID   ID                                                   Usage      |\n",
      "|=============================================================================|\n",
      "|    0   N/A  N/A      2104    C+G   ...nputApp\\TextInputHost.exe    N/A      |\n",
      "|    0   N/A  N/A      2428    C+G   ...wekyb3d8bbwe\\Music.UI.exe    N/A      |\n",
      "|    0   N/A  N/A      2868    C+G   ...y\\ShellExperienceHost.exe    N/A      |\n",
      "|    0   N/A  N/A      3552    C+G   ...artMenuExperienceHost.exe    N/A      |\n",
      "|    0   N/A  N/A      4964    C+G   ...b3d8bbwe\\WinStore.App.exe    N/A      |\n",
      "|    0   N/A  N/A      7412      C   ...RI_Autoencoder\\python.exe    N/A      |\n",
      "|    0   N/A  N/A      7888    C+G   ...cw5n1h2txyewy\\LockApp.exe    N/A      |\n",
      "|    0   N/A  N/A      8288    C+G   ...ekyb3d8bbwe\\YourPhone.exe    N/A      |\n",
      "|    0   N/A  N/A      9220    C+G   ...bbwe\\Microsoft.Photos.exe    N/A      |\n",
      "|    0   N/A  N/A     10932    C+G   ...arp.BrowserSubprocess.exe    N/A      |\n",
      "|    0   N/A  N/A     14132    C+G   ...qxf38zg5c\\Skype\\Skype.exe    N/A      |\n",
      "|    0   N/A  N/A     14512    C+G   ...5n1h2txyewy\\SearchApp.exe    N/A      |\n",
      "|    0   N/A  N/A     15184    C+G   ...men.OmenCommandCenter.exe    N/A      |\n",
      "|    0   N/A  N/A     15264    C+G   ...me\\Application\\chrome.exe    N/A      |\n",
      "|    0   N/A  N/A     15524    C+G   ...mmandCenterBackground.exe    N/A      |\n",
      "|    0   N/A  N/A     17512    C+G   ...perience\\NVIDIA Share.exe    N/A      |\n",
      "|    0   N/A  N/A     18364    C+G   ...ystemEventUtilityHost.exe    N/A      |\n",
      "|    0   N/A  N/A     19544    C+G   ...wekyb3d8bbwe\\Video.UI.exe    N/A      |\n",
      "|    0   N/A  N/A     19636    C+G   C:\\Windows\\explorer.exe         N/A      |\n",
      "|    0   N/A  N/A     19772    C+G   Insufficient Permissions        N/A      |\n",
      "|    0   N/A  N/A     19836    C+G   ...lPanel\\SystemSettings.exe    N/A      |\n",
      "+-----------------------------------------------------------------------------+\n"
     ]
    }
   ],
   "source": [
    "!nvidia-smi"
   ]
  },
  {
   "cell_type": "markdown",
   "metadata": {},
   "source": [
    "## 1. CUDA 10.1 Instalation\n",
    "\n",
    "* **Download VISUAL STUDIO EXPRESS 2019**\n",
    "\n",
    "Its necessary install [VSExpress](https://visualstudio.microsoft.com/es/vs/express/) for getting the properly base C++ files and libraries. We do have to install **C++ Workloads**.\n",
    "\n",
    "* **Download CUDA 10.1**\n",
    "\n",
    "Once installed VSE, we will [Download CUDA Toolkit 10.1 from its official page](https://developer.nvidia.com/cuda-10.1-download-archive-base?target_os=Windows&target_arch=x86_64&target_version=10&target_type=exelocal). We can choose our OS, architecture, and download options (net or local).\n",
    "\n",
    "We must know the exact installation location of Cuda Toolkit, such as `C:\\Program Files\\NVIDA GPU Computing Toolkit\\CUDA\\v10.1`. We mus know it for adding it to the PATH.\n",
    "\n",
    "We will add `C:\\Program Files\\NVIDA GPU Computing Toolkit\\CUDA\\v10.1\\bin` and `C:\\Program Files\\NVIDA GPU Computing Toolkit\\CUDA\\v10.1\\libnvvp` to the Enviroment variables.\n"
   ]
  },
  {
   "cell_type": "code",
   "execution_count": 3,
   "metadata": {
    "ExecuteTime": {
     "end_time": "2020-11-12T20:42:31.990740Z",
     "start_time": "2020-11-12T20:42:31.740409Z"
    }
   },
   "outputs": [
    {
     "name": "stdout",
     "output_type": "stream",
     "text": [
      "nvcc: NVIDIA (R) Cuda compiler driver\n",
      "Copyright (c) 2005-2019 NVIDIA Corporation\n",
      "Built on Fri_Feb__8_19:08:26_Pacific_Standard_Time_2019\n",
      "Cuda compilation tools, release 10.1, V10.1.105\n"
     ]
    }
   ],
   "source": [
    "!nvcc --version"
   ]
  },
  {
   "cell_type": "markdown",
   "metadata": {},
   "source": [
    "## 2. cuDNN 7.6.5 for CUDA 10.1 installation\n",
    "\n",
    "* **Install cuDNN 7.6.5 for CUDA 10.1**\n",
    "\n",
    "(cudnn-10.1-windows10-x64-v7.6.5.32)\n",
    "\n",
    "We should [download the zip for cuDNN](https://developer.nvidia.com/rdp/cudnn-download#). We must be loged in orde to be able to download it.\n",
    "\n",
    "We will click [Archived cuDNN Releases](https://developer.nvidia.com/rdp/cudnn-archive) and choose *Download cuDNN v7.6.5 (November 5th, 2019), for CUDA 10.1*\n",
    "\n",
    "It is not an executable, **we must copy the proper files from cuDNN zip to our local CUDA PATH**.\n",
    "\n",
    "\n",
    "| Source  |   | Target  |\n",
    "|---|---|---|\n",
    "| <downloadpath\\>\\cudnn-10.1-windows10-x64-v7.6.5.32\\cuda\\bin\\\\**cudnn64_7.dll**  |  $\\rightarrow$ | <cudapath\\>NVIDA GPU Computing Toolkit\\CUDA\\v10.1\\bin\\  |\n",
    "| <downloadpath\\>\\cudnn-10.1-windows10-x64-v7.6.5.32\\cuda\\include\\\\**cudnn.h**  |  $\\rightarrow$ | <cudapath\\>NVIDA GPU Computing Toolkit\\CUDA\\v10.1\\include\\  |   \n",
    "| <downloadpath\\>\\cudnn-10.1-windows10-x64-v7.6.5.32\\cuda\\lib\\x64\\\\**cudnn.lib**  |  $\\rightarrow$ | <cudapath\\>NVIDA GPU Computing Toolkit\\CUDA\\v10.1\\lib\\x64\\  |  \n",
    "    \n",
    "**Ensure cudnn64_7.dll file exists**. In some new versions, you have cudnn64_8.dll instead, and TF crashes."
   ]
  },
  {
   "cell_type": "markdown",
   "metadata": {},
   "source": [
    "## 3. Install tensorflow-gpu\n",
    "\n",
    "`pip instal tensorflow-gpu` or `pip instal tensorflow-gpu==version`\n",
    "\n",
    "It works for versions 2.1.0 and 2.3.1"
   ]
  },
  {
   "cell_type": "markdown",
   "metadata": {},
   "source": [
    "***************\n",
    "\n",
    "## 4. Checking if system recognices GPU"
   ]
  },
  {
   "cell_type": "markdown",
   "metadata": {},
   "source": [
    "### 4.1 Checking (in many ways) if tensorflow recognice GPU\n",
    "\n",
    "In [Tensorflow Guide for use of GPU](https://www.tensorflow.org/guide/gpu) They cover more topics like\n",
    "\n",
    "* Limit GPU usage and dynamic growth.\n",
    "* Dynamically selection of device.\n",
    "* Usage of multiples GPU: **SIMULATE IN A 1-GPU SYSTEM**.\n",
    "\n",
    "\n",
    "**TensorFlow code, and tf.keras models will transparently run on a single GPU with no code changes required.**\n"
   ]
  },
  {
   "cell_type": "code",
   "execution_count": 4,
   "metadata": {
    "ExecuteTime": {
     "end_time": "2020-11-12T19:36:14.749522Z",
     "start_time": "2020-11-12T19:36:10.479202Z"
    }
   },
   "outputs": [],
   "source": [
    "import tensorflow as tf \n",
    "from tensorflow.python.client import device_lib"
   ]
  },
  {
   "cell_type": "markdown",
   "metadata": {},
   "source": [
    "Fist of all, we show the tensorflow version"
   ]
  },
  {
   "cell_type": "code",
   "execution_count": 5,
   "metadata": {
    "ExecuteTime": {
     "end_time": "2020-11-12T19:36:14.780428Z",
     "start_time": "2020-11-12T19:36:14.752504Z"
    }
   },
   "outputs": [
    {
     "data": {
      "text/plain": [
       "'2.3.1'"
      ]
     },
     "execution_count": 5,
     "metadata": {},
     "output_type": "execute_result"
    }
   ],
   "source": [
    "tf.__version__"
   ]
  },
  {
   "cell_type": "markdown",
   "metadata": {},
   "source": [
    "Check if the distribution of Tensorflow is intalled with gpu availability."
   ]
  },
  {
   "cell_type": "code",
   "execution_count": 6,
   "metadata": {
    "ExecuteTime": {
     "end_time": "2020-11-12T19:36:14.796460Z",
     "start_time": "2020-11-12T19:36:14.784452Z"
    }
   },
   "outputs": [
    {
     "data": {
      "text/plain": [
       "True"
      ]
     },
     "execution_count": 6,
     "metadata": {},
     "output_type": "execute_result"
    }
   ],
   "source": [
    "tf.test.is_built_with_cuda()"
   ]
  },
  {
   "cell_type": "markdown",
   "metadata": {},
   "source": [
    "Some commands that show us if GPU is seen by tensorflow (and hence Cuda, CuDnn, and Tensorflow-gpu properly installed)"
   ]
  },
  {
   "cell_type": "code",
   "execution_count": 7,
   "metadata": {
    "ExecuteTime": {
     "end_time": "2020-11-12T19:36:16.410531Z",
     "start_time": "2020-11-12T19:36:14.799374Z"
    }
   },
   "outputs": [
    {
     "name": "stdout",
     "output_type": "stream",
     "text": [
      "WARNING:tensorflow:From <ipython-input-7-78f884b5c1a9>:1: is_gpu_available (from tensorflow.python.framework.test_util) is deprecated and will be removed in a future version.\n",
      "Instructions for updating:\n",
      "Use `tf.config.list_physical_devices('GPU')` instead.\n"
     ]
    },
    {
     "data": {
      "text/plain": [
       "True"
      ]
     },
     "execution_count": 7,
     "metadata": {},
     "output_type": "execute_result"
    }
   ],
   "source": [
    "tf.test.is_gpu_available(cuda_only=False, min_cuda_compute_capability=None)"
   ]
  },
  {
   "cell_type": "code",
   "execution_count": 8,
   "metadata": {
    "ExecuteTime": {
     "end_time": "2020-11-12T19:36:16.455900Z",
     "start_time": "2020-11-12T19:36:16.416477Z"
    }
   },
   "outputs": [
    {
     "data": {
      "text/plain": [
       "[PhysicalDevice(name='/physical_device:GPU:0', device_type='GPU')]"
      ]
     },
     "execution_count": 8,
     "metadata": {},
     "output_type": "execute_result"
    }
   ],
   "source": [
    "tf.config.experimental.list_physical_devices('GPU')"
   ]
  },
  {
   "cell_type": "code",
   "execution_count": 9,
   "metadata": {
    "ExecuteTime": {
     "end_time": "2020-11-12T19:36:16.486896Z",
     "start_time": "2020-11-12T19:36:16.465972Z"
    }
   },
   "outputs": [
    {
     "data": {
      "text/plain": [
       "[PhysicalDevice(name='/physical_device:GPU:0', device_type='GPU')]"
      ]
     },
     "execution_count": 9,
     "metadata": {},
     "output_type": "execute_result"
    }
   ],
   "source": [
    "tf.config.list_physical_devices('GPU')"
   ]
  },
  {
   "cell_type": "code",
   "execution_count": 10,
   "metadata": {
    "ExecuteTime": {
     "end_time": "2020-11-12T19:36:16.548754Z",
     "start_time": "2020-11-12T19:36:16.493526Z"
    }
   },
   "outputs": [
    {
     "data": {
      "text/plain": [
       "[LogicalDevice(name='/device:GPU:0', device_type='GPU')]"
      ]
     },
     "execution_count": 10,
     "metadata": {},
     "output_type": "execute_result"
    }
   ],
   "source": [
    "tf.config.experimental.list_logical_devices('GPU')"
   ]
  },
  {
   "cell_type": "code",
   "execution_count": 11,
   "metadata": {
    "ExecuteTime": {
     "end_time": "2020-11-12T19:36:16.595819Z",
     "start_time": "2020-11-12T19:36:16.554744Z"
    },
    "scrolled": true
   },
   "outputs": [
    {
     "data": {
      "text/plain": [
       "[name: \"/device:CPU:0\"\n",
       " device_type: \"CPU\"\n",
       " memory_limit: 268435456\n",
       " locality {\n",
       " }\n",
       " incarnation: 15316541540039319470,\n",
       " name: \"/device:XLA_CPU:0\"\n",
       " device_type: \"XLA_CPU\"\n",
       " memory_limit: 17179869184\n",
       " locality {\n",
       " }\n",
       " incarnation: 10732478972914339726\n",
       " physical_device_desc: \"device: XLA_CPU device\",\n",
       " name: \"/device:GPU:0\"\n",
       " device_type: \"GPU\"\n",
       " memory_limit: 4880768998\n",
       " locality {\n",
       "   bus_id: 1\n",
       "   links {\n",
       "   }\n",
       " }\n",
       " incarnation: 16308370637865274448\n",
       " physical_device_desc: \"device: 0, name: GeForce GTX 1660 Ti, pci bus id: 0000:01:00.0, compute capability: 7.5\",\n",
       " name: \"/device:XLA_GPU:0\"\n",
       " device_type: \"XLA_GPU\"\n",
       " memory_limit: 17179869184\n",
       " locality {\n",
       " }\n",
       " incarnation: 17906024127371212752\n",
       " physical_device_desc: \"device: XLA_GPU device\"]"
      ]
     },
     "execution_count": 11,
     "metadata": {},
     "output_type": "execute_result"
    }
   ],
   "source": [
    "# Check all devices with its details\n",
    "device_lib.list_local_devices()"
   ]
  },
  {
   "cell_type": "markdown",
   "metadata": {},
   "source": [
    "**Logging device placement**\n",
    "\n",
    "To find out which devices your operations and tensors are assigned to, put tf.debugging.set_log_device_placement(True) as the first statement of your program. Enabling device placement logging causes any Tensor allocations or operations to be printed."
   ]
  },
  {
   "cell_type": "code",
   "execution_count": 12,
   "metadata": {
    "ExecuteTime": {
     "end_time": "2020-11-12T19:36:16.625585Z",
     "start_time": "2020-11-12T19:36:16.603615Z"
    },
    "scrolled": true
   },
   "outputs": [],
   "source": [
    "#Set log in older versions\n",
    "#sess = tf.compat.v1.Session(config=tf.compat.v1.ConfigProto(log_device_placement=True))\n",
    "tf.debugging.set_log_device_placement(True)"
   ]
  },
  {
   "cell_type": "markdown",
   "metadata": {},
   "source": [
    "Example of running: see miniconda prompt for log output or jupyter cell output.\n",
    "\n",
    "*Executing op MatMul in device /job:localhost/replica:0/task:0/device:GPU:0*"
   ]
  },
  {
   "cell_type": "code",
   "execution_count": 13,
   "metadata": {
    "ExecuteTime": {
     "end_time": "2020-11-12T19:36:20.502607Z",
     "start_time": "2020-11-12T19:36:16.630540Z"
    }
   },
   "outputs": [
    {
     "name": "stdout",
     "output_type": "stream",
     "text": [
      "tf.Tensor(\n",
      "[[22. 28.]\n",
      " [49. 64.]], shape=(2, 2), dtype=float32)\n"
     ]
    }
   ],
   "source": [
    "\n",
    "# Create some tensors\n",
    "a = tf.constant([[1.0, 2.0, 3.0], [4.0, 5.0, 6.0]])\n",
    "b = tf.constant([[1.0, 2.0], [3.0, 4.0], [5.0, 6.0]])\n",
    "c = tf.matmul(a, b)\n",
    "\n",
    "print(c)"
   ]
  },
  {
   "cell_type": "markdown",
   "metadata": {},
   "source": [
    "**In case of Tensorflow doesn't run it on GPU, we could set up manualy**\n",
    "\n",
    "Manual device placement\n",
    "```python \n",
    "tf.debugging.set_log_device_placement(True)\n",
    "\n",
    "# Place tensors on the CPU\n",
    "with tf.device('/CPU:0'): #with tf.device('/device:GPU:0'):\n",
    "  a = tf.constant([[1.0, 2.0, 3.0], [4.0, 5.0, 6.0]])\n",
    "  b = tf.constant([[1.0, 2.0], [3.0, 4.0], [5.0, 6.0]])\n",
    "\n",
    "# Run on the GPU\n",
    "c = tf.matmul(a, b)\n",
    "print(c)\n",
    "```\n",
    "\n",
    "You will see that now a and b are assigned to CPU:0. Since a device was not explicitly specified for the MatMul operation, the TensorFlow runtime will choose one based on the operation and available devices (GPU:0 in this example) and automatically copy tensors between devices if required."
   ]
  },
  {
   "cell_type": "markdown",
   "metadata": {},
   "source": [
    "### 4.2 Keras\n",
    "\n",
    "In Tensorflow Keras is already bult-in. Therefore, the use and configuration of GPU is madre through Tensorflow."
   ]
  },
  {
   "cell_type": "code",
   "execution_count": 14,
   "metadata": {
    "ExecuteTime": {
     "end_time": "2020-11-12T19:36:20.518060Z",
     "start_time": "2020-11-12T19:36:20.505065Z"
    }
   },
   "outputs": [
    {
     "data": {
      "text/plain": [
       "'2.4.0'"
      ]
     },
     "execution_count": 14,
     "metadata": {},
     "output_type": "execute_result"
    }
   ],
   "source": [
    "tf.keras.__version__"
   ]
  },
  {
   "cell_type": "markdown",
   "metadata": {},
   "source": [
    "### 4.3 Checking if Pytorch recognice it\n",
    "In case of having Pythorch installed\n",
    "```python\n",
    "# confirm PyTorch sees the GPU\n",
    "from torch import cuda\n",
    "cuda.is_available()\n",
    "cuda.device_count() > 0\n",
    "print(cuda.get_device_name(cuda.current_device()))\n",
    "```\n",
    "\n"
   ]
  },
  {
   "cell_type": "markdown",
   "metadata": {},
   "source": [
    "## 5. Example Experiment\n",
    "To ensure that Keras and Tensorflow are using the GPU, we are making a little demo model and check the GPU usage.\n",
    "\n",
    "We will compare the execution time of a toy model (mnist classification) executing on CPU vs GPU."
   ]
  },
  {
   "cell_type": "code",
   "execution_count": 15,
   "metadata": {
    "ExecuteTime": {
     "end_time": "2020-11-12T19:38:14.758025Z",
     "start_time": "2020-11-12T19:36:20.521041Z"
    },
    "scrolled": true
   },
   "outputs": [
    {
     "name": "stdout",
     "output_type": "stream",
     "text": [
      "60000 train samples\n",
      "10000 test samples\n",
      "Model: \"sequential\"\n",
      "_________________________________________________________________\n",
      "Layer (type)                 Output Shape              Param #   \n",
      "=================================================================\n",
      "dense (Dense)                (None, 512)               401920    \n",
      "_________________________________________________________________\n",
      "dropout (Dropout)            (None, 512)               0         \n",
      "_________________________________________________________________\n",
      "dense_1 (Dense)              (None, 512)               262656    \n",
      "_________________________________________________________________\n",
      "dropout_1 (Dropout)          (None, 512)               0         \n",
      "_________________________________________________________________\n",
      "dense_2 (Dense)              (None, 10)                5130      \n",
      "=================================================================\n",
      "Total params: 669,706\n",
      "Trainable params: 669,706\n",
      "Non-trainable params: 0\n",
      "_________________________________________________________________\n",
      "Epoch 1/20\n",
      "469/469 [==============================] - 5s 11ms/step - loss: 0.2444 - accuracy: 0.9246 - val_loss: 0.1055 - val_accuracy: 0.9681\n",
      "Epoch 2/20\n",
      "469/469 [==============================] - 5s 11ms/step - loss: 0.1029 - accuracy: 0.9692 - val_loss: 0.0910 - val_accuracy: 0.9719\n",
      "Epoch 3/20\n",
      "469/469 [==============================] - 5s 10ms/step - loss: 0.0749 - accuracy: 0.9775 - val_loss: 0.1078 - val_accuracy: 0.9701\n",
      "Epoch 4/20\n",
      "469/469 [==============================] - 6s 13ms/step - loss: 0.0612 - accuracy: 0.9814 - val_loss: 0.0783 - val_accuracy: 0.9799\n",
      "Epoch 5/20\n",
      "469/469 [==============================] - 6s 12ms/step - loss: 0.0514 - accuracy: 0.9844 - val_loss: 0.0747 - val_accuracy: 0.9804\n",
      "Epoch 6/20\n",
      "469/469 [==============================] - 6s 12ms/step - loss: 0.0427 - accuracy: 0.9878 - val_loss: 0.0799 - val_accuracy: 0.9798\n",
      "Epoch 7/20\n",
      "469/469 [==============================] - 6s 12ms/step - loss: 0.0381 - accuracy: 0.9891 - val_loss: 0.0773 - val_accuracy: 0.9840\n",
      "Epoch 8/20\n",
      "469/469 [==============================] - 6s 12ms/step - loss: 0.0338 - accuracy: 0.9898 - val_loss: 0.0867 - val_accuracy: 0.9822\n",
      "Epoch 9/20\n",
      "469/469 [==============================] - 6s 12ms/step - loss: 0.0305 - accuracy: 0.9913 - val_loss: 0.0899 - val_accuracy: 0.9831\n",
      "Epoch 10/20\n",
      "469/469 [==============================] - 6s 12ms/step - loss: 0.0272 - accuracy: 0.9917 - val_loss: 0.0947 - val_accuracy: 0.9826\n",
      "Epoch 11/20\n",
      "469/469 [==============================] - 6s 13ms/step - loss: 0.0258 - accuracy: 0.9923 - val_loss: 0.1007 - val_accuracy: 0.9817\n",
      "Epoch 12/20\n",
      "469/469 [==============================] - 6s 12ms/step - loss: 0.0258 - accuracy: 0.9928 - val_loss: 0.1041 - val_accuracy: 0.9816\n",
      "Epoch 13/20\n",
      "469/469 [==============================] - 6s 12ms/step - loss: 0.0220 - accuracy: 0.9937 - val_loss: 0.0938 - val_accuracy: 0.9836\n",
      "Epoch 14/20\n",
      "469/469 [==============================] - 6s 12ms/step - loss: 0.0228 - accuracy: 0.9934 - val_loss: 0.1017 - val_accuracy: 0.9837\n",
      "Epoch 15/20\n",
      "469/469 [==============================] - 5s 12ms/step - loss: 0.0201 - accuracy: 0.9942 - val_loss: 0.1218 - val_accuracy: 0.9827\n",
      "Epoch 16/20\n",
      "469/469 [==============================] - 6s 12ms/step - loss: 0.0211 - accuracy: 0.9939 - val_loss: 0.1066 - val_accuracy: 0.9836\n",
      "Epoch 17/20\n",
      "469/469 [==============================] - 6s 12ms/step - loss: 0.0201 - accuracy: 0.9944 - val_loss: 0.1279 - val_accuracy: 0.9832\n",
      "Epoch 18/20\n",
      "469/469 [==============================] - 6s 12ms/step - loss: 0.0193 - accuracy: 0.9946 - val_loss: 0.1261 - val_accuracy: 0.9821\n",
      "Epoch 19/20\n",
      "469/469 [==============================] - 5s 11ms/step - loss: 0.0182 - accuracy: 0.9955 - val_loss: 0.1154 - val_accuracy: 0.9858\n",
      "Epoch 20/20\n",
      "469/469 [==============================] - 5s 12ms/step - loss: 0.0185 - accuracy: 0.9950 - val_loss: 0.1298 - val_accuracy: 0.9824\n",
      "Test loss: 0.12977999448776245\n",
      "Test accuracy: 0.9824000000953674\n"
     ]
    }
   ],
   "source": [
    "from __future__ import print_function\n",
    "\n",
    "''' Not built-in Keras\n",
    "import keras\n",
    "from keras.datasets import mnist\n",
    "from keras.models import Sequential\n",
    "from keras.layers import Dense, Dropout\n",
    "from keras.optimizers import RMSprop'''\n",
    "\n",
    "import tensorflow.keras as keras\n",
    "from tensorflow.keras.datasets import mnist\n",
    "from tensorflow.keras.models import Sequential\n",
    "from tensorflow.keras.layers import Dense, Dropout\n",
    "from tensorflow.keras.optimizers import RMSprop\n",
    "import time\n",
    "\n",
    "tf.debugging.set_log_device_placement(True)\n",
    "\n",
    "s_time = time.time()\n",
    "\n",
    "batch_size = 128\n",
    "num_classes = 10\n",
    "epochs = 20\n",
    "\n",
    "# the data, shuffled and split between train and test sets\n",
    "(x_train, y_train), (x_test, y_test) = mnist.load_data()\n",
    "\n",
    "x_train = x_train.reshape(60000, 784)\n",
    "x_test = x_test.reshape(10000, 784)\n",
    "x_train = x_train.astype('float32')\n",
    "x_test = x_test.astype('float32')\n",
    "x_train /= 255\n",
    "x_test /= 255\n",
    "print(x_train.shape[0], 'train samples')\n",
    "print(x_test.shape[0], 'test samples')\n",
    "\n",
    "# convert class vectors to binary class matrices\n",
    "y_train = keras.utils.to_categorical(y_train, num_classes)\n",
    "y_test = keras.utils.to_categorical(y_test, num_classes)\n",
    "\n",
    "model = Sequential()\n",
    "model.add(Dense(512, activation='relu', input_shape=(784,)))\n",
    "model.add(Dropout(0.2))\n",
    "model.add(Dense(512, activation='relu'))\n",
    "model.add(Dropout(0.2))\n",
    "model.add(Dense(10, activation='softmax'))\n",
    "\n",
    "model.summary()\n",
    "\n",
    "model.compile(loss='categorical_crossentropy',\n",
    "              optimizer=RMSprop(),\n",
    "              metrics=['accuracy'])\n",
    "\n",
    "history = model.fit(x_train, y_train,\n",
    "                    batch_size=batch_size,\n",
    "                    epochs=epochs,\n",
    "                    verbose=1,\n",
    "                    validation_data=(x_test, y_test))\n",
    "score = model.evaluate(x_test, y_test, verbose=0)\n",
    "print('Test loss:', score[0])\n",
    "print('Test accuracy:', score[1])"
   ]
  },
  {
   "cell_type": "code",
   "execution_count": 16,
   "metadata": {
    "ExecuteTime": {
     "end_time": "2020-11-12T19:38:14.789129Z",
     "start_time": "2020-11-12T19:38:14.763966Z"
    }
   },
   "outputs": [
    {
     "data": {
      "text/plain": [
       "114.2329683303833"
      ]
     },
     "execution_count": 16,
     "metadata": {},
     "output_type": "execute_result"
    }
   ],
   "source": [
    "time.time() - s_time"
   ]
  },
  {
   "cell_type": "markdown",
   "metadata": {},
   "source": [
    "## 6. Comparison"
   ]
  },
  {
   "cell_type": "code",
   "execution_count": 17,
   "metadata": {
    "ExecuteTime": {
     "end_time": "2020-11-12T19:38:14.804889Z",
     "start_time": "2020-11-12T19:38:14.792890Z"
    }
   },
   "outputs": [
    {
     "data": {
      "text/plain": [
       "[LogicalDevice(name='/device:CPU:0', device_type='CPU'),\n",
       " LogicalDevice(name='/device:XLA_CPU:0', device_type='XLA_CPU'),\n",
       " LogicalDevice(name='/device:GPU:0', device_type='GPU'),\n",
       " LogicalDevice(name='/device:XLA_GPU:0', device_type='XLA_GPU')]"
      ]
     },
     "execution_count": 17,
     "metadata": {},
     "output_type": "execute_result"
    }
   ],
   "source": [
    "tf.config.experimental.list_logical_devices() "
   ]
  },
  {
   "cell_type": "code",
   "execution_count": 18,
   "metadata": {
    "ExecuteTime": {
     "end_time": "2020-11-12T19:43:31.007445Z",
     "start_time": "2020-11-12T19:38:14.807878Z"
    },
    "scrolled": true
   },
   "outputs": [
    {
     "name": "stdout",
     "output_type": "stream",
     "text": [
      "60000 train samples\n",
      "10000 test samples\n",
      "Model: \"sequential_1\"\n",
      "_________________________________________________________________\n",
      "Layer (type)                 Output Shape              Param #   \n",
      "=================================================================\n",
      "dense_3 (Dense)              (None, 512)               401920    \n",
      "_________________________________________________________________\n",
      "dropout_2 (Dropout)          (None, 512)               0         \n",
      "_________________________________________________________________\n",
      "dense_4 (Dense)              (None, 512)               262656    \n",
      "_________________________________________________________________\n",
      "dropout_3 (Dropout)          (None, 512)               0         \n",
      "_________________________________________________________________\n",
      "dense_5 (Dense)              (None, 10)                5130      \n",
      "=================================================================\n",
      "Total params: 669,706\n",
      "Trainable params: 669,706\n",
      "Non-trainable params: 0\n",
      "_________________________________________________________________\n",
      "Epoch 1/20\n",
      "469/469 [==============================] - 10s 20ms/step - loss: 0.2473 - accuracy: 0.9221 - val_loss: 0.1230 - val_accuracy: 0.9635\n",
      "Epoch 2/20\n",
      "469/469 [==============================] - 9s 20ms/step - loss: 0.1014 - accuracy: 0.9691 - val_loss: 0.0871 - val_accuracy: 0.9735\n",
      "Epoch 3/20\n",
      "469/469 [==============================] - 10s 21ms/step - loss: 0.0738 - accuracy: 0.9779 - val_loss: 0.0769 - val_accuracy: 0.9777\n",
      "Epoch 4/20\n",
      "469/469 [==============================] - 10s 21ms/step - loss: 0.0601 - accuracy: 0.9823 - val_loss: 0.0812 - val_accuracy: 0.9770\n",
      "Epoch 5/20\n",
      "469/469 [==============================] - 10s 22ms/step - loss: 0.0514 - accuracy: 0.9846 - val_loss: 0.0655 - val_accuracy: 0.9816\n",
      "Epoch 6/20\n",
      "469/469 [==============================] - 10s 22ms/step - loss: 0.0424 - accuracy: 0.9871 - val_loss: 0.0950 - val_accuracy: 0.9787\n",
      "Epoch 7/20\n",
      "469/469 [==============================] - 10s 21ms/step - loss: 0.0399 - accuracy: 0.9883 - val_loss: 0.0837 - val_accuracy: 0.9810\n",
      "Epoch 8/20\n",
      "469/469 [==============================] - 10s 20ms/step - loss: 0.0341 - accuracy: 0.9897 - val_loss: 0.1131 - val_accuracy: 0.9748\n",
      "Epoch 9/20\n",
      "469/469 [==============================] - 10s 21ms/step - loss: 0.0337 - accuracy: 0.9898 - val_loss: 0.0805 - val_accuracy: 0.9829\n",
      "Epoch 10/20\n",
      "469/469 [==============================] - 10s 21ms/step - loss: 0.0287 - accuracy: 0.9919 - val_loss: 0.0888 - val_accuracy: 0.9818\n",
      "Epoch 11/20\n",
      "469/469 [==============================] - 10s 21ms/step - loss: 0.0273 - accuracy: 0.9918 - val_loss: 0.0998 - val_accuracy: 0.9807\n",
      "Epoch 12/20\n",
      "469/469 [==============================] - 11s 24ms/step - loss: 0.0245 - accuracy: 0.9934 - val_loss: 0.0961 - val_accuracy: 0.9837\n",
      "Epoch 13/20\n",
      "469/469 [==============================] - 10s 20ms/step - loss: 0.0235 - accuracy: 0.9931 - val_loss: 0.0949 - val_accuracy: 0.9826\n",
      "Epoch 14/20\n",
      "469/469 [==============================] - 10s 21ms/step - loss: 0.0215 - accuracy: 0.9938 - val_loss: 0.1227 - val_accuracy: 0.9800\n",
      "Epoch 15/20\n",
      "469/469 [==============================] - 10s 22ms/step - loss: 0.0227 - accuracy: 0.9937 - val_loss: 0.1123 - val_accuracy: 0.9821\n",
      "Epoch 16/20\n",
      "469/469 [==============================] - 12s 26ms/step - loss: 0.0203 - accuracy: 0.9947 - val_loss: 0.0941 - val_accuracy: 0.9846\n",
      "Epoch 17/20\n",
      "469/469 [==============================] - 9s 20ms/step - loss: 0.0188 - accuracy: 0.9951 - val_loss: 0.1070 - val_accuracy: 0.9847\n",
      "Epoch 18/20\n",
      "469/469 [==============================] - 10s 21ms/step - loss: 0.0185 - accuracy: 0.9950 - val_loss: 0.1156 - val_accuracy: 0.9835\n",
      "Epoch 19/20\n",
      "469/469 [==============================] - 10s 21ms/step - loss: 0.0170 - accuracy: 0.9952 - val_loss: 0.1103 - val_accuracy: 0.9840\n",
      "Epoch 20/20\n",
      "469/469 [==============================] - 13s 27ms/step - loss: 0.0167 - accuracy: 0.9955 - val_loss: 0.1313 - val_accuracy: 0.9836\n",
      "Test loss: 0.13126347959041595\n",
      "Test accuracy: 0.9836000204086304\n",
      "60000 train samples\n",
      "10000 test samples\n",
      "Model: \"sequential_2\"\n",
      "_________________________________________________________________\n",
      "Layer (type)                 Output Shape              Param #   \n",
      "=================================================================\n",
      "dense_6 (Dense)              (None, 512)               401920    \n",
      "_________________________________________________________________\n",
      "dropout_4 (Dropout)          (None, 512)               0         \n",
      "_________________________________________________________________\n",
      "dense_7 (Dense)              (None, 512)               262656    \n",
      "_________________________________________________________________\n",
      "dropout_5 (Dropout)          (None, 512)               0         \n",
      "_________________________________________________________________\n",
      "dense_8 (Dense)              (None, 10)                5130      \n",
      "=================================================================\n",
      "Total params: 669,706\n",
      "Trainable params: 669,706\n",
      "Non-trainable params: 0\n",
      "_________________________________________________________________\n",
      "Epoch 1/20\n",
      "469/469 [==============================] - 6s 12ms/step - loss: 0.2441 - accuracy: 0.9250 - val_loss: 0.1066 - val_accuracy: 0.9669\n",
      "Epoch 2/20\n",
      "469/469 [==============================] - 5s 10ms/step - loss: 0.1016 - accuracy: 0.9692 - val_loss: 0.0926 - val_accuracy: 0.9724\n",
      "Epoch 3/20\n",
      "469/469 [==============================] - 6s 12ms/step - loss: 0.0754 - accuracy: 0.9767 - val_loss: 0.0902 - val_accuracy: 0.9744\n",
      "Epoch 4/20\n",
      "469/469 [==============================] - 6s 13ms/step - loss: 0.0608 - accuracy: 0.9815 - val_loss: 0.0776 - val_accuracy: 0.9789\n",
      "Epoch 5/20\n",
      "469/469 [==============================] - 5s 11ms/step - loss: 0.0500 - accuracy: 0.9847 - val_loss: 0.0718 - val_accuracy: 0.9818\n",
      "Epoch 6/20\n",
      "469/469 [==============================] - 4s 9ms/step - loss: 0.0432 - accuracy: 0.9872 - val_loss: 0.0828 - val_accuracy: 0.9796\n",
      "Epoch 7/20\n",
      "469/469 [==============================] - 4s 9ms/step - loss: 0.0386 - accuracy: 0.9887 - val_loss: 0.0868 - val_accuracy: 0.9794\n",
      "Epoch 8/20\n",
      "469/469 [==============================] - 5s 10ms/step - loss: 0.0344 - accuracy: 0.9896 - val_loss: 0.0945 - val_accuracy: 0.9827\n",
      "Epoch 9/20\n",
      "469/469 [==============================] - 5s 11ms/step - loss: 0.0311 - accuracy: 0.9910 - val_loss: 0.0927 - val_accuracy: 0.9813\n",
      "Epoch 10/20\n",
      "469/469 [==============================] - 6s 12ms/step - loss: 0.0290 - accuracy: 0.9922 - val_loss: 0.1033 - val_accuracy: 0.9816\n",
      "Epoch 11/20\n",
      "469/469 [==============================] - 6s 12ms/step - loss: 0.0266 - accuracy: 0.9923 - val_loss: 0.1004 - val_accuracy: 0.9815\n",
      "Epoch 12/20\n",
      "469/469 [==============================] - 5s 12ms/step - loss: 0.0248 - accuracy: 0.9927 - val_loss: 0.1122 - val_accuracy: 0.9806\n",
      "Epoch 13/20\n",
      "469/469 [==============================] - 5s 11ms/step - loss: 0.0236 - accuracy: 0.9932 - val_loss: 0.1078 - val_accuracy: 0.9812\n",
      "Epoch 14/20\n",
      "469/469 [==============================] - 6s 12ms/step - loss: 0.0232 - accuracy: 0.9939 - val_loss: 0.1003 - val_accuracy: 0.9822\n",
      "Epoch 15/20\n",
      "469/469 [==============================] - 5s 11ms/step - loss: 0.0229 - accuracy: 0.9940 - val_loss: 0.1087 - val_accuracy: 0.9828\n",
      "Epoch 16/20\n",
      "469/469 [==============================] - 5s 12ms/step - loss: 0.0193 - accuracy: 0.9945 - val_loss: 0.1241 - val_accuracy: 0.9819\n",
      "Epoch 17/20\n",
      "469/469 [==============================] - 5s 12ms/step - loss: 0.0193 - accuracy: 0.9948 - val_loss: 0.1107 - val_accuracy: 0.9836\n",
      "Epoch 18/20\n",
      "469/469 [==============================] - 5s 12ms/step - loss: 0.0180 - accuracy: 0.9950 - val_loss: 0.1234 - val_accuracy: 0.9822\n",
      "Epoch 19/20\n",
      "469/469 [==============================] - 5s 12ms/step - loss: 0.0176 - accuracy: 0.9952 - val_loss: 0.1192 - val_accuracy: 0.9826\n",
      "Epoch 20/20\n",
      "469/469 [==============================] - 5s 12ms/step - loss: 0.0190 - accuracy: 0.9950 - val_loss: 0.1132 - val_accuracy: 0.9848\n",
      "Test loss: 0.1132269874215126\n",
      "Test accuracy: 0.9847999811172485\n"
     ]
    }
   ],
   "source": [
    "tf.debugging.set_log_device_placement(True)\n",
    "\n",
    "time_execution = dict()\n",
    "\n",
    "for dev in [d for d in tf.config.experimental.list_logical_devices() if not 'XLA' in d.name]:\n",
    "    start_time = time.time()\n",
    "\n",
    "    with tf.device(dev.name):\n",
    "\n",
    "        batch_size = 128\n",
    "        num_classes = 10\n",
    "        epochs = 20\n",
    "\n",
    "        # the data, shuffled and split between train and test sets\n",
    "        (x_train, y_train), (x_test, y_test) = mnist.load_data()\n",
    "\n",
    "        x_train = x_train.reshape(60000, 784)\n",
    "        x_test = x_test.reshape(10000, 784)\n",
    "        x_train = x_train.astype('float32')\n",
    "        x_test = x_test.astype('float32')\n",
    "        x_train /= 255\n",
    "        x_test /= 255\n",
    "        print(x_train.shape[0], 'train samples')\n",
    "        print(x_test.shape[0], 'test samples')\n",
    "\n",
    "        # convert class vectors to binary class matrices\n",
    "        y_train = keras.utils.to_categorical(y_train, num_classes)\n",
    "        y_test = keras.utils.to_categorical(y_test, num_classes)\n",
    "\n",
    "        model = Sequential()\n",
    "        model.add(Dense(512, activation='relu', input_shape=(784,)))\n",
    "        model.add(Dropout(0.2))\n",
    "        model.add(Dense(512, activation='relu'))\n",
    "        model.add(Dropout(0.2))\n",
    "        model.add(Dense(10, activation='softmax'))\n",
    "\n",
    "        model.summary()\n",
    "\n",
    "        model.compile(loss='categorical_crossentropy',\n",
    "                      optimizer=RMSprop(),\n",
    "                      metrics=['accuracy'])\n",
    "\n",
    "        history = model.fit(x_train, y_train,\n",
    "                            batch_size=batch_size,\n",
    "                            epochs=epochs,\n",
    "                            verbose=1,\n",
    "                            validation_data=(x_test, y_test))\n",
    "        score = model.evaluate(x_test, y_test, verbose=0)\n",
    "        print('Test loss:', score[0])\n",
    "        print('Test accuracy:', score[1])\n",
    "        \n",
    "        time_execution[dev.device_type] = time.time() - start_time"
   ]
  },
  {
   "cell_type": "code",
   "execution_count": 19,
   "metadata": {
    "ExecuteTime": {
     "end_time": "2020-11-12T19:43:31.037201Z",
     "start_time": "2020-11-12T19:43:31.014196Z"
    }
   },
   "outputs": [
    {
     "data": {
      "text/plain": [
       "{'CPU': 206.5521731376648, 'GPU': 109.61132764816284}"
      ]
     },
     "execution_count": 19,
     "metadata": {},
     "output_type": "execute_result"
    }
   ],
   "source": [
    "time_execution"
   ]
  },
  {
   "cell_type": "code",
   "execution_count": 20,
   "metadata": {
    "ExecuteTime": {
     "end_time": "2020-11-12T19:43:31.067188Z",
     "start_time": "2020-11-12T19:43:31.043381Z"
    }
   },
   "outputs": [
    {
     "data": {
      "text/plain": [
       "{'CPU': 206.5521731376648, 'GPU': 109.61132764816284}"
      ]
     },
     "execution_count": 20,
     "metadata": {},
     "output_type": "execute_result"
    }
   ],
   "source": [
    "time_execution"
   ]
  },
  {
   "cell_type": "code",
   "execution_count": null,
   "metadata": {},
   "outputs": [],
   "source": []
  }
 ],
 "metadata": {
  "kernelspec": {
   "display_name": "Python 3",
   "language": "python",
   "name": "python3"
  },
  "language_info": {
   "codemirror_mode": {
    "name": "ipython",
    "version": 3
   },
   "file_extension": ".py",
   "mimetype": "text/x-python",
   "name": "python",
   "nbconvert_exporter": "python",
   "pygments_lexer": "ipython3",
   "version": "3.7.9"
  },
  "toc": {
   "base_numbering": 1,
   "nav_menu": {},
   "number_sections": true,
   "sideBar": true,
   "skip_h1_title": true,
   "title_cell": "Table of Contents",
   "title_sidebar": "Table of Contents",
   "toc_cell": true,
   "toc_position": {},
   "toc_section_display": true,
   "toc_window_display": false
  },
  "varInspector": {
   "cols": {
    "lenName": 16,
    "lenType": 16,
    "lenVar": 40
   },
   "kernels_config": {
    "python": {
     "delete_cmd_postfix": "",
     "delete_cmd_prefix": "del ",
     "library": "var_list.py",
     "varRefreshCmd": "print(var_dic_list())"
    },
    "r": {
     "delete_cmd_postfix": ") ",
     "delete_cmd_prefix": "rm(",
     "library": "var_list.r",
     "varRefreshCmd": "cat(var_dic_list()) "
    }
   },
   "types_to_exclude": [
    "module",
    "function",
    "builtin_function_or_method",
    "instance",
    "_Feature"
   ],
   "window_display": false
  }
 },
 "nbformat": 4,
 "nbformat_minor": 4
}
